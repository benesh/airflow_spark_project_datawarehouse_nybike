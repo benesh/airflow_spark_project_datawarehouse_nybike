{
 "cells": [
  {
   "cell_type": "code",
   "execution_count": 1,
   "id": "b0a7caf2",
   "metadata": {},
   "outputs": [
    {
     "name": "stdout",
     "output_type": "stream",
     "text": [
      "hello world\n"
     ]
    }
   ],
   "source": [
    "print('hello world')"
   ]
  },
  {
   "cell_type": "code",
   "execution_count": null,
   "id": "226ca608",
   "metadata": {},
   "outputs": [
    {
     "name": "stderr",
     "output_type": "stream",
     "text": [
      "your 131072x1 screen size is bogus. expect trouble\n",
      "25/05/13 16:55:44 WARN Utils: Your hostname, DESKTOP-2ELJ47S resolves to a loopback address: 127.0.1.1; using 10.255.255.254 instead (on interface lo)\n",
      "25/05/13 16:55:44 WARN Utils: Set SPARK_LOCAL_IP if you need to bind to another address\n",
      "Setting default log level to \"WARN\".\n",
      "To adjust logging level use sc.setLogLevel(newLevel). For SparkR, use setLogLevel(newLevel).\n",
      "25/05/13 16:55:46 WARN NativeCodeLoader: Unable to load native-hadoop library for your platform... using builtin-java classes where applicable\n"
     ]
    },
    {
     "name": "stderr",
     "output_type": "stream",
     "text": [
      "25/05/13 16:56:01 WARN GarbageCollectionMetrics: To enable non-built-in garbage collector(s) List(G1 Concurrent GC), users should configure it(them) to spark.eventLog.gcMetrics.youngGenerationGarbageCollectors or spark.eventLog.gcMetrics.oldGenerationGarbageCollectors\n"
     ]
    }
   ],
   "source": [
    "from pyspark.sql import SparkSession\n",
    "spark = SparkSession.builder \\\n",
    "        .appName(\"spark-etl_nybike_bronze\") \\\n",
    "            .getOrCreate()"
   ]
  },
  {
   "cell_type": "code",
   "execution_count": 2,
   "id": "90d8681d",
   "metadata": {},
   "outputs": [],
   "source": [
    "df= spark.read.csv('volumes_and_data_services/data_nybike/2013-citibike-tripdata/6_June/201306-citibike-tripdata_1.csv',header=True)"
   ]
  },
  {
   "cell_type": "code",
   "execution_count": 7,
   "id": "56dea9e6",
   "metadata": {},
   "outputs": [
    {
     "name": "stdout",
     "output_type": "stream",
     "text": [
      "+------------+-------------------+-------------------+----------------+--------------------+----------------------+-----------------------+--------------+--------------------+--------------------+---------------------+------+----------+----------+------+---------+\n",
      "|tripduration|          starttime|           stoptime|start station id|  start station name|start station latitude|start station longitude|end station id|    end station name|end station latitude|end station longitude|bikeid|  usertype|birth year|gender|genre_enr|\n",
      "+------------+-------------------+-------------------+----------------+--------------------+----------------------+-----------------------+--------------+--------------------+--------------------+---------------------+------+----------+----------+------+---------+\n",
      "|         695|2013-06-01 00:00:01|2013-06-01 00:11:36|             444|  Broadway & W 24 St|            40.7423543|           -73.98915076|         434.0|     9 Ave & W 18 St|         40.74317449|         -74.00366443| 19678|Subscriber|    1983.0|     1|FEMMEUILE|\n",
      "|         693|2013-06-01 00:00:08|2013-06-01 00:11:41|             444|  Broadway & W 24 St|            40.7423543|           -73.98915076|         434.0|     9 Ave & W 18 St|         40.74317449|         -74.00366443| 16649|Subscriber|    1984.0|     1|FEMMEUILE|\n",
      "|        2059|2013-06-01 00:00:44|2013-06-01 00:35:03|             406|Hicks St & Montag...|           40.69512845|           -73.99595065|         406.0|Hicks St & Montag...|         40.69512845|         -73.99595065| 19599|  Customer|      NULL|     0|FEMMEUILE|\n",
      "|         123|2013-06-01 00:01:04|2013-06-01 00:03:07|             475| E 15 St & Irving Pl|           40.73524276|           -73.98758561|         262.0|     Washington Park|          40.6917823|          -73.9737299| 16352|Subscriber|    1960.0|     1|FEMMEUILE|\n",
      "+------------+-------------------+-------------------+----------------+--------------------+----------------------+-----------------------+--------------+--------------------+--------------------+---------------------+------+----------+----------+------+---------+\n",
      "only showing top 4 rows\n",
      "\n"
     ]
    }
   ],
   "source": [
    "df.show(4)"
   ]
  },
  {
   "cell_type": "code",
   "execution_count": 5,
   "id": "dfa69597",
   "metadata": {},
   "outputs": [],
   "source": [
    "import sys\n",
    "import os\n",
    "\n",
    "# Add the src directory to the Python path\n",
    "sys.path.append(os.path.abspath(\"src/jobs/pyspark\"))"
   ]
  },
  {
   "cell_type": "code",
   "execution_count": 6,
   "id": "12dd907d",
   "metadata": {},
   "outputs": [
    {
     "name": "stdout",
     "output_type": "stream",
     "text": [
      "Column With value literal initiated\n"
     ]
    }
   ],
   "source": [
    "from src.jobs.pyspark.interfaces import *\n",
    "from src.jobs.pyspark.transformers import *\n",
    "from pyspark.sql.functions import lit\n",
    "\n",
    "df = AddColumnWithLiteralValue().run(df,{'column_to_add':{'column_name':'genre_enr','column_value':'FEMMEUILE'}})"
   ]
  },
  {
   "cell_type": "code",
   "execution_count": 12,
   "id": "2a36fcce",
   "metadata": {},
   "outputs": [],
   "source": [
    "transform = AddRideType()"
   ]
  },
  {
   "cell_type": "code",
   "execution_count": 18,
   "id": "31cd3d0d",
   "metadata": {},
   "outputs": [
    {
     "name": "stdout",
     "output_type": "stream",
     "text": [
      "Ride type add column initiated\n",
      "+------------+-------------------+-------------------+----------------+--------------------+----------------------+-----------------------+--------------+--------------------+--------------------+---------------------+------+----------+----------+------+-------------+\n",
      "|tripduration|          starttime|           stoptime|start station id|  start station name|start station latitude|start station longitude|end station id|    end station name|end station latitude|end station longitude|bikeid|  usertype|birth year|gender|rideable_type|\n",
      "+------------+-------------------+-------------------+----------------+--------------------+----------------------+-----------------------+--------------+--------------------+--------------------+---------------------+------+----------+----------+------+-------------+\n",
      "|         695|2013-06-01 00:00:01|2013-06-01 00:11:36|             444|  Broadway & W 24 St|            40.7423543|           -73.98915076|         434.0|     9 Ave & W 18 St|         40.74317449|         -74.00366443| 19678|Subscriber|    1983.0|     1| classic_bike|\n",
      "|         693|2013-06-01 00:00:08|2013-06-01 00:11:41|             444|  Broadway & W 24 St|            40.7423543|           -73.98915076|         434.0|     9 Ave & W 18 St|         40.74317449|         -74.00366443| 16649|Subscriber|    1984.0|     1| classic_bike|\n",
      "|        2059|2013-06-01 00:00:44|2013-06-01 00:35:03|             406|Hicks St & Montag...|           40.69512845|           -73.99595065|         406.0|Hicks St & Montag...|         40.69512845|         -73.99595065| 19599|  Customer|      NULL|     0| classic_bike|\n",
      "|         123|2013-06-01 00:01:04|2013-06-01 00:03:07|             475| E 15 St & Irving Pl|           40.73524276|           -73.98758561|         262.0|     Washington Park|          40.6917823|          -73.9737299| 16352|Subscriber|    1960.0|     1| classic_bike|\n",
      "|        1521|2013-06-01 00:01:22|2013-06-01 00:26:43|            2008|Little West St & ...|           40.70569254|           -74.01677685|         310.0| State St & Smith St|         40.68926942|         -73.98912867| 15567|Subscriber|    1983.0|     1| classic_bike|\n",
      "+------------+-------------------+-------------------+----------------+--------------------+----------------------+-----------------------+--------------+--------------------+--------------------+---------------------+------+----------+----------+------+-------------+\n",
      "only showing top 5 rows\n",
      "\n"
     ]
    }
   ],
   "source": [
    "transform.run(df,config={}).show(5)"
   ]
  }
 ],
 "metadata": {
  "kernelspec": {
   "display_name": "etl-datawahouse-nybike-04ju5hT8-py3.11",
   "language": "python",
   "name": "python3"
  },
  "language_info": {
   "codemirror_mode": {
    "name": "ipython",
    "version": 3
   },
   "file_extension": ".py",
   "mimetype": "text/x-python",
   "name": "python",
   "nbconvert_exporter": "python",
   "pygments_lexer": "ipython3",
   "version": "3.11.11"
  }
 },
 "nbformat": 4,
 "nbformat_minor": 5
}
