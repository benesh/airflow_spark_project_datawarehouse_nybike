{
 "cells": [
  {
   "cell_type": "code",
   "execution_count": 1,
   "id": "b0a7caf2",
   "metadata": {},
   "outputs": [
    {
     "name": "stdout",
     "output_type": "stream",
     "text": [
      "hello world\n"
     ]
    }
   ],
   "source": [
    "print('hello world')"
   ]
  },
  {
   "cell_type": "code",
   "execution_count": 1,
   "id": "226ca608",
   "metadata": {},
   "outputs": [
    {
     "name": "stderr",
     "output_type": "stream",
     "text": [
      "your 131072x1 screen size is bogus. expect trouble\n",
      "25/05/18 23:56:37 WARN Utils: Your hostname, DESKTOP-2ELJ47S resolves to a loopback address: 127.0.1.1; using 10.255.255.254 instead (on interface lo)\n",
      "25/05/18 23:56:37 WARN Utils: Set SPARK_LOCAL_IP if you need to bind to another address\n",
      "Setting default log level to \"WARN\".\n",
      "To adjust logging level use sc.setLogLevel(newLevel). For SparkR, use setLogLevel(newLevel).\n",
      "25/05/18 23:56:37 WARN NativeCodeLoader: Unable to load native-hadoop library for your platform... using builtin-java classes where applicable\n"
     ]
    }
   ],
   "source": [
    "from pyspark.sql import SparkSession\n",
    "spark = SparkSession.builder \\\n",
    "        .appName(\"spark-etl_nybike_bronze\") \\\n",
    "            .getOrCreate()"
   ]
  },
  {
   "cell_type": "code",
   "execution_count": 2,
   "id": "90d8681d",
   "metadata": {},
   "outputs": [],
   "source": [
    "df= spark.read.csv('volumes_and_data_services/data_nybike/2013-citibike-tripdata/6_June/201306-citibike-tripdata_1.csv',header=True)"
   ]
  },
  {
   "cell_type": "code",
   "execution_count": null,
   "id": "6ec4c911",
   "metadata": {},
   "outputs": [
    {
     "name": "stdout",
     "output_type": "stream",
     "text": [
      "+------------+-------------------+-------------------+----------------+--------------------+----------------------+-----------------------+--------------+--------------------+--------------------+---------------------+------+----------+----------+------+---------+\n",
      "|tripduration|          starttime|           stoptime|start station id|  start station name|start station latitude|start station longitude|end station id|    end station name|end station latitude|end station longitude|bikeid|  usertype|birth year|gender|genre_enr|\n",
      "+------------+-------------------+-------------------+----------------+--------------------+----------------------+-----------------------+--------------+--------------------+--------------------+---------------------+------+----------+----------+------+---------+\n",
      "|         695|2013-06-01 00:00:01|2013-06-01 00:11:36|             444|  Broadway & W 24 St|            40.7423543|           -73.98915076|         434.0|     9 Ave & W 18 St|         40.74317449|         -74.00366443| 19678|Subscriber|    1983.0|     1|FEMMEUILE|\n",
      "|         693|2013-06-01 00:00:08|2013-06-01 00:11:41|             444|  Broadway & W 24 St|            40.7423543|           -73.98915076|         434.0|     9 Ave & W 18 St|         40.74317449|         -74.00366443| 16649|Subscriber|    1984.0|     1|FEMMEUILE|\n",
      "|        2059|2013-06-01 00:00:44|2013-06-01 00:35:03|             406|Hicks St & Montag...|           40.69512845|           -73.99595065|         406.0|Hicks St & Montag...|         40.69512845|         -73.99595065| 19599|  Customer|      NULL|     0|FEMMEUILE|\n",
      "|         123|2013-06-01 00:01:04|2013-06-01 00:03:07|             475| E 15 St & Irving Pl|           40.73524276|           -73.98758561|         262.0|     Washington Park|          40.6917823|          -73.9737299| 16352|Subscriber|    1960.0|     1|FEMMEUILE|\n",
      "|        1521|2013-06-01 00:01:22|2013-06-01 00:26:43|            2008|Little West St & ...|           40.70569254|           -74.01677685|         310.0| State St & Smith St|         40.68926942|         -73.98912867| 15567|Subscriber|    1983.0|     1|FEMMEUILE|\n",
      "|        2028|2013-06-01 00:01:47|2013-06-01 00:35:35|             485|     W 37 St & 5 Ave|           40.75038009|           -73.98338988|         406.0|Hicks St & Montag...|         40.69512845|         -73.99595065| 18445|  Customer|      NULL|     0|FEMMEUILE|\n",
      "|        2057|2013-06-01 00:02:33|2013-06-01 00:36:50|             285|  Broadway & E 14 St|           40.73454567|           -73.99074142|         532.0|     S 5 Pl & S 5 St|           40.710451|           -73.960876| 15693|Subscriber|    1991.0|     1|FEMMEUILE|\n",
      "|         369|2013-06-01 00:03:29|2013-06-01 00:09:38|             509|     9 Ave & W 22 St|            40.7454973|           -74.00197139|         521.0|   8 Ave & W 31 St N|   40.75096734871598|   -73.99444207549095| 16100|Subscriber|    1981.0|     1|FEMMEUILE|\n",
      "|        1829|2013-06-01 00:03:47|2013-06-01 00:34:16|             265|Stanton St & Chry...|           40.72229346|           -73.99147535|         436.0|Hancock St & Bedf...|         40.68216564|         -73.95399026| 15234|Subscriber|    1984.0|     1|FEMMEUILE|\n",
      "|         829|2013-06-01 00:04:22|2013-06-01 00:18:11|             404|     9 Ave & W 14 St|            40.7405826|           -74.00550867|         303.0|Mercer St & Sprin...|         40.72362738|         -73.99949601| 16400|Subscriber|    1987.0|     1|FEMMEUILE|\n",
      "+------------+-------------------+-------------------+----------------+--------------------+----------------------+-----------------------+--------------+--------------------+--------------------+---------------------+------+----------+----------+------+---------+\n",
      "only showing top 10 rows\n",
      "\n"
     ]
    },
    {
     "name": "stderr",
     "output_type": "stream",
     "text": [
      "25/05/18 23:56:56 WARN GarbageCollectionMetrics: To enable non-built-in garbage collector(s) List(G1 Concurrent GC), users should configure it(them) to spark.eventLog.gcMetrics.youngGenerationGarbageCollectors or spark.eventLog.gcMetrics.oldGenerationGarbageCollectors\n"
     ]
    }
   ],
   "source": [
    "df.show(10)"
   ]
  },
  {
   "cell_type": "code",
   "execution_count": 4,
   "id": "56dea9e6",
   "metadata": {},
   "outputs": [],
   "source": [
    "from pyspark.sql.functions import to_timestamp,col\n",
    "df=df.withColumn('starttime',to_timestamp(col('starttime')))"
   ]
  },
  {
   "cell_type": "code",
   "execution_count": 4,
   "id": "dfa69597",
   "metadata": {},
   "outputs": [],
   "source": [
    "import sys\n",
    "import os\n",
    "\n",
    "# Add the src directory to the Python path\n",
    "sys.path.append(os.path.abspath(\"src/jobs/pyspark\"))"
   ]
  },
  {
   "cell_type": "code",
   "execution_count": 5,
   "id": "12dd907d",
   "metadata": {},
   "outputs": [
    {
     "name": "stdout",
     "output_type": "stream",
     "text": [
      "Column With value literal initiated\n"
     ]
    }
   ],
   "source": [
    "from src.jobs.pyspark.interfaces import *\n",
    "from src.jobs.pyspark.transformers import *\n",
    "from pyspark.sql.functions import lit\n",
    "df = AddColumnWithLiteralValue().run(df,{'column_to_add':{'column_name':'genre_enr','column_value':'FEMMEUILE'}})"
   ]
  },
  {
   "cell_type": "code",
   "execution_count": null,
   "id": "3cc4fe24",
   "metadata": {},
   "outputs": [],
   "source": [
    "import uuid\n",
    "from src.jobs.pyspark.transformers import AddDimensionsForTimes"
   ]
  },
  {
   "cell_type": "code",
   "execution_count": 9,
   "id": "32a609d6",
   "metadata": {},
   "outputs": [
    {
     "name": "stdout",
     "output_type": "stream",
     "text": [
      "+------------+-------------------+-------------------+----------------+--------------------+----------------------+-----------------------+--------------+--------------------+--------------------+---------------------+------+----------+----------+------+--------------------+\n",
      "|tripduration|          starttime|           stoptime|start station id|  start station name|start station latitude|start station longitude|end station id|    end station name|end station latitude|end station longitude|bikeid|  usertype|birth year|gender|             id_uuid|\n",
      "+------------+-------------------+-------------------+----------------+--------------------+----------------------+-----------------------+--------------+--------------------+--------------------+---------------------+------+----------+----------+------+--------------------+\n",
      "|         695|2013-06-01 00:00:01|2013-06-01 00:11:36|             444|  Broadway & W 24 St|            40.7423543|           -73.98915076|         434.0|     9 Ave & W 18 St|         40.74317449|         -74.00366443| 19678|Subscriber|    1983.0|     1|37952491-ef5d-4ad...|\n",
      "|         693|2013-06-01 00:00:08|2013-06-01 00:11:41|             444|  Broadway & W 24 St|            40.7423543|           -73.98915076|         434.0|     9 Ave & W 18 St|         40.74317449|         -74.00366443| 16649|Subscriber|    1984.0|     1|525837ce-1d59-469...|\n",
      "|        2059|2013-06-01 00:00:44|2013-06-01 00:35:03|             406|Hicks St & Montag...|           40.69512845|           -73.99595065|         406.0|Hicks St & Montag...|         40.69512845|         -73.99595065| 19599|  Customer|      NULL|     0|cab448fa-d66a-458...|\n",
      "|         123|2013-06-01 00:01:04|2013-06-01 00:03:07|             475| E 15 St & Irving Pl|           40.73524276|           -73.98758561|         262.0|     Washington Park|          40.6917823|          -73.9737299| 16352|Subscriber|    1960.0|     1|0099c750-1a31-4fe...|\n",
      "|        1521|2013-06-01 00:01:22|2013-06-01 00:26:43|            2008|Little West St & ...|           40.70569254|           -74.01677685|         310.0| State St & Smith St|         40.68926942|         -73.98912867| 15567|Subscriber|    1983.0|     1|f2d61d6c-136b-432...|\n",
      "|        2028|2013-06-01 00:01:47|2013-06-01 00:35:35|             485|     W 37 St & 5 Ave|           40.75038009|           -73.98338988|         406.0|Hicks St & Montag...|         40.69512845|         -73.99595065| 18445|  Customer|      NULL|     0|e0135bf5-f6db-473...|\n",
      "|        2057|2013-06-01 00:02:33|2013-06-01 00:36:50|             285|  Broadway & E 14 St|           40.73454567|           -73.99074142|         532.0|     S 5 Pl & S 5 St|           40.710451|           -73.960876| 15693|Subscriber|    1991.0|     1|ee974801-ecf8-423...|\n",
      "|         369|2013-06-01 00:03:29|2013-06-01 00:09:38|             509|     9 Ave & W 22 St|            40.7454973|           -74.00197139|         521.0|   8 Ave & W 31 St N|   40.75096734871598|   -73.99444207549095| 16100|Subscriber|    1981.0|     1|7e302e80-4885-45f...|\n",
      "|        1829|2013-06-01 00:03:47|2013-06-01 00:34:16|             265|Stanton St & Chry...|           40.72229346|           -73.99147535|         436.0|Hancock St & Bedf...|         40.68216564|         -73.95399026| 15234|Subscriber|    1984.0|     1|08ea5e7e-d073-440...|\n",
      "|         829|2013-06-01 00:04:22|2013-06-01 00:18:11|             404|     9 Ave & W 14 St|            40.7405826|           -74.00550867|         303.0|Mercer St & Sprin...|         40.72362738|         -73.99949601| 16400|Subscriber|    1987.0|     1|2c242e91-4bf4-4e7...|\n",
      "+------------+-------------------+-------------------+----------------+--------------------+----------------------+-----------------------+--------------+--------------------+--------------------+---------------------+------+----------+----------+------+--------------------+\n",
      "only showing top 10 rows\n",
      "\n"
     ]
    }
   ],
   "source": [
    "import uuid\n",
    "from pyspark.sql.functions import udf,coalesce,when,col,lit,hash,datediff,year,quarter,dayofmonth,month,dayofweek,date_format,concat,to_timestamp,udf,isnull ,when\n",
    "\n",
    "@udf\n",
    "def uuid_gen():\n",
    "    return str(uuid.uuid4())\n",
    "\n",
    "# df.select('*',uuid_gen().alias('id_uuid')).show(10)\n",
    "df.withColumn('id_uuid',uuid_gen()).show(10)"
   ]
  },
  {
   "cell_type": "code",
   "execution_count": 7,
   "id": "7a8b12c7",
   "metadata": {},
   "outputs": [
    {
     "name": "stdout",
     "output_type": "stream",
     "text": [
      "Dimensions time column add initiated\n",
      "+------------+-------------------+-------------------+----------------+--------------------+----------------------+-----------------------+--------------+--------------------+--------------------+---------------------+------+----------+----------+------+---------+----+-----+-------+---+-------+----------+------------+------------+\n",
      "|tripduration|          starttime|           stoptime|start station id|  start station name|start station latitude|start station longitude|end station id|    end station name|end station latitude|end station longitude|bikeid|  usertype|birth year|gender|genre_enr|year|month|quarter|day|weekday|month_name|weekday_name|quarter_name|\n",
      "+------------+-------------------+-------------------+----------------+--------------------+----------------------+-----------------------+--------------+--------------------+--------------------+---------------------+------+----------+----------+------+---------+----+-----+-------+---+-------+----------+------------+------------+\n",
      "|         695|2013-06-01 00:00:01|2013-06-01 00:11:36|             444|  Broadway & W 24 St|            40.7423543|           -73.98915076|         434.0|     9 Ave & W 18 St|         40.74317449|         -74.00366443| 19678|Subscriber|    1983.0|     1|FEMMEUILE|2013|    6|      2|  1|      7|      June|    Saturday|      2013Q2|\n",
      "|         693|2013-06-01 00:00:08|2013-06-01 00:11:41|             444|  Broadway & W 24 St|            40.7423543|           -73.98915076|         434.0|     9 Ave & W 18 St|         40.74317449|         -74.00366443| 16649|Subscriber|    1984.0|     1|FEMMEUILE|2013|    6|      2|  1|      7|      June|    Saturday|      2013Q2|\n",
      "|        2059|2013-06-01 00:00:44|2013-06-01 00:35:03|             406|Hicks St & Montag...|           40.69512845|           -73.99595065|         406.0|Hicks St & Montag...|         40.69512845|         -73.99595065| 19599|  Customer|      NULL|     0|FEMMEUILE|2013|    6|      2|  1|      7|      June|    Saturday|      2013Q2|\n",
      "|         123|2013-06-01 00:01:04|2013-06-01 00:03:07|             475| E 15 St & Irving Pl|           40.73524276|           -73.98758561|         262.0|     Washington Park|          40.6917823|          -73.9737299| 16352|Subscriber|    1960.0|     1|FEMMEUILE|2013|    6|      2|  1|      7|      June|    Saturday|      2013Q2|\n",
      "|        1521|2013-06-01 00:01:22|2013-06-01 00:26:43|            2008|Little West St & ...|           40.70569254|           -74.01677685|         310.0| State St & Smith St|         40.68926942|         -73.98912867| 15567|Subscriber|    1983.0|     1|FEMMEUILE|2013|    6|      2|  1|      7|      June|    Saturday|      2013Q2|\n",
      "+------------+-------------------+-------------------+----------------+--------------------+----------------------+-----------------------+--------------+--------------------+--------------------+---------------------+------+----------+----------+------+---------+----+-----+-------+---+-------+----------+------------+------------+\n",
      "only showing top 5 rows\n",
      "\n"
     ]
    }
   ],
   "source": [
    "from src.jobs.pyspark.interfaces import *\n",
    "from src.jobs.pyspark.transformers import AddDimensionsForTimesv2\n",
    "from pyspark.sql.functions import *\n",
    "config={'datetime_column':'starttime'}\n",
    "# df.show(1)\n",
    "AddDimensionsForTimesv2().run(df,config).show(5)\n"
   ]
  },
  {
   "cell_type": "code",
   "execution_count": 15,
   "id": "97fecd2e",
   "metadata": {},
   "outputs": [
    {
     "name": "stdout",
     "output_type": "stream",
     "text": [
      "Add uuid in to th column: uuid_id\n",
      "+------------+-------------------+-------------------+----------------+--------------------+----------------------+-----------------------+--------------+--------------------+--------------------+---------------------+------+----------+----------+------+---------+--------------------+\n",
      "|tripduration|          starttime|           stoptime|start station id|  start station name|start station latitude|start station longitude|end station id|    end station name|end station latitude|end station longitude|bikeid|  usertype|birth year|gender|genre_enr|             uuid_id|\n",
      "+------------+-------------------+-------------------+----------------+--------------------+----------------------+-----------------------+--------------+--------------------+--------------------+---------------------+------+----------+----------+------+---------+--------------------+\n",
      "|         695|2013-06-01 00:00:01|2013-06-01 00:11:36|             444|  Broadway & W 24 St|            40.7423543|           -73.98915076|         434.0|     9 Ave & W 18 St|         40.74317449|         -74.00366443| 19678|Subscriber|    1983.0|     1|FEMMEUILE|f92ee793-b450-490...|\n",
      "|         693|2013-06-01 00:00:08|2013-06-01 00:11:41|             444|  Broadway & W 24 St|            40.7423543|           -73.98915076|         434.0|     9 Ave & W 18 St|         40.74317449|         -74.00366443| 16649|Subscriber|    1984.0|     1|FEMMEUILE|6dbbe671-4ff3-4a3...|\n",
      "|        2059|2013-06-01 00:00:44|2013-06-01 00:35:03|             406|Hicks St & Montag...|           40.69512845|           -73.99595065|         406.0|Hicks St & Montag...|         40.69512845|         -73.99595065| 19599|  Customer|      NULL|     0|FEMMEUILE|c05fc4f7-d047-420...|\n",
      "|         123|2013-06-01 00:01:04|2013-06-01 00:03:07|             475| E 15 St & Irving Pl|           40.73524276|           -73.98758561|         262.0|     Washington Park|          40.6917823|          -73.9737299| 16352|Subscriber|    1960.0|     1|FEMMEUILE|f5deb0b2-8c98-401...|\n",
      "|        1521|2013-06-01 00:01:22|2013-06-01 00:26:43|            2008|Little West St & ...|           40.70569254|           -74.01677685|         310.0| State St & Smith St|         40.68926942|         -73.98912867| 15567|Subscriber|    1983.0|     1|FEMMEUILE|b47ce78b-c829-46b...|\n",
      "+------------+-------------------+-------------------+----------------+--------------------+----------------------+-----------------------+--------------+--------------------+--------------------+---------------------+------+----------+----------+------+---------+--------------------+\n",
      "only showing top 5 rows\n",
      "\n"
     ]
    }
   ],
   "source": [
    "from src.jobs.pyspark.interfaces import *\n",
    "from src.jobs.pyspark.transformers import AddUuidToColumnID\n",
    "from pyspark.sql.functions import *\n",
    "config={'column_id':'uuid_id'}\n",
    "# df.show(1)\n",
    "AddUuidToColumnID().run(df,config).show(5)"
   ]
  },
  {
   "cell_type": "code",
   "execution_count": 12,
   "id": "2a36fcce",
   "metadata": {},
   "outputs": [],
   "source": [
    "transform = AddRideType()"
   ]
  },
  {
   "cell_type": "code",
   "execution_count": 18,
   "id": "31cd3d0d",
   "metadata": {},
   "outputs": [
    {
     "name": "stdout",
     "output_type": "stream",
     "text": [
      "Ride type add column initiated\n",
      "+------------+-------------------+-------------------+----------------+--------------------+----------------------+-----------------------+--------------+--------------------+--------------------+---------------------+------+----------+----------+------+-------------+\n",
      "|tripduration|          starttime|           stoptime|start station id|  start station name|start station latitude|start station longitude|end station id|    end station name|end station latitude|end station longitude|bikeid|  usertype|birth year|gender|rideable_type|\n",
      "+------------+-------------------+-------------------+----------------+--------------------+----------------------+-----------------------+--------------+--------------------+--------------------+---------------------+------+----------+----------+------+-------------+\n",
      "|         695|2013-06-01 00:00:01|2013-06-01 00:11:36|             444|  Broadway & W 24 St|            40.7423543|           -73.98915076|         434.0|     9 Ave & W 18 St|         40.74317449|         -74.00366443| 19678|Subscriber|    1983.0|     1| classic_bike|\n",
      "|         693|2013-06-01 00:00:08|2013-06-01 00:11:41|             444|  Broadway & W 24 St|            40.7423543|           -73.98915076|         434.0|     9 Ave & W 18 St|         40.74317449|         -74.00366443| 16649|Subscriber|    1984.0|     1| classic_bike|\n",
      "|        2059|2013-06-01 00:00:44|2013-06-01 00:35:03|             406|Hicks St & Montag...|           40.69512845|           -73.99595065|         406.0|Hicks St & Montag...|         40.69512845|         -73.99595065| 19599|  Customer|      NULL|     0| classic_bike|\n",
      "|         123|2013-06-01 00:01:04|2013-06-01 00:03:07|             475| E 15 St & Irving Pl|           40.73524276|           -73.98758561|         262.0|     Washington Park|          40.6917823|          -73.9737299| 16352|Subscriber|    1960.0|     1| classic_bike|\n",
      "|        1521|2013-06-01 00:01:22|2013-06-01 00:26:43|            2008|Little West St & ...|           40.70569254|           -74.01677685|         310.0| State St & Smith St|         40.68926942|         -73.98912867| 15567|Subscriber|    1983.0|     1| classic_bike|\n",
      "+------------+-------------------+-------------------+----------------+--------------------+----------------------+-----------------------+--------------+--------------------+--------------------+---------------------+------+----------+----------+------+-------------+\n",
      "only showing top 5 rows\n",
      "\n"
     ]
    }
   ],
   "source": [
    "transform.run(df,config={}).show(5)"
   ]
  }
 ],
 "metadata": {
  "kernelspec": {
   "display_name": "etl-datawahouse-nybike-04ju5hT8-py3.11",
   "language": "python",
   "name": "python3"
  },
  "language_info": {
   "codemirror_mode": {
    "name": "ipython",
    "version": 3
   },
   "file_extension": ".py",
   "mimetype": "text/x-python",
   "name": "python",
   "nbconvert_exporter": "python",
   "pygments_lexer": "ipython3",
   "version": "3.11.12"
  }
 },
 "nbformat": 4,
 "nbformat_minor": 5
}
