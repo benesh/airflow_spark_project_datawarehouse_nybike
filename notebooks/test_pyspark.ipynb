{
 "cells": [
  {
   "cell_type": "code",
   "execution_count": 8,
   "id": "5bb774ff-15ac-4f2f-afdb-6ff666c95e6e",
   "metadata": {},
   "outputs": [],
   "source": [
    "from pyspark.sql import SparkSession\n",
    "# from pyspark.sql import\n",
    "from pyspark.sql.functions import when,col,lit,hash,datediff,xxhash64,year,quarter,dayofmonth,month,dayofweek,date_format,concat\n"
   ]
  },
  {
   "cell_type": "code",
   "execution_count": 9,
   "id": "aab30095-3faf-492f-b9f2-0704f2b93782",
   "metadata": {},
   "outputs": [],
   "source": [
    "spark = SparkSession.builder.appName(\"app-notebook\").getOrCreate()"
   ]
  },
  {
   "cell_type": "code",
   "execution_count": 10,
   "id": "696e1742-8fff-4be5-9f13-945387c7d907",
   "metadata": {},
   "outputs": [],
   "source": [
    "df = spark.read.format('csv').options(inferSchema='True',header='True').load('/opt/airflow/include/2024-citibike-tripdata/10/*.csv')"
   ]
  },
  {
   "cell_type": "code",
   "execution_count": 11,
   "id": "06e1881f-a242-4c35-b941-4e9eb57e409f",
   "metadata": {},
   "outputs": [
    {
     "name": "stdout",
     "output_type": "stream",
     "text": [
      "+----------------+-------------+--------------------+--------------------+--------------------+----------------+--------------------+--------------+-----------------+------------------+---------+----------+-------------+\n",
      "|         ride_id|rideable_type|          started_at|            ended_at|  start_station_name|start_station_id|    end_station_name|end_station_id|        start_lat|         start_lng|  end_lat|   end_lng|member_casual|\n",
      "+----------------+-------------+--------------------+--------------------+--------------------+----------------+--------------------+--------------+-----------------+------------------+---------+----------+-------------+\n",
      "|B4544C93905FA10E|electric_bike|2024-10-13 17:38:...|2024-10-13 17:45:...|Rutgers St & Henr...|         5230.02|Lafayette St & Gr...|       5422.09|40.71332151208186|-73.99009689688683| 40.72028| -73.99879|       member|\n",
      "|435860FFE89FC278|electric_bike|2024-10-06 00:58:...|2024-10-06 01:02:...|Washington Ave & ...|         8068.01|College Ave & E 1...|       8175.06|        40.829896|        -73.907618|40.837576|-73.910489|       member|\n",
      "+----------------+-------------+--------------------+--------------------+--------------------+----------------+--------------------+--------------+-----------------+------------------+---------+----------+-------------+\n",
      "only showing top 2 rows\n",
      "\n"
     ]
    }
   ],
   "source": [
    "df.show(2)"
   ]
  },
  {
   "cell_type": "code",
   "execution_count": null,
   "id": "84f3938a-40d1-447b-a321-1d86043704b7",
   "metadata": {},
   "outputs": [],
   "source": [
    "df.withColumn()"
   ]
  },
  {
   "cell_type": "code",
   "execution_count": 2,
   "id": "ada23c37-bee6-4d16-bad8-a4e7fcccd2fb",
   "metadata": {},
   "outputs": [
    {
     "name": "stdout",
     "output_type": "stream",
     "text": [
      "==> /opt/airflow/include/2023-citibike-tripdata/01/202301-citibike-tripdata_1.csv <==\n",
      "ride_id,rideable_type,started_at,ended_at,start_station_name,start_station_id,end_station_name,end_station_id,start_lat,start_lng,end_lat,end_lng,member_casual\n",
      "DC1CB984821DFFF7,classic_bike,2023-01-07 15:36:53.430,2023-01-07 15:39:45.406,Vesey St & Church St,5216.06,Albany St & Greenwich St,5145.02,40.71221958009051,-74.01047229766846,40.709267,-74.013247,member\n",
      "C00CA02971557F16,classic_bike,2023-01-04 19:23:01.234,2023-01-04 19:34:57.151,Lispenard St & Broadway,5391.06,St Marks Pl & 1 Ave,5626.13,40.71939226,-74.00247214,40.72779126,-73.98564945,member\n",
      "C753AE5EBD8458F9,classic_bike,2023-01-20 09:22:19.894,2023-01-20 10:23:24.255,3 Ave & Schermerhorn St,4437.01,State St & Smith St,4522.07,40.68683208,-73.9796772,40.68917,-73.9886,member\n",
      "E4415A543C1972A7,classic_bike,2023-01-24 10:38:01.135,2023-01-24 10:41:40.749,E 5 St & Ave A,5626.06,E 1 St & 1 Ave,5593.01,40.72479007746337,-73.98430064320564,40.72335597960796,-73.98864984512329,member\n",
      "BD52A87B215877C7,electric_bike,2023-01-13 10:17:38.192,2023-01-13 10:33:59.099,W 54 St & 11 Ave,6955.05,Washington St & Gansevoort St,6039.06,40.768292427,-73.992562771,40.739323,-74.008119,member\n",
      "4FC76B63F9FE631F,classic_bike,2023-01-26 19:17:23.200,2023-01-26 19:47:05.287,W 59 St & 10 Ave,7023.04,E 1 St & 1 Ave,5593.01,40.770513,-73.988038,40.72335597960796,-73.98864984512329,member\n",
      "680C4E3A801B0839,electric_bike,2023-01-13 12:25:17.234,2023-01-13 12:38:53.514,W 54 St & 11 Ave,6955.05,Washington St & Gansevoort St,6039.06,40.768242836,-73.992777467,40.739323,-74.008119,member\n",
      "153486234EA3E427,electric_bike,2023-01-10 08:29:04.191,2023-01-10 08:33:49.274,Barrow St & Hudson St,5805.05,Washington St & Gansevoort St,6039.06,40.73172428,-74.00674436,40.739323,-74.008119,member\n",
      "D24D370D9CE13CB4,classic_bike,2023-01-11 08:32:01.889,2023-01-11 08:38:26.498,Barrow St & Hudson St,5805.05,Washington St & Gansevoort St,6039.06,40.73172428,-74.00674436,40.739323,-74.008119,member\n",
      "\n",
      "==> /opt/airflow/include/2023-citibike-tripdata/01/202301-citibike-tripdata_2.csv <==\n",
      "ride_id,rideable_type,started_at,ended_at,start_station_name,start_station_id,end_station_name,end_station_id,start_lat,start_lng,end_lat,end_lng,member_casual\n",
      "D4503D51E937A9C7,electric_bike,2023-01-05 14:30:12.160,2023-01-05 14:35:10.911,W 36 St & 7 Ave,6483.06,W 31 St & 7 Ave,6331.01,40.752004743,-73.989449978,40.749156,-73.9916,member\n",
      "57AE7687F811FDD8,classic_bike,2023-01-21 11:21:14.610,2023-01-21 11:24:26.385,Broadway & W 61 St,7014.12,Amsterdam Ave & W 66 St,7149.05,40.77003010255044,-73.9819684624672,40.7746671,-73.98470567,member\n",
      "0D449F2D8BF0454E,electric_bike,2023-01-11 02:27:18.311,2023-01-11 02:33:23.143,Broadway & W 41 St,6560.01,E 39 St & 2 Ave,6345.08,40.755134463,-73.986233115,40.74803319428767,-73.973827958107,member\n",
      "66CF3BA2811C5894,electric_bike,2023-01-17 17:39:42.679,2023-01-17 17:44:24.076,President St & 4 Ave,4101.17,Smith St & 3 St,4151.01,40.676693082,-73.983126521,40.6787242,-73.99599099,member\n",
      "389CCC81F6EF3000,electric_bike,2023-01-04 16:35:57.768,2023-01-04 16:45:17.623,W 59 St & 10 Ave,7023.04,E 65 St & 2 Ave,6860.12,40.77071023,-73.987825751,40.76471851944339,-73.96222069859505,member\n",
      "C70089DA57D0E0E6,classic_bike,2023-01-29 06:55:26.674,2023-01-29 07:07:44.335,Union Ave & Jackson St,5300.06,India St & Manhattan Ave,5826.02,40.7160751,-73.952029,40.73232194,-73.9550858,member\n",
      "3B0226C263EF70A0,classic_bike,2023-01-09 17:54:25.552,2023-01-09 18:12:19.212,1 Ave & E 44 St,6379.03,W 31 St & 7 Ave,6331.01,40.75001986,-73.96905301,40.749156,-73.9916,member\n",
      "EA6575E159F9C089,classic_bike,2023-01-17 19:44:27.743,2023-01-17 20:04:20.266,1 Ave & E 44 St,6379.03,E 39 St & 2 Ave,6345.08,40.75001986,-73.96905301,40.74803319428767,-73.973827958107,member\n",
      "A932A8F3BA0A60D1,electric_bike,2023-01-27 16:18:28.661,2023-01-27 16:43:05.955,Amsterdam Ave & W 73 St,7260.09,W 90 St & Amsterdam Ave,7432.04,40.779481292,-73.981169343,40.79017948095081,-73.97288918495178,member\n"
     ]
    }
   ],
   "source": [
    "!head /opt/airflow/include/2023-citibike-tripdata/01/*.csv"
   ]
  },
  {
   "cell_type": "code",
   "execution_count": 8,
   "id": "c3cc0ec2-eb71-41aa-8122-31c2b4ecd1eb",
   "metadata": {},
   "outputs": [],
   "source": [
    "df2 = df.withColumn('weekdayname', date_format('starttime','EEEE'))"
   ]
  },
  {
   "cell_type": "code",
   "execution_count": 9,
   "id": "f22cf3d3-82be-4a38-b53f-8c22bb298548",
   "metadata": {},
   "outputs": [
    {
     "name": "stdout",
     "output_type": "stream",
     "text": [
      "+------------+-------------------+-------------------+----------------+--------------------+----------------------+-----------------------+--------------+--------------------+--------------------+---------------------+------+----------+----------+------+-----------+\n",
      "|tripduration|          starttime|           stoptime|start station id|  start station name|start station latitude|start station longitude|end station id|    end station name|end station latitude|end station longitude|bikeid|  usertype|birth year|gender|weekdayname|\n",
      "+------------+-------------------+-------------------+----------------+--------------------+----------------------+-----------------------+--------------+--------------------+--------------------+---------------------+------+----------+----------+------+-----------+\n",
      "|         326|2013-10-01 00:01:08|2013-10-01 00:06:34|             239|Willoughby St & F...|           40.69196566|            -73.9813018|           366|Clinton Ave & Myr...|           40.693261|           -73.968896| 16052|Subscriber|      1982|     1|    Tuesday|\n",
      "|         729|2013-10-01 00:01:21|2013-10-01 00:13:30|             322|Clinton St & Till...|             40.696192|             -73.991218|           398|Atlantic Ave & Fu...|         40.69165183|          -73.9999786| 19412|  Customer|        \\N|     0|    Tuesday|\n",
      "|         520|2013-10-01 00:01:24|2013-10-01 00:10:04|             174|     E 25 St & 1 Ave|            40.7381765|           -73.97738662|           403|      E 2 St & 2 Ave|         40.72502876|         -73.99069656| 19645|Subscriber|      1984|     1|    Tuesday|\n",
      "+------------+-------------------+-------------------+----------------+--------------------+----------------------+-----------------------+--------------+--------------------+--------------------+---------------------+------+----------+----------+------+-----------+\n",
      "only showing top 3 rows\n",
      "\n"
     ]
    }
   ],
   "source": [
    "df2.show(3)"
   ]
  },
  {
   "cell_type": "code",
   "execution_count": null,
   "id": "1a311cef-73bb-4b49-a1c2-c8d6f0d23016",
   "metadata": {},
   "outputs": [],
   "source": [
    "# from geopy.distance import geodesic\n",
    "import yaml\n",
    "import os\n",
    "# from pyspark.sql import SparkSession\n",
    "\n",
    "\n",
    "def config_reader(path:str):\n",
    "    # Load YAML config\n",
    "    with open(path, \"r\") as f:\n",
    "        config = yaml.safe_load(f)\n",
    "\n",
    "    # Fetch secrets from environment variables\n",
    "    # source_config = config[\"source\"]\n",
    "    # source_config[\"password\"] = os.environ[\"SOURCE_DB_PASSWORD\"]  # Inject password\n",
    "    # etl_config = config['etl_conf']\n",
    "\n",
    "    # dest_config = config[\"destination\"]\n",
    "    # dest_config[\"password\"] = os.environ[\"DEST_DB_PASSWORD\"]\n",
    "    return config"
   ]
  },
  {
   "cell_type": "code",
   "execution_count": 3,
   "id": "eb101f88-6612-43c1-8ba7-d4dab360daf3",
   "metadata": {},
   "outputs": [],
   "source": [
    "test_string=\"detele moug {test2}\""
   ]
  },
  {
   "cell_type": "code",
   "execution_count": 4,
   "id": "5933acba-2f99-4667-b126-2bc71bfe2c43",
   "metadata": {},
   "outputs": [],
   "source": [
    "test_2=\"choisir\""
   ]
  },
  {
   "cell_type": "code",
   "execution_count": 6,
   "id": "7fd77d00-dac1-4b9c-be12-c40f2debbda6",
   "metadata": {},
   "outputs": [
    {
     "name": "stdout",
     "output_type": "stream",
     "text": [
      "Hello, my name is Alice and I am '30' years old.\n"
     ]
    }
   ],
   "source": [
    "# Create the string with placeholders\n",
    "template = \"Hello, my name is {} and I am '{}' years old.\"\n",
    "\n",
    "# Inject values later\n",
    "name = \"Alice\"\n",
    "age = 30\n",
    "result = template.format(name, age)\n",
    "\n",
    "print(result)"
   ]
  },
  {
   "cell_type": "code",
   "execution_count": 13,
   "id": "0afa49cf-a3c0-4e4f-bb75-0f482dcf086e",
   "metadata": {},
   "outputs": [],
   "source": [
    "spark.stop()"
   ]
  }
 ],
 "metadata": {
  "kernelspec": {
   "display_name": "Python 3 (ipykernel)",
   "language": "python",
   "name": "python3"
  },
  "language_info": {
   "codemirror_mode": {
    "name": "ipython",
    "version": 3
   },
   "file_extension": ".py",
   "mimetype": "text/x-python",
   "name": "python",
   "nbconvert_exporter": "python",
   "pygments_lexer": "ipython3",
   "version": "3.12.9"
  }
 },
 "nbformat": 4,
 "nbformat_minor": 5
}
