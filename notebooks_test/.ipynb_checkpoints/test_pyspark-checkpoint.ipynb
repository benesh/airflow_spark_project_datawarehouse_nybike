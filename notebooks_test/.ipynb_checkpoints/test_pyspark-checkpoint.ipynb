{
 "cells": [
  {
   "cell_type": "code",
   "execution_count": 2,
   "id": "5bb774ff-15ac-4f2f-afdb-6ff666c95e6e",
   "metadata": {},
   "outputs": [],
   "source": [
    "from pyspark.sql import SparkSession\n",
    "# from pyspark.sql import\n",
    "from pyspark.sql.functions import when,col,lit,hash,datediff,xxhash64,year,quarter,dayofmonth,month,dayofweek,date_format,concat\n"
   ]
  },
  {
   "cell_type": "code",
   "execution_count": 3,
   "id": "aab30095-3faf-492f-b9f2-0704f2b93782",
   "metadata": {},
   "outputs": [],
   "source": [
    "spark = SparkSession.builder.appName(\"app-notebook\").getOrCreate()"
   ]
  },
  {
   "cell_type": "code",
   "execution_count": 6,
   "id": "696e1742-8fff-4be5-9f13-945387c7d907",
   "metadata": {},
   "outputs": [],
   "source": [
    "df = spark.read.format('csv').options(inferSchema='True',header='True').load('/opt/airflow/include/2013-citibike-tripdata/10_October/*.csv')"
   ]
  },
  {
   "cell_type": "code",
   "execution_count": 7,
   "id": "06e1881f-a242-4c35-b941-4e9eb57e409f",
   "metadata": {},
   "outputs": [
    {
     "name": "stdout",
     "output_type": "stream",
     "text": [
      "+------------+-------------------+-------------------+----------------+--------------------+----------------------+-----------------------+--------------+--------------------+--------------------+---------------------+------+----------+----------+------+\n",
      "|tripduration|          starttime|           stoptime|start station id|  start station name|start station latitude|start station longitude|end station id|    end station name|end station latitude|end station longitude|bikeid|  usertype|birth year|gender|\n",
      "+------------+-------------------+-------------------+----------------+--------------------+----------------------+-----------------------+--------------+--------------------+--------------------+---------------------+------+----------+----------+------+\n",
      "|         326|2013-10-01 00:01:08|2013-10-01 00:06:34|             239|Willoughby St & F...|           40.69196566|            -73.9813018|           366|Clinton Ave & Myr...|           40.693261|           -73.968896| 16052|Subscriber|      1982|     1|\n",
      "|         729|2013-10-01 00:01:21|2013-10-01 00:13:30|             322|Clinton St & Till...|             40.696192|             -73.991218|           398|Atlantic Ave & Fu...|         40.69165183|          -73.9999786| 19412|  Customer|        \\N|     0|\n",
      "+------------+-------------------+-------------------+----------------+--------------------+----------------------+-----------------------+--------------+--------------------+--------------------+---------------------+------+----------+----------+------+\n",
      "only showing top 2 rows\n",
      "\n"
     ]
    }
   ],
   "source": [
    "df.show(2)"
   ]
  },
  {
   "cell_type": "code",
   "execution_count": 8,
   "id": "c3cc0ec2-eb71-41aa-8122-31c2b4ecd1eb",
   "metadata": {},
   "outputs": [],
   "source": [
    "df2 = df.withColumn('weekdayname', date_format('starttime','EEEE'))"
   ]
  },
  {
   "cell_type": "code",
   "execution_count": 9,
   "id": "f22cf3d3-82be-4a38-b53f-8c22bb298548",
   "metadata": {},
   "outputs": [
    {
     "name": "stdout",
     "output_type": "stream",
     "text": [
      "+------------+-------------------+-------------------+----------------+--------------------+----------------------+-----------------------+--------------+--------------------+--------------------+---------------------+------+----------+----------+------+-----------+\n",
      "|tripduration|          starttime|           stoptime|start station id|  start station name|start station latitude|start station longitude|end station id|    end station name|end station latitude|end station longitude|bikeid|  usertype|birth year|gender|weekdayname|\n",
      "+------------+-------------------+-------------------+----------------+--------------------+----------------------+-----------------------+--------------+--------------------+--------------------+---------------------+------+----------+----------+------+-----------+\n",
      "|         326|2013-10-01 00:01:08|2013-10-01 00:06:34|             239|Willoughby St & F...|           40.69196566|            -73.9813018|           366|Clinton Ave & Myr...|           40.693261|           -73.968896| 16052|Subscriber|      1982|     1|    Tuesday|\n",
      "|         729|2013-10-01 00:01:21|2013-10-01 00:13:30|             322|Clinton St & Till...|             40.696192|             -73.991218|           398|Atlantic Ave & Fu...|         40.69165183|          -73.9999786| 19412|  Customer|        \\N|     0|    Tuesday|\n",
      "|         520|2013-10-01 00:01:24|2013-10-01 00:10:04|             174|     E 25 St & 1 Ave|            40.7381765|           -73.97738662|           403|      E 2 St & 2 Ave|         40.72502876|         -73.99069656| 19645|Subscriber|      1984|     1|    Tuesday|\n",
      "+------------+-------------------+-------------------+----------------+--------------------+----------------------+-----------------------+--------------+--------------------+--------------------+---------------------+------+----------+----------+------+-----------+\n",
      "only showing top 3 rows\n",
      "\n"
     ]
    }
   ],
   "source": [
    "df2.show(3)"
   ]
  }
 ],
 "metadata": {
  "kernelspec": {
   "display_name": "Python 3 (ipykernel)",
   "language": "python",
   "name": "python3"
  },
  "language_info": {
   "codemirror_mode": {
    "name": "ipython",
    "version": 3
   },
   "file_extension": ".py",
   "mimetype": "text/x-python",
   "name": "python",
   "nbconvert_exporter": "python",
   "pygments_lexer": "ipython3",
   "version": "3.12.9"
  }
 },
 "nbformat": 4,
 "nbformat_minor": 5
}
