{
 "cells": [
  {
   "cell_type": "code",
   "execution_count": 31,
   "id": "5bb774ff-15ac-4f2f-afdb-6ff666c95e6e",
   "metadata": {},
   "outputs": [],
   "source": [
    "from pyspark.sql import SparkSession\n",
    "# from pyspark.sql import\n",
    "from pyspark.sql.functions import when,col,lit,hash,datediff,xxhash64,year,quarter,dayofmonth,month,dayofweek,date_format,concat\n"
   ]
  },
  {
   "cell_type": "code",
   "execution_count": 2,
   "id": "aab30095-3faf-492f-b9f2-0704f2b93782",
   "metadata": {},
   "outputs": [],
   "source": [
    "spark = SparkSession.builder.appName(\"app-notebook\").getOrCreate()"
   ]
  },
  {
   "cell_type": "code",
   "execution_count": 25,
   "id": "696e1742-8fff-4be5-9f13-945387c7d907",
   "metadata": {},
   "outputs": [],
   "source": [
    "df = spark.read.format('csv').options(inferSchema='True',header='True').load('/opt/airflow/include/2013-citibike-tripdata/10_October/*.csv')"
   ]
  },
  {
   "cell_type": "code",
   "execution_count": 33,
   "id": "fc8ca1da-4456-4317-adc9-9246d632f058",
   "metadata": {},
   "outputs": [
    {
     "name": "stdout",
     "output_type": "stream",
     "text": [
      "+------------+-------------------+-------------------+----------------+--------------------+----------------------+-----------------------+--------------+--------------------+--------------------+---------------------+------+----------+----------+------+\n",
      "|tripduration|          starttime|           stoptime|start station id|  start station name|start station latitude|start station longitude|end station id|    end station name|end station latitude|end station longitude|bikeid|  usertype|birth year|gender|\n",
      "+------------+-------------------+-------------------+----------------+--------------------+----------------------+-----------------------+--------------+--------------------+--------------------+---------------------+------+----------+----------+------+\n",
      "|         326|2013-10-01 00:01:08|2013-10-01 00:06:34|             239|Willoughby St & F...|           40.69196566|            -73.9813018|           366|Clinton Ave & Myr...|           40.693261|           -73.968896| 16052|Subscriber|      1982|     1|\n",
      "|         729|2013-10-01 00:01:21|2013-10-01 00:13:30|             322|Clinton St & Till...|             40.696192|             -73.991218|           398|Atlantic Ave & Fu...|         40.69165183|          -73.9999786| 19412|  Customer|        \\N|     0|\n",
      "+------------+-------------------+-------------------+----------------+--------------------+----------------------+-----------------------+--------------+--------------------+--------------------+---------------------+------+----------+----------+------+\n",
      "only showing top 2 rows\n",
      "\n"
     ]
    }
   ],
   "source": [
    "df.show(2)"
   ]
  },
  {
   "cell_type": "code",
   "execution_count": 44,
   "id": "06e1881f-a242-4c35-b941-4e9eb57e409f",
   "metadata": {},
   "outputs": [
    {
     "name": "stdout",
     "output_type": "stream",
     "text": [
      "+------------+-------------------+-------------------+----------------+--------------------+----------------------+-----------------------+--------------+--------------------+--------------------+---------------------+------+----------+----------+------+-------------+\n",
      "|tripduration|          starttime|           stoptime|start station id|  start station name|start station latitude|start station longitude|end station id|    end station name|end station latitude|end station longitude|bikeid|  usertype|birth year|gender|rideable_type|\n",
      "+------------+-------------------+-------------------+----------------+--------------------+----------------------+-----------------------+--------------+--------------------+--------------------+---------------------+------+----------+----------+------+-------------+\n",
      "|         326|2013-10-01 00:01:08|2013-10-01 00:06:34|             239|Willoughby St & F...|           40.69196566|            -73.9813018|           366|Clinton Ave & Myr...|           40.693261|           -73.968896| 16052|Subscriber|      1982|     1|         NULL|\n",
      "|         729|2013-10-01 00:01:21|2013-10-01 00:13:30|             322|Clinton St & Till...|             40.696192|             -73.991218|           398|Atlantic Ave & Fu...|         40.69165183|          -73.9999786| 19412|  Customer|        \\N|     0|         NULL|\n",
      "+------------+-------------------+-------------------+----------------+--------------------+----------------------+-----------------------+--------------+--------------------+--------------------+---------------------+------+----------+----------+------+-------------+\n",
      "only showing top 2 rows\n",
      "\n"
     ]
    }
   ],
   "source": [
    "# df = df.withColumn('rideable_type',lit(None))\n",
    "df.show(2)"
   ]
  },
  {
   "cell_type": "code",
   "execution_count": 10,
   "id": "84f3938a-40d1-447b-a321-1d86043704b7",
   "metadata": {},
   "outputs": [],
   "source": [
    "config={'column_result':'trip_duration',\n",
    "        'column_greather':'ended_at',\n",
    "        'colmun_lesser':'started_at'\n",
    "       }"
   ]
  },
  {
   "cell_type": "code",
   "execution_count": 50,
   "id": "4eea6426-4a99-451d-bddc-daa731c74996",
   "metadata": {},
   "outputs": [],
   "source": [
    "# df.withColumn('trip_duration_2',\\\n",
    "#               when(col(config['column_result']).isNull(),datediff(col(config['column_greather']),col(config['colmun_lesser'])))\\\n",
    "#               .otherwise(col(config['column_result']))\n",
    "#              ).show(2)\n",
    "\n",
    "# df.withColumn('trip_duration_2',col('ended_at').cast('long') - col('started_at').cast('long')).selectExpr(\"trip_duration_2/60\").show(5)\n",
    "\n",
    "#    df.withColumn('rideable_type',when(col('rideable_type').isNull(),lit('classic_bike')).otherwise(col('rideable_type')))\n",
    "\n",
    "df = df.withColumn('rideable_type',when(col('rideable_type').isNull(), lit('classic_bike')).otherwise(col('rideable_type')))"
   ]
  },
  {
   "cell_type": "code",
   "execution_count": 51,
   "id": "ada23c37-bee6-4d16-bad8-a4e7fcccd2fb",
   "metadata": {},
   "outputs": [
    {
     "name": "stdout",
     "output_type": "stream",
     "text": [
      "+------------+-------------------+-------------------+----------------+--------------------+----------------------+-----------------------+--------------+--------------------+--------------------+---------------------+------+----------+----------+------+-------------+\n",
      "|tripduration|          starttime|           stoptime|start station id|  start station name|start station latitude|start station longitude|end station id|    end station name|end station latitude|end station longitude|bikeid|  usertype|birth year|gender|rideable_type|\n",
      "+------------+-------------------+-------------------+----------------+--------------------+----------------------+-----------------------+--------------+--------------------+--------------------+---------------------+------+----------+----------+------+-------------+\n",
      "|         326|2013-10-01 00:01:08|2013-10-01 00:06:34|             239|Willoughby St & F...|           40.69196566|            -73.9813018|           366|Clinton Ave & Myr...|           40.693261|           -73.968896| 16052|Subscriber|      1982|     1| classic_bike|\n",
      "|         729|2013-10-01 00:01:21|2013-10-01 00:13:30|             322|Clinton St & Till...|             40.696192|             -73.991218|           398|Atlantic Ave & Fu...|         40.69165183|          -73.9999786| 19412|  Customer|        \\N|     0| classic_bike|\n",
      "+------------+-------------------+-------------------+----------------+--------------------+----------------------+-----------------------+--------------+--------------------+--------------------+---------------------+------+----------+----------+------+-------------+\n",
      "only showing top 2 rows\n",
      "\n"
     ]
    }
   ],
   "source": [
    "df.show(2)"
   ]
  },
  {
   "cell_type": "code",
   "execution_count": 8,
   "id": "c3cc0ec2-eb71-41aa-8122-31c2b4ecd1eb",
   "metadata": {},
   "outputs": [],
   "source": [
    "df2 = df.withColumn('weekdayname', date_format('starttime','EEEE'))"
   ]
  },
  {
   "cell_type": "code",
   "execution_count": 9,
   "id": "f22cf3d3-82be-4a38-b53f-8c22bb298548",
   "metadata": {},
   "outputs": [
    {
     "name": "stdout",
     "output_type": "stream",
     "text": [
      "+------------+-------------------+-------------------+----------------+--------------------+----------------------+-----------------------+--------------+--------------------+--------------------+---------------------+------+----------+----------+------+-----------+\n",
      "|tripduration|          starttime|           stoptime|start station id|  start station name|start station latitude|start station longitude|end station id|    end station name|end station latitude|end station longitude|bikeid|  usertype|birth year|gender|weekdayname|\n",
      "+------------+-------------------+-------------------+----------------+--------------------+----------------------+-----------------------+--------------+--------------------+--------------------+---------------------+------+----------+----------+------+-----------+\n",
      "|         326|2013-10-01 00:01:08|2013-10-01 00:06:34|             239|Willoughby St & F...|           40.69196566|            -73.9813018|           366|Clinton Ave & Myr...|           40.693261|           -73.968896| 16052|Subscriber|      1982|     1|    Tuesday|\n",
      "|         729|2013-10-01 00:01:21|2013-10-01 00:13:30|             322|Clinton St & Till...|             40.696192|             -73.991218|           398|Atlantic Ave & Fu...|         40.69165183|          -73.9999786| 19412|  Customer|        \\N|     0|    Tuesday|\n",
      "|         520|2013-10-01 00:01:24|2013-10-01 00:10:04|             174|     E 25 St & 1 Ave|            40.7381765|           -73.97738662|           403|      E 2 St & 2 Ave|         40.72502876|         -73.99069656| 19645|Subscriber|      1984|     1|    Tuesday|\n",
      "+------------+-------------------+-------------------+----------------+--------------------+----------------------+-----------------------+--------------+--------------------+--------------------+---------------------+------+----------+----------+------+-----------+\n",
      "only showing top 3 rows\n",
      "\n"
     ]
    }
   ],
   "source": [
    "df2.show(3)"
   ]
  },
  {
   "cell_type": "code",
   "execution_count": null,
   "id": "1a311cef-73bb-4b49-a1c2-c8d6f0d23016",
   "metadata": {},
   "outputs": [],
   "source": [
    "# from geopy.distance import geodesic\n",
    "import yaml\n",
    "import os\n",
    "# from pyspark.sql import SparkSession\n",
    "\n",
    "\n",
    "def config_reader(path:str):\n",
    "    # Load YAML config\n",
    "    with open(path, \"r\") as f:\n",
    "        config = yaml.safe_load(f)\n",
    "\n",
    "    # Fetch secrets from environment variables\n",
    "    # source_config = config[\"source\"]\n",
    "    # source_config[\"password\"] = os.environ[\"SOURCE_DB_PASSWORD\"]  # Inject password\n",
    "    # etl_config = config['etl_conf']\n",
    "\n",
    "    # dest_config = config[\"destination\"]\n",
    "    # dest_config[\"password\"] = os.environ[\"DEST_DB_PASSWORD\"]\n",
    "    return config"
   ]
  },
  {
   "cell_type": "code",
   "execution_count": 3,
   "id": "eb101f88-6612-43c1-8ba7-d4dab360daf3",
   "metadata": {},
   "outputs": [],
   "source": [
    "test_string=\"detele moug {test2}\""
   ]
  },
  {
   "cell_type": "code",
   "execution_count": 4,
   "id": "5933acba-2f99-4667-b126-2bc71bfe2c43",
   "metadata": {},
   "outputs": [],
   "source": [
    "test_2=\"choisir\""
   ]
  },
  {
   "cell_type": "code",
   "execution_count": 6,
   "id": "7fd77d00-dac1-4b9c-be12-c40f2debbda6",
   "metadata": {},
   "outputs": [
    {
     "name": "stdout",
     "output_type": "stream",
     "text": [
      "Hello, my name is Alice and I am '30' years old.\n"
     ]
    }
   ],
   "source": [
    "# Create the string with placeholders\n",
    "template = \"Hello, my name is {} and I am '{}' years old.\"\n",
    "\n",
    "# Inject values later\n",
    "name = \"Alice\"\n",
    "age = 30\n",
    "result = template.format(name, age)\n",
    "\n",
    "print(result)"
   ]
  },
  {
   "cell_type": "code",
   "execution_count": 13,
   "id": "0afa49cf-a3c0-4e4f-bb75-0f482dcf086e",
   "metadata": {},
   "outputs": [],
   "source": [
    "spark.stop()"
   ]
  }
 ],
 "metadata": {
  "kernelspec": {
   "display_name": "Python 3 (ipykernel)",
   "language": "python",
   "name": "python3"
  },
  "language_info": {
   "codemirror_mode": {
    "name": "ipython",
    "version": 3
   },
   "file_extension": ".py",
   "mimetype": "text/x-python",
   "name": "python",
   "nbconvert_exporter": "python",
   "pygments_lexer": "ipython3",
   "version": "3.10.12"
  }
 },
 "nbformat": 4,
 "nbformat_minor": 5
}
