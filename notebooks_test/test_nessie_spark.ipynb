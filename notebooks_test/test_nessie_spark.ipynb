{
 "cells": [
  {
   "cell_type": "code",
   "execution_count": 4,
   "id": "f513f406-5928-4473-b140-82c95d2a5c0f",
   "metadata": {},
   "outputs": [
    {
     "name": "stdout",
     "output_type": "stream",
     "text": [
      "Python 3.10.12\n"
     ]
    }
   ],
   "source": [
    "!python3 --version"
   ]
  },
  {
   "cell_type": "code",
   "execution_count": 1,
   "id": "6a2d4236",
   "metadata": {},
   "outputs": [
    {
     "name": "stdout",
     "output_type": "stream",
     "text": [
      "http://minio:9000\n",
      "http://nessie:19120/api/v1\n",
      "s3a://warehouse/\n",
      "M1s2Sa2IecSYl6SR6n4W\n",
      "Kj6gSYsC1Q5MJ6VXWVW1S1m8eC8gPKxtLcOxB2wk\n",
      "s3a://sylver-warehouse/\n"
     ]
    }
   ],
   "source": [
    "import pyspark\n",
    "from pyspark.sql import SparkSession\n",
    "import os\n",
    "\n",
    "\n",
    "## DEFINE SENSITIVE VARIABLES\n",
    "NESSIE_URI = os.environ.get(\"NESSIE_URI\") ## Nessie Server URI\n",
    "WAREHOUSE = os.environ.get(\"WAREHOUSE\") ## BUCKET TO WRITE DATA TOO\n",
    "WAREHOUSE_BRONZE = os.environ.get(\"WAREHOUSE_BRONZE\") ## BUCKET TO WRITE DATA TOO\n",
    "WAREHOUSE_SYLVER = os.environ.get(\"WAREHOUSE_SYLVER\") ## BUCKET TO WRITE DATA TOO\n",
    "WAREHOUSE_GOLD = os.environ.get(\"WAREHOUSE_GOLD\") ## BUCKET TO WRITE DATA TOO\n",
    "AWS_ACCESS_KEY_ID = os.environ.get(\"AWS_ACCESS_KEY_ID\") ## AWS CREDENTIALS\n",
    "AWS_SECRET_ACCESS_KEY = os.environ.get(\"AWS_SECRET_ACCESS_KEY\") ## AWS CREDENTIALS\n",
    "AWS_S3_ENDPOINT= os.environ.get(\"AWS_S3_ENDPOINT\") ## MINIO ENDPOINT\n",
    "\n",
    "\n",
    "print(AWS_S3_ENDPOINT)\n",
    "print(NESSIE_URI)\n",
    "print(WAREHOUSE)\n",
    "print(AWS_ACCESS_KEY_ID)\n",
    "print(AWS_SECRET_ACCESS_KEY)\n",
    "print(WAREHOUSE_SYLVER)"
   ]
  },
  {
   "cell_type": "code",
   "execution_count": 9,
   "id": "c7ea8a43-9c5e-4bd0-a0e2-019fcdf37fc5",
   "metadata": {},
   "outputs": [],
   "source": [
    "# AWS_REGION is used by Spark\n",
    "AWS_REGION=\"us-east-1\"\n",
    "# This must match if using minio\n",
    "MINIO_REGION=\"us-east-1\"\n",
    "# Used by pyIceberg\n",
    "AWS_DEFAULT_REGION=\"us-east-1\"\n",
    "# AWS Credentials (this can use minio credential, to be filled in later)\n",
    "AWS_ACCESS_KEY_ID=\"YRUl5sf7KF7WTVAAgTSO\"\n",
    "AWS_SECRET_ACCESS_KEY=\"gWIjs4ljGZJHcum9RlZtKTrL5La7FNWXZvwppm6L\"\n",
    "# If using Minio, this should be the API address of Minio Server\n",
    "AWS_S3_ENDPOINT=\"http://minio:9000\"\n",
    "# Location where files will be written when creating new tables\n",
    "WAREHOUSE=\"s3a://warehouse/\"\n",
    "# URI of Nessie Catalog\n",
    "NESSIE_URI=\"http://nessie:19120/api/v1\""
   ]
  },
  {
   "cell_type": "code",
   "execution_count": 2,
   "id": "1db1d774-5d1d-4fd1-afed-4a6e683ed4ac",
   "metadata": {},
   "outputs": [],
   "source": [
    "#### not use\n",
    "conf = (\n",
    "    pyspark.SparkConf()\n",
    "        .setAppName('app_name')\n",
    "        .set('spark.jars.packages','org.apache.iceberg:iceberg-spark-runtime-3.5_2.12:1.5.0,org.projectnessie.nessie-integrations:nessie-spark-extensions-3.5_2.12:0.102.5,software.amazon.awssdk:bundle:2.20.131,software.amazon.awssdk:url-connection-client:2.20.131')\n",
    "        .set('spark.sql.extensions','org.apache.iceberg.spark.extensions.IcebergSparkSessionExtensions,org.projectnessie.spark.extensions.NessieSparkSessionExtensions')\n",
    "        .set('spark.sql.catalog.bronze', 'org.apache.iceberg.spark.SparkCatalog')\n",
    "        .set('spark.sql.catalog.bronze.uri', NESSIE_URI)\n",
    "        .set('spark.sql.catalog.bronze.ref', 'main')\n",
    "        .set('spark.sql.catalog.bronze.authentication.type', 'NONE')  # ✅ Move auth to \"bronze\" catalog\n",
    "        .set('spark.sql.catalog.bronze.catalog-impl', 'org.apache.iceberg.nessie.NessieCatalog')  # ✅ Use \"bronze\" prefix\n",
    "        .set('spark.sql.catalog.bronze.s3.path-style-access', 'true')  # ✅ Configure S3 for \"bronze\"\n",
    "        .set('spark.sql.catalog.bronze.s3.endpoint', AWS_S3_ENDPOINT)  # ✅ Fixed typo (no 's' at end)\n",
    "        .set('spark.sql.catalog.bronze.warehouse', WAREHOUSE)\n",
    "        .set('spark.sql.catalog.bronze.io-impl', 'org.apache.iceberg.aws.s3.S3FileIO')  # ✅ Use \"bronze\" prefix\n",
    "        .set('spark.hadoop.fs.s3a.access.key', AWS_ACCESS_KEY_ID)\n",
    "        .set('spark.hadoop.fs.s3a.secret.key', AWS_SECRET_ACCESS_KEY)\n",
    "        .set('spark.hadoop.fs.s3a.path.style.access','true')\n",
    "        .set('spark.hadoop.fs.s3a.impl', 'org.apache.hadoop.fs.s3a.S3AFileSystem')\n",
    ")\n"
   ]
  },
  {
   "cell_type": "code",
   "execution_count": 25,
   "id": "847dcef6-5174-4deb-b402-5ed9c3d5a640",
   "metadata": {},
   "outputs": [],
   "source": [
    "## base config\n",
    "conf = (\n",
    "    pyspark.SparkConf()\n",
    "        .setAppName('app_name')\n",
    "        .set('spark.jars.packages','org.apache.iceberg:iceberg-spark-runtime-3.5_2.12:1.5.0,org.projectnessie.nessie-integrations:nessie-spark-extensions-3.5_2.12:0.102.5,software.amazon.awssdk:bundle:2.20.131,software.amazon.awssdk:url-connection-client:2.20.131')\n",
    "        .set('spark.sql.extensions','org.apache.iceberg.spark.extensions.IcebergSparkSessionExtensions,org.projectnessie.spark.extensions.NessieSparkSessionExtensions')\n",
    "        .set('spark.hadoop.fs.s3a.access.key', AWS_ACCESS_KEY_ID)\n",
    "        .set('spark.hadoop.fs.s3a.secret.key', AWS_SECRET_ACCESS_KEY)\n",
    "        .set('spark.hadoop.fs.s3a.path.style.access','true')\n",
    "        .set('spark.hadoop.fs.s3a.impl', 'org.apache.hadoop.fs.s3a.S3AFileSystem')\n",
    ")"
   ]
  },
  {
   "cell_type": "code",
   "execution_count": 27,
   "id": "4bbfda89-462b-4332-adae-d995b75929bd",
   "metadata": {},
   "outputs": [
    {
     "data": {
      "text/plain": [
       "<pyspark.conf.SparkConf at 0x7fa338b5f370>"
      ]
     },
     "execution_count": 27,
     "metadata": {},
     "output_type": "execute_result"
    }
   ],
   "source": [
    "## config bronze\n",
    "\n",
    "conf.set('spark.sql.catalog.bronze', 'org.apache.iceberg.spark.SparkCatalog')\\\n",
    ".set('spark.sql.catalog.bronze.uri', NESSIE_URI)\\\n",
    ".set('spark.sql.catalog.bronze.ref', 'main')\\\n",
    ".set('spark.sql.catalog.bronze.authentication.type', 'NONE')\\\n",
    ".set('spark.sql.catalog.bronze.catalog-impl', 'org.apache.iceberg.nessie.NessieCatalog')\\\n",
    ".set('spark.sql.catalog.bronze.s3.path-style-access', 'true')\\\n",
    ".set('spark.sql.catalog.bronze.s3.endpoint', AWS_S3_ENDPOINT)\\\n",
    ".set('spark.sql.catalog.bronze.warehouse', WAREHOUSE_BRONZE)\n"
   ]
  },
  {
   "cell_type": "code",
   "execution_count": 14,
   "id": "4f96f823-b83f-4ec0-bb2a-cd3f3353edf5",
   "metadata": {},
   "outputs": [
    {
     "data": {
      "text/plain": [
       "<pyspark.conf.SparkConf at 0x7fa35177d3c0>"
      ]
     },
     "execution_count": 14,
     "metadata": {},
     "output_type": "execute_result"
    }
   ],
   "source": [
    "## Sylver settings catalog\n",
    "\n",
    "conf.set('spark.sql.catalog.sylver', 'org.apache.iceberg.spark.SparkCatalog')\\\n",
    "    .set('spark.sql.catalog.sylver.uri',NESSIE_URI)\\\n",
    "    .set('spark.sql.catalog.sylver.ref', 'main')\\\n",
    "    .set('spark.sql.catalog.sylver.authentication.type', 'NONE')\\\n",
    "    .set('spark.sql.catalog.sylver.catalog-impl', 'org.apache.iceberg.nessie.NessieCatalog')\\\n",
    "    .set('spark.sql.catalog.sylver.s3.path-style-access', 'true')\\\n",
    "    .set('spark.sql.catalog.sylver.s3.endpoint',AWS_S3_ENDPOINT)\\\n",
    "    .set('spark.sql.catalog.sylver.warehouse',WAREHOUSE_BRONZE)\\\n",
    "    .set('spark.sql.catalog.sylver.io-impl', 'org.apache.iceberg.aws.s3.S3FileIO')\\\n",
    "\n"
   ]
  },
  {
   "cell_type": "code",
   "execution_count": 50,
   "id": "1c7a61d9-2d3d-4063-a583-73ae25f72a14",
   "metadata": {},
   "outputs": [],
   "source": [
    "## Bronze settings catalog\n",
    "\n",
    "conf = (\n",
    "    pyspark.SparkConf()\n",
    "        .setAppName('app_name')\n",
    "        .set('spark.jars.packages','org.apache.iceberg:iceberg-spark-runtime-3.5_2.12:1.5.0,org.projectnessie.nessie-integrations:nessie-spark-extensions-3.5_2.12:0.102.5,software.amazon.awssdk:bundle:2.20.131,software.amazon.awssdk:url-connection-client:2.20.131')\n",
    "        .set('spark.sql.extensions','org.apache.iceberg.spark.extensions.IcebergSparkSessionExtensions,org.projectnessie.spark.extensions.NessieSparkSessionExtensions')\n",
    "        .set('spark.sql.catalog.sylver', 'org.apache.iceberg.spark.SparkCatalog')\n",
    "        .set('spark.sql.catalog.sylver.uri',NESSIE_URI)\n",
    "        .set('spark.sql.catalog.sylver.ref', 'main')\n",
    "        .set('spark.sql.catalog.sylver.authentication.type', 'NONE')  # ✅ Move auth to \"bronze\" catalog\n",
    "        .set('spark.sql.catalog.sylver.catalog-impl', 'org.apache.iceberg.nessie.NessieCatalog')  # ✅ Use \"bronze\" prefix\n",
    "        .set('spark.sql.catalog.sylver.s3.path-style-access', 'true')  # ✅ Configure S3 for \"bronze\"\n",
    "        .set('spark.sql.catalog.sylver.s3.endpoint',AWS_S3_ENDPOINT)  # ✅ Fixed typo (no 's' at end)\n",
    "        .set('spark.sql.catalog.sylver.warehouse',WAREHOUSE_BRONZE)\n",
    "        .set('spark.sql.catalog.sylver.io-impl', 'org.apache.iceberg.aws.s3.S3FileIO')  # ✅ Use \"bronze\" prefix\n",
    "        .set('spark.hadoop.fs.s3a.access.key',AWS_ACCESS_KEY_ID)\n",
    "        .set('spark.hadoop.fs.s3a.secret.key',AWS_SECRET_ACCESS_KEY)\n",
    "        .set('spark.hadoop.fs.s3a.path.style.access','true')\n",
    "        .set('spark.hadoop.fs.s3a.impl', 'org.apache.hadoop.fs.s3a.S3AFileSystem')\n",
    ")\n"
   ]
  },
  {
   "cell_type": "code",
   "execution_count": 50,
   "id": "9e9b5e28-3fe9-4756-ba38-f80d4f2de064",
   "metadata": {},
   "outputs": [],
   "source": [
    "## Sylver settings catalog\n",
    "\n",
    "conf = (\n",
    "    pyspark.SparkConf()\n",
    "        .setAppName('app_name')\n",
    "        .set('spark.jars.packages','org.apache.iceberg:iceberg-spark-runtime-3.5_2.12:1.5.0,org.projectnessie.nessie-integrations:nessie-spark-extensions-3.5_2.12:0.102.5,software.amazon.awssdk:bundle:2.20.131,software.amazon.awssdk:url-connection-client:2.20.131')\n",
    "        .set('spark.sql.extensions','org.apache.iceberg.spark.extensions.IcebergSparkSessionExtensions,org.projectnessie.spark.extensions.NessieSparkSessionExtensions')\n",
    "        .set('spark.sql.catalog.sylver', 'org.apache.iceberg.spark.SparkCatalog')\n",
    "        .set('spark.sql.catalog.sylver.uri', NESSIE_URI)\n",
    "        .set('spark.sql.catalog.sylver.ref', 'main')\n",
    "        .set('spark.sql.catalog.sylver.authentication.type', 'NONE')  # ✅ Move auth to \"bronze\" catalog\n",
    "        .set('spark.sql.catalog.sylver.catalog-impl', 'org.apache.iceberg.nessie.NessieCatalog')  # ✅ Use \"bronze\" prefix\n",
    "        .set('spark.sql.catalog.sylver.s3.path-style-access', 'true')  # ✅ Configure S3 for \"bronze\"\n",
    "        .set('spark.sql.catalog.sylver.s3.endpoint', AWS_S3_ENDPOINT)  # ✅ Fixed typo (no 's' at end)\n",
    "        .set('spark.sql.catalog.sylver.warehouse', WAREHOUSE_SYLVER)\n",
    "        .set('spark.sql.catalog.sylver.io-impl', 'org.apache.iceberg.aws.s3.S3FileIO')  # ✅ Use \"bronze\" prefix\n",
    "        .set('spark.hadoop.fs.s3a.access.key', AWS_ACCESS_KEY_ID)\n",
    "        .set('spark.hadoop.fs.s3a.secret.key', AWS_SECRET_ACCESS_KEY)\n",
    "        .set('spark.hadoop.fs.s3a.path.style.access','true')\n",
    "        .set('spark.hadoop.fs.s3a.impl', 'org.apache.hadoop.fs.s3a.S3AFileSystem')\n",
    ")\n"
   ]
  },
  {
   "cell_type": "code",
   "execution_count": 50,
   "id": "e27fdf3a-a6d4-4df7-bfa0-d56bd28459be",
   "metadata": {},
   "outputs": [],
   "source": [
    "## Gold settings catalog\n",
    "\n",
    "conf = (\n",
    "    pyspark.SparkConf()\n",
    "        .setAppName('app_name')\n",
    "        .set('spark.jars.packages','org.apache.iceberg:iceberg-spark-runtime-3.5_2.12:1.5.0,org.projectnessie.nessie-integrations:nessie-spark-extensions-3.5_2.12:0.102.5,software.amazon.awssdk:bundle:2.20.131,software.amazon.awssdk:url-connection-client:2.20.131')\n",
    "        .set('spark.sql.extensions','org.apache.iceberg.spark.extensions.IcebergSparkSessionExtensions,org.projectnessie.spark.extensions.NessieSparkSessionExtensions')\n",
    "        .set('spark.sql.catalog.sylver', 'org.apache.iceberg.spark.SparkCatalog')\n",
    "        .set('spark.sql.catalog.sylver.uri', NESSIE_URI)\n",
    "        .set('spark.sql.catalog.sylver.ref', 'main')\n",
    "        .set('spark.sql.catalog.sylver.authentication.type', 'NONE')  # ✅ Move auth to \"bronze\" catalog\n",
    "        .set('spark.sql.catalog.sylver.catalog-impl', 'org.apache.iceberg.nessie.NessieCatalog')  # ✅ Use \"bronze\" prefix\n",
    "        .set('spark.sql.catalog.sylver.s3.path-style-access', 'true')  # ✅ Configure S3 for \"bronze\"\n",
    "        .set('spark.sql.catalog.sylver.s3.endpoint', AWS_S3_ENDPOINT)  # ✅ Fixed typo (no 's' at end)\n",
    "        .set('spark.sql.catalog.sylver.warehouse', WAREHOUSE_GOLD)\n",
    "        .set('spark.sql.catalog.sylver.io-impl', 'org.apache.iceberg.aws.s3.S3FileIO')  # ✅ Use \"bronze\" prefix\n",
    "        .set('spark.hadoop.fs.s3a.access.key', AWS_ACCESS_KEY_ID)\n",
    "        .set('spark.hadoop.fs.s3a.secret.key', AWS_SECRET_ACCESS_KEY)\n",
    "        .set('spark.hadoop.fs.s3a.path.style.access','true')\n",
    "        .set('spark.hadoop.fs.s3a.impl', 'org.apache.hadoop.fs.s3a.S3AFileSystem')\n",
    ")\n"
   ]
  },
  {
   "cell_type": "code",
   "execution_count": 3,
   "id": "f98faed3-7f60-4205-a835-fc0bfa3dcfc2",
   "metadata": {},
   "outputs": [
    {
     "name": "stdout",
     "output_type": "stream",
     "text": [
      ":: loading settings :: url = jar:file:/opt/spark/jars/ivy-2.5.1.jar!/org/apache/ivy/core/settings/ivysettings.xml\n"
     ]
    },
    {
     "name": "stderr",
     "output_type": "stream",
     "text": [
      "Ivy Default Cache set to: /root/.ivy2/cache\n",
      "The jars for the packages stored in: /root/.ivy2/jars\n",
      "org.apache.iceberg#iceberg-spark-runtime-3.5_2.12 added as a dependency\n",
      "org.projectnessie.nessie-integrations#nessie-spark-extensions-3.5_2.12 added as a dependency\n",
      "software.amazon.awssdk#bundle added as a dependency\n",
      "software.amazon.awssdk#url-connection-client added as a dependency\n",
      ":: resolving dependencies :: org.apache.spark#spark-submit-parent-10c0b760-6088-45f5-900f-0f4ea9468679;1.0\n",
      "\tconfs: [default]\n",
      "\tfound org.apache.iceberg#iceberg-spark-runtime-3.5_2.12;1.5.0 in central\n",
      "\tfound org.projectnessie.nessie-integrations#nessie-spark-extensions-3.5_2.12;0.102.5 in central\n",
      "\tfound software.amazon.awssdk#bundle;2.20.131 in central\n",
      "\tfound software.amazon.eventstream#eventstream;1.0.1 in central\n",
      "\tfound software.amazon.awssdk#url-connection-client;2.20.131 in central\n",
      "\tfound software.amazon.awssdk#utils;2.20.131 in central\n",
      "\tfound org.reactivestreams#reactive-streams;1.0.3 in central\n",
      "\tfound software.amazon.awssdk#annotations;2.20.131 in central\n",
      "\tfound org.slf4j#slf4j-api;1.7.30 in central\n",
      "\tfound software.amazon.awssdk#http-client-spi;2.20.131 in central\n",
      "\tfound software.amazon.awssdk#metrics-spi;2.20.131 in central\n",
      ":: resolution report :: resolve 1052ms :: artifacts dl 37ms\n",
      "\t:: modules in use:\n",
      "\torg.apache.iceberg#iceberg-spark-runtime-3.5_2.12;1.5.0 from central in [default]\n",
      "\torg.projectnessie.nessie-integrations#nessie-spark-extensions-3.5_2.12;0.102.5 from central in [default]\n",
      "\torg.reactivestreams#reactive-streams;1.0.3 from central in [default]\n",
      "\torg.slf4j#slf4j-api;1.7.30 from central in [default]\n",
      "\tsoftware.amazon.awssdk#annotations;2.20.131 from central in [default]\n",
      "\tsoftware.amazon.awssdk#bundle;2.20.131 from central in [default]\n",
      "\tsoftware.amazon.awssdk#http-client-spi;2.20.131 from central in [default]\n",
      "\tsoftware.amazon.awssdk#metrics-spi;2.20.131 from central in [default]\n",
      "\tsoftware.amazon.awssdk#url-connection-client;2.20.131 from central in [default]\n",
      "\tsoftware.amazon.awssdk#utils;2.20.131 from central in [default]\n",
      "\tsoftware.amazon.eventstream#eventstream;1.0.1 from central in [default]\n",
      "\t---------------------------------------------------------------------\n",
      "\t|                  |            modules            ||   artifacts   |\n",
      "\t|       conf       | number| search|dwnlded|evicted|| number|dwnlded|\n",
      "\t---------------------------------------------------------------------\n",
      "\t|      default     |   11  |   0   |   0   |   0   ||   11  |   0   |\n",
      "\t---------------------------------------------------------------------\n",
      ":: retrieving :: org.apache.spark#spark-submit-parent-10c0b760-6088-45f5-900f-0f4ea9468679\n",
      "\tconfs: [default]\n",
      "\t0 artifacts copied, 11 already retrieved (0kB/31ms)\n",
      "25/04/17 10:25:21 WARN NativeCodeLoader: Unable to load native-hadoop library for your platform... using builtin-java classes where applicable\n",
      "Setting default log level to \"WARN\".\n",
      "To adjust logging level use sc.setLogLevel(newLevel). For SparkR, use setLogLevel(newLevel).\n"
     ]
    }
   ],
   "source": [
    "## Start Spark Session\n",
    "spark = SparkSession.builder.config(conf=conf).getOrCreate()\n",
    "# print(\"Spark Running\")"
   ]
  },
  {
   "cell_type": "code",
   "execution_count": 44,
   "id": "68d4e7e0",
   "metadata": {},
   "outputs": [],
   "source": [
    "# spark.stop()"
   ]
  },
  {
   "cell_type": "code",
   "execution_count": 4,
   "id": "1e044ba6-0f22-4d4d-b559-fe1596842d76",
   "metadata": {},
   "outputs": [
    {
     "data": {
      "text/html": [
       "\n",
       "            <div>\n",
       "                <p><b>SparkSession - in-memory</b></p>\n",
       "                \n",
       "        <div>\n",
       "            <p><b>SparkContext</b></p>\n",
       "\n",
       "            <p><a href=\"http://5d1dcc7a84b5:4040\">Spark UI</a></p>\n",
       "\n",
       "            <dl>\n",
       "              <dt>Version</dt>\n",
       "                <dd><code>v3.5.2</code></dd>\n",
       "              <dt>Master</dt>\n",
       "                <dd><code>local[*]</code></dd>\n",
       "              <dt>AppName</dt>\n",
       "                <dd><code>app_name</code></dd>\n",
       "            </dl>\n",
       "        </div>\n",
       "        \n",
       "            </div>\n",
       "        "
      ],
      "text/plain": [
       "<pyspark.sql.session.SparkSession at 0x7fd105bcf550>"
      ]
     },
     "execution_count": 4,
     "metadata": {},
     "output_type": "execute_result"
    }
   ],
   "source": [
    "spark"
   ]
  },
  {
   "cell_type": "code",
   "execution_count": 27,
   "id": "e8332c45-5c3c-4c6e-b600-e06dc3279389",
   "metadata": {},
   "outputs": [
    {
     "name": "stdout",
     "output_type": "stream",
     "text": [
      "http://minio:9000\n"
     ]
    }
   ],
   "source": [
    "print(spark.conf.get('spark.sql.catalog.nessie.s3.endpoint'))"
   ]
  },
  {
   "cell_type": "code",
   "execution_count": 244,
   "id": "7d022875",
   "metadata": {},
   "outputs": [
    {
     "name": "stdout",
     "output_type": "stream",
     "text": [
      "+---------------+\n",
      "|      namespace|\n",
      "+---------------+\n",
      "|     DW_ny_bike|\n",
      "|SylverDw_nybike|\n",
      "+---------------+\n",
      "\n"
     ]
    }
   ],
   "source": [
    "## Create a Table\n",
    "spark.sql(\"show databases in bronze;\").show()"
   ]
  },
  {
   "cell_type": "code",
   "execution_count": 29,
   "id": "c3f56016-399a-49ce-a1bf-a18d170a0664",
   "metadata": {},
   "outputs": [
    {
     "data": {
      "text/plain": [
       "DataFrame[]"
      ]
     },
     "execution_count": 29,
     "metadata": {},
     "output_type": "execute_result"
    }
   ],
   "source": [
    "## Create a Table\n",
    "spark.sql(\" CREATE DATABASE bronze.SylverDw_nybike;\")"
   ]
  },
  {
   "cell_type": "code",
   "execution_count": 19,
   "id": "1c3265b6-3301-48cd-8be9-420b7c99ee90",
   "metadata": {},
   "outputs": [
    {
     "data": {
      "text/plain": [
       "DataFrame[]"
      ]
     },
     "execution_count": 19,
     "metadata": {},
     "output_type": "execute_result"
    }
   ],
   "source": [
    "## Create a Table\n",
    "spark.sql(\" CREATE DATABASE IF NOT EXISTS sylver.DW_ny_bike;\")"
   ]
  },
  {
   "cell_type": "code",
   "execution_count": 270,
   "id": "9cf18acb-7e6b-4ac3-a04a-73b2c7fdf11f",
   "metadata": {},
   "outputs": [],
   "source": [
    "spark.sql(\"show table bronze.SylverDw_nybike;\").show()"
   ]
  },
  {
   "cell_type": "code",
   "execution_count": 269,
   "id": "35cc5f47-e8b0-4cd3-a19b-35e1d7b34d38",
   "metadata": {},
   "outputs": [],
   "source": [
    "spark.sql(\"DROP TABLE bronze.SylverDw_nybike.trip_data_nybike;\").show()"
   ]
  },
  {
   "cell_type": "code",
   "execution_count": 6,
   "id": "4ee6124f-990c-418f-baab-b707aabda202",
   "metadata": {},
   "outputs": [
    {
     "name": "stderr",
     "output_type": "stream",
     "text": [
      "SLF4J: Failed to load class \"org.slf4j.impl.StaticLoggerBinder\".\n",
      "SLF4J: Defaulting to no-operation (NOP) logger implementation\n",
      "SLF4J: See http://www.slf4j.org/codes.html#StaticLoggerBinder for further details.\n"
     ]
    },
    {
     "name": "stdout",
     "output_type": "stream",
     "text": [
      "+--------------------+--------------------+\n",
      "|                 key|               value|\n",
      "+--------------------+--------------------+\n",
      "| current-snapshot-id| 5479237530675047789|\n",
      "|              format|     iceberg/parquet|\n",
      "|      format-version|                   2|\n",
      "|          gc.enabled|               false|\n",
      "|    nessie.commit.id|5133ffd6f336e8366...|\n",
      "|write.metadata.de...|               false|\n",
      "|write.parquet.com...|                zstd|\n",
      "+--------------------+--------------------+\n",
      "\n"
     ]
    }
   ],
   "source": [
    "# spark.sql(\"show tables in nessie.dw_nybike;\").show()\n",
    "spark.sql(\"SHOW TBLPROPERTIES bronze.SylverDw_nybike.trip_data_nybike;\").show()\n",
    "# spark.sql(\"SELECT * FROM nessie.dw_nybike.trip_data_nybike_v2.snapshots;\").show()"
   ]
  },
  {
   "cell_type": "code",
   "execution_count": 57,
   "id": "e6de411a",
   "metadata": {},
   "outputs": [
    {
     "data": {
      "text/plain": [
       "DataFrame[]"
      ]
     },
     "execution_count": 57,
     "metadata": {},
     "output_type": "execute_result"
    }
   ],
   "source": [
    "spark.sql(\"\"\"\n",
    "CREATE TABLE bronze.DW_ny_bike.trip_data_nybike(\n",
    "    dw_period_tag string,\n",
    "    ride_id string,\n",
    "\tstart_station_id string,\n",
    "\tstart_station_name string,\n",
    "\tstart_station_latitude string ,\n",
    "\tstart_station_longitude string ,\n",
    "\tend_station_id string,\n",
    "\tend_station_name string,\n",
    "\tend_station_latitude string,\n",
    "\tend_station_longitude string,\n",
    "\tuser_type string,\n",
    "    gender string,\n",
    "\tcustomer_year_birth string,\n",
    "    bike_id string,\n",
    "\trideable_type string,\n",
    "\tstart_at string,\n",
    "\tstop_at string, \n",
    "\ttrip_duration string\n",
    "    )\n",
    "USING iceberg\n",
    "PARTITIONED BY (dw_period_tag)\n",
    ";\n",
    "\"\"\")"
   ]
  },
  {
   "cell_type": "code",
   "execution_count": 255,
   "id": "93abdc4a-7cd9-4aa6-95b3-0a9c80a35544",
   "metadata": {},
   "outputs": [
    {
     "data": {
      "text/plain": [
       "DataFrame[]"
      ]
     },
     "execution_count": 255,
     "metadata": {},
     "output_type": "execute_result"
    }
   ],
   "source": [
    "spark.sql(\"\"\"\n",
    "CREATE TABLE bronze.SylverDw_nybike.trip_data_nybike(\n",
    "    trip_uuid string,\n",
    "    dw_period_tag string,\n",
    "\tstart_station_id string,\n",
    "\tstart_station_name string,\n",
    "\tstart_station_latitude string,\n",
    "\tstart_station_longitude string,\n",
    "\tend_station_id string,\n",
    "\tend_station_name string,\n",
    "\tend_station_latitude string,\n",
    "\tend_station_longitude string,\n",
    "\tbike_id string,\n",
    "\tuser_type string,\n",
    "    enr_user_type string,\n",
    "    enr_gender string,\n",
    "\tcustomer_year_birth  string,\n",
    "\trideable_type string,\n",
    "\tstart_at timestamp,\n",
    "\tstop_at timestamp,\n",
    "\ttrip_duration double,\n",
    "    year integer,\n",
    "    quarter integer,\n",
    "    quarter_name string,\n",
    "    month integer,\n",
    "    month_name string,\n",
    "    day integer,\n",
    "    weekday integer,\n",
    "    weekday_name string\n",
    "    )\n",
    "USING iceberg\n",
    "PARTITIONED BY (dw_period_tag)\n",
    "    ;\n",
    "    \"\"\")\n",
    "\n"
   ]
  },
  {
   "cell_type": "code",
   "execution_count": 31,
   "id": "2fd06fe9",
   "metadata": {},
   "outputs": [
    {
     "data": {
      "text/plain": [
       "DataFrame[]"
      ]
     },
     "execution_count": 31,
     "metadata": {},
     "output_type": "execute_result"
    }
   ],
   "source": [
    "# spark.sql(\"SHOW tables in bronze.DW_ny_bike;\").show()\n",
    "# spark.sql(\"ALTER TABLE bronze.DW_ny_bike.trip_data_nybike ALTER COLUMN start_at TYPE string;\")\n",
    "# spark.sql(\"DROP TABLE bronze.DW_ny_bike.trip_data_nybike;\")\n",
    "spark.sql(\"TRUNCATE TABLE bronze.SylverDw_nybike.trip_data_nybike;\")"
   ]
  },
  {
   "cell_type": "code",
   "execution_count": 43,
   "id": "5272eb08-b01e-473f-a52b-08c16a491c4a",
   "metadata": {},
   "outputs": [
    {
     "name": "stdout",
     "output_type": "stream",
     "text": [
      "+---------+-------------+----------------+------------------+----------------------+-----------------------+--------------+----------------+--------------------+---------------------+-------+---------+-------------+----------+-------------------+-------------+--------+-------+-------------+----+-------+------------+-----+----------+---+-------+------------+\n",
      "|trip_uuid|dw_period_tag|start_station_id|start_station_name|start_station_latitude|start_station_longitude|end_station_id|end_station_name|end_station_latitude|end_station_longitude|bike_id|user_type|enr_user_type|enr_gender|customer_year_birth|rideable_type|start_at|stop_at|trip_duration|year|quarter|quarter_name|month|month_name|day|weekday|weekday_name|\n",
      "+---------+-------------+----------------+------------------+----------------------+-----------------------+--------------+----------------+--------------------+---------------------+-------+---------+-------------+----------+-------------------+-------------+--------+-------+-------------+----+-------+------------+-----+----------+---+-------+------------+\n",
      "+---------+-------------+----------------+------------------+----------------------+-----------------------+--------------+----------------+--------------------+---------------------+-------+---------+-------------+----------+-------------------+-------------+--------+-------+-------------+----+-------+------------+-----+----------+---+-------+------------+\n",
      "\n"
     ]
    }
   ],
   "source": [
    "# spark.sql(\"select count(*) from bronze.DW_ny_bike.trip_data_nybike  limit 19;\").show()\n",
    "\n",
    "spark.sql(\"\"\"\n",
    "select \n",
    "    *\n",
    "    --count(*) \n",
    "    --distinct(enr_user_type)\n",
    "from bronze.SylverDw_nybike.trip_data_nybike \n",
    "where \n",
    "    dw_period_tag = '2015'\n",
    "    limit 10\n",
    "    ;\"\"\"\n",
    "         ).show()"
   ]
  },
  {
   "cell_type": "code",
   "execution_count": 27,
   "id": "c383c563",
   "metadata": {},
   "outputs": [
    {
     "name": "stdout",
     "output_type": "stream",
     "text": [
      "+-------------+----------------+----------------+--------------------+----------------------+-----------------------+--------------+--------------------+--------------------+---------------------+---------+------+-------------------+-------+-------------+--------------------+--------------------+-------------+\n",
      "|dw_period_tag|         ride_id|start_station_id|  start_station_name|start_station_latitude|start_station_longitude|end_station_id|    end_station_name|end_station_latitude|end_station_longitude|user_type|gender|customer_year_birth|bike_id|rideable_type|            start_at|             stop_at|trip_duration|\n",
      "+-------------+----------------+----------------+--------------------+----------------------+-----------------------+--------------+--------------------+--------------------+---------------------+---------+------+-------------------+-------+-------------+--------------------+--------------------+-------------+\n",
      "|       200408|DDF3FD436F128E4E|         8149.09|Ogden Ave & W 165 St|             40.834457|             -73.928381|       8041.07|E 161 St & River Ave|           40.827883|           -73.927111|   member|  NULL|               NULL|   NULL|electric_bike|2024-08-29 15:01:...|2024-08-29 15:05:...|         NULL|\n",
      "|       200408|AFE5DB88E15109EA|         5430.08|Franklin St & W B...|           40.71911552|           -74.00666661|       5470.12|North Moore St & ...|   40.72019521437465|    -74.0103006362915|   member|  NULL|               NULL|   NULL| classic_bike|2024-08-21 18:41:...|2024-08-21 18:48:...|         NULL|\n",
      "|       200408|88F1CE37D662D8E8|         5593.04|      E 4 St & 2 Ave|            40.7262807|           -73.98978041|        5779.1|     E 14 St & 1 Ave|   40.73139303364151|   -73.98286700248718|   member|  NULL|               NULL|   NULL| classic_bike|2024-08-23 19:12:...|2024-08-23 19:16:...|         NULL|\n",
      "|       200408|73D93F3505537785|         5730.08|Greenwich St & W ...|             40.728846|             -74.008591|       5703.13|     Ave A & E 11 St|   40.72854745023944|   -73.98175925016403|   member|  NULL|               NULL|   NULL|electric_bike|2024-08-18 16:45:...|2024-08-18 17:02:...|         NULL|\n",
      "|       200408|28D0FF30828DEAA0|         8218.04|Ogden Ave & Merri...|             40.839142|             -73.925961|       8041.07|E 161 St & River Ave|           40.827883|           -73.927111|   member|  NULL|               NULL|   NULL|electric_bike|2024-08-27 15:49:...|2024-08-27 16:00:...|         NULL|\n",
      "|       200408|5A17C0AC8C2F55EC|         8149.09|Ogden Ave & W 165 St|             40.834457|             -73.928381|       8277.03|Washington Ave & ...|           40.843079|           -73.900216|   member|  NULL|               NULL|   NULL|electric_bike|2024-08-27 08:27:...|2024-08-27 08:41:...|         NULL|\n",
      "|       200408|87343991172AEEB6|         5430.08|Franklin St & W B...|           40.71911552|           -74.00666661|        5779.1|     E 14 St & 1 Ave|   40.73139303364151|   -73.98286700248718|   member|  NULL|               NULL|   NULL|electric_bike|2024-08-28 19:09:...|2024-08-28 19:24:...|         NULL|\n",
      "|       200408|B3E3C9942D973AC0|         8149.09|Ogden Ave & W 165 St|             40.834457|             -73.928381|       8277.03|Washington Ave & ...|           40.843079|           -73.900216|   member|  NULL|               NULL|   NULL|electric_bike|2024-08-30 08:03:...|2024-08-30 08:25:...|         NULL|\n",
      "|       200408|2D881E40E696D7DF|         6667.04|     W 47 St & 6 Ave|             40.758397|              -73.98255|       5769.06|     Ave C & E 16 St|   40.72984830346529|   -73.97455215454102|   member|  NULL|               NULL|   NULL|electric_bike|2024-08-27 11:52:...|2024-08-27 12:06:...|         NULL|\n",
      "|       200408|8AE19AC118EBEE56|         6190.08|     9 Ave & W 18 St|           40.74317449|           -74.00366443|       5703.13|     Ave A & E 11 St|   40.72854745023944|   -73.98175925016403|   member|  NULL|               NULL|   NULL|electric_bike|2024-08-28 18:38:...|2024-08-28 18:51:...|         NULL|\n",
      "|       200408|F13BB747C9285CC7|         5730.08|Greenwich St & W ...|             40.728846|             -74.008591|       5578.02|Watts St & Greenw...|         40.72405549|         -74.00965965|   member|  NULL|               NULL|   NULL|electric_bike|2024-08-19 09:31:...|2024-08-19 09:33:...|         NULL|\n",
      "|       200408|86B47E48BFB28A68|         5593.04|      E 4 St & 2 Ave|            40.7262807|           -73.98978041|        5779.1|     E 14 St & 1 Ave|   40.73139303364151|   -73.98286700248718|   member|  NULL|               NULL|   NULL|electric_bike|2024-08-19 16:53:...|2024-08-19 16:57:...|         NULL|\n",
      "|       200408|3A19A05437BE15EC|         5730.08|Greenwich St & W ...|             40.728846|             -74.008591|       5769.06|     Ave C & E 16 St|   40.72984830346529|   -73.97455215454102|   member|  NULL|               NULL|   NULL| classic_bike|2024-08-27 21:36:...|2024-08-27 21:58:...|         NULL|\n",
      "|       200408|3FF519C91D2E2005|         5001.08|Little West St & ...|           40.70569254|           -74.01677685|       5470.12|North Moore St & ...|   40.72019521437465|    -74.0103006362915|   member|  NULL|               NULL|   NULL| classic_bike|2024-08-16 06:12:...|2024-08-16 06:19:...|         NULL|\n",
      "|       200408|F475DDF35D5C1924|         5593.04|      E 4 St & 2 Ave|            40.7262807|           -73.98978041|        5779.1|     E 14 St & 1 Ave|   40.73139303364151|   -73.98286700248718|   member|  NULL|               NULL|   NULL| classic_bike|2024-08-16 22:04:...|2024-08-16 22:10:...|         NULL|\n",
      "|       200408|F006049EAFE6A8F6|         5001.08|Little West St & ...|           40.70569254|           -74.01677685|       5470.12|North Moore St & ...|   40.72019521437465|    -74.0103006362915|   member|  NULL|               NULL|   NULL| classic_bike|2024-08-18 08:20:...|2024-08-18 08:28:...|         NULL|\n",
      "|       200408|CA22FD4535DFB102|         5001.08|Little West St & ...|           40.70569254|           -74.01677685|       5470.12|North Moore St & ...|   40.72019521437465|    -74.0103006362915|   member|  NULL|               NULL|   NULL|electric_bike|2024-08-16 08:16:...|2024-08-16 08:22:...|         NULL|\n",
      "|       200408|69B6281FF98F9DB3|         5730.08|Greenwich St & W ...|             40.728846|             -74.008591|       5470.12|North Moore St & ...|   40.72019521437465|    -74.0103006362915|   member|  NULL|               NULL|   NULL| classic_bike|2024-08-28 07:31:...|2024-08-28 07:38:...|         NULL|\n",
      "|       200408|9D3D77FCBA82174B|         3460.02|       36 St & 3 Ave|             40.655716|             -74.006664|       4042.08|Underhill Ave & L...|          40.6740123|          -73.9671457|   member|  NULL|               NULL|   NULL|electric_bike|2024-08-31 18:52:...|2024-08-31 19:08:...|         NULL|\n",
      "+-------------+----------------+----------------+--------------------+----------------------+-----------------------+--------------+--------------------+--------------------+---------------------+---------+------+-------------------+-------+-------------+--------------------+--------------------+-------------+\n",
      "\n"
     ]
    }
   ],
   "source": [
    "# spark.sql(\"select distinct(dw_period_tag) from  bronze.DW_ny_bike.trip_data_nybike limit 19;\").show()\n",
    "spark.sql(\"\"\"\n",
    "select \n",
    "--count(*)\n",
    "*\n",
    "from  bronze.DW_ny_bike.trip_data_nybike \n",
    "where dw_period_tag like '200408%' \n",
    "limit 19;\n",
    "\"\"\").show()\n",
    "# spark.sql(\"DELETE FROM bronze.DW_ny_bike.trip_data_nybike WHERE dw_period_tag='2022';\")"
   ]
  },
  {
   "cell_type": "code",
   "execution_count": null,
   "id": "e60b1961-c06f-4aa5-805a-f7b8dc8a6717",
   "metadata": {},
   "outputs": [],
   "source": []
  },
  {
   "cell_type": "code",
   "execution_count": 4,
   "id": "acf20397",
   "metadata": {},
   "outputs": [
    {
     "name": "stderr",
     "output_type": "stream",
     "text": [
      "                                                                                \r"
     ]
    },
    {
     "name": "stdout",
     "output_type": "stream",
     "text": [
      "++\n",
      "||\n",
      "++\n",
      "++\n",
      "\n"
     ]
    },
    {
     "name": "stderr",
     "output_type": "stream",
     "text": [
      "\r",
      "[Stage 1:>                                                          (0 + 1) / 1]\r"
     ]
    },
    {
     "name": "stdout",
     "output_type": "stream",
     "text": [
      "+-----------------+\n",
      "|             name|\n",
      "+-----------------+\n",
      "|      Alex Merced|\n",
      "|Dipankar Mazumdar|\n",
      "|     Jason Hughes|\n",
      "+-----------------+\n",
      "\n"
     ]
    },
    {
     "name": "stderr",
     "output_type": "stream",
     "text": [
      "\r",
      "                                                                                \r"
     ]
    }
   ],
   "source": [
    "## Insert Some Data\n",
    "spark.sql(\"INSERT INTO nessie.names VALUES ('Alex Merced'), ('Dipankar Mazumdar'), ('Jason Hughes')\").show()"
   ]
  },
  {
   "cell_type": "code",
   "execution_count": 68,
   "id": "d2308fd5-e767-42aa-8b69-5649b40153d0",
   "metadata": {},
   "outputs": [
    {
     "name": "stdout",
     "output_type": "stream",
     "text": [
      "+-------------+-------+----------------+--------------------+----------------------+-----------------------+--------------+--------------------+--------------------+---------------------+----------+------+-------------------+-------+-------------+--------+-------+-------------+\n",
      "|dw_period_tag|ride_id|start_station_id|  start_station_name|start_station_latitude|start_station_longitude|end_station_id|    end_station_name|end_station_latitude|end_station_longitude| user_type|gender|customer_year_birth|bike_id|rideable_type|start_at|stop_at|trip_duration|\n",
      "+-------------+-------+----------------+--------------------+----------------------+-----------------------+--------------+--------------------+--------------------+---------------------+----------+------+-------------------+-------+-------------+--------+-------+-------------+\n",
      "|         2014|   NULL|             479|     9 Ave & W 45 St|           40.76019252|            -73.9912551|           540|Lexington Ave & E...|         40.74147286|         -73.98320928|Subscriber|     1|             1977.0|  21376|         NULL|    NULL|   NULL|       1027.0|\n",
      "|         2014|   NULL|             417|Barclay St & Chur...|           40.71291224|           -74.01020234|           417|Barclay St & Chur...|         40.71291224|         -74.01020234|Subscriber|     2|             1974.0|  16086|         NULL|    NULL|   NULL|        534.0|\n",
      "|         2014|   NULL|             327|Vesey Pl & River ...|            40.7153379|           -74.01658354|           415|Pearl St & Hanove...|          40.7047177|         -74.00926027|Subscriber|     1|             1990.0|  16073|         NULL|    NULL|   NULL|        416.0|\n",
      "+-------------+-------+----------------+--------------------+----------------------+-----------------------+--------------+--------------------+--------------------+---------------------+----------+------+-------------------+-------+-------------+--------+-------+-------------+\n",
      "\n"
     ]
    }
   ],
   "source": [
    "## Query the Data\n",
    "spark.sql(\"SELECT * FROM nessie.dw_nybike.trip_data_nybike limit 3;\").show()"
   ]
  },
  {
   "cell_type": "code",
   "execution_count": 5,
   "id": "a5e4f1d9-d582-4668-b8d2-7988cce18c0a",
   "metadata": {},
   "outputs": [],
   "source": [
    "from pyspark.sql import DataFrame \n",
    "from typing import Optional\n",
    "from pyspark.sql.functions import lit,concat,to_timestamp,unix_timestamp , from_unixtime ,try_to_timestamp,col,month , udf,isnull ,when\n",
    "from pyspark.sql.types import StructType, StructField, StringType, IntegerType , TimestampType , DoubleType , FloatType, DateType,NullType\n",
    "from pyspark.sql import functions as f\n",
    "\n",
    "\n",
    "bronze_schema_ny_bike = StructType([\n",
    "    StructField(\"dw_period_tag\", StringType(), nullable=True),\n",
    "    StructField(\"ride_id\", StringType(), nullable=True),\n",
    "    StructField(\"start_station_id\", StringType(), nullable=True),\n",
    "    StructField(\"start_station_name\", StringType(), nullable=True),\n",
    "    StructField(\"start_station_latitude\", StringType(), nullable=True),\n",
    "    StructField(\"start_station_longitude\", StringType(), nullable=True),\n",
    "    StructField(\"end_station_id\", StringType(), nullable=True),\n",
    "    StructField(\"end_station_name\", StringType(), nullable=True),\n",
    "    StructField(\"end_station_latitude\", StringType(), nullable=True),\n",
    "    StructField(\"end_station_longitude\", StringType(), nullable=True),\n",
    "    StructField(\"bike_id\", StringType(), nullable=True),\n",
    "    StructField(\"user_type\", StringType(), nullable=True),\n",
    "    StructField(\"gender\", StringType(), nullable=True),\n",
    "    StructField(\"customer_year_birth\", StringType(), nullable=True),\n",
    "    StructField(\"rideable_type\", StringType(), nullable=True),\n",
    "    StructField(\"start_at\", StringType(), nullable=True),\n",
    "    StructField(\"stop_at\", StringType(), nullable=True),\n",
    "    StructField(\"trip_duration\", StringType(), nullable=True)\n",
    "])\n",
    "\n",
    "sylver_schema_ny_bike = StructType([\n",
    "    StructField(\"trip_uuid\", StringType(), nullable=True),\n",
    "    StructField(\"dw_period_tag\", StringType(), nullable=True),\n",
    "    StructField(\"start_station_id\", StringType(), nullable=True),\n",
    "    StructField(\"start_station_name\", StringType(), nullable=True),\n",
    "    StructField(\"start_station_latitude\", StringType(), nullable=True),\n",
    "    StructField(\"start_station_longitude\", StringType(), nullable=True),\n",
    "    StructField(\"end_station_id\", StringType(), nullable=True),\n",
    "    StructField(\"end_station_name\", StringType(), nullable=True),\n",
    "    StructField(\"end_station_latitude\", StringType(), nullable=True),\n",
    "    StructField(\"end_station_longitude\", StringType(), nullable=True),\n",
    "    StructField(\"bike_id\", StringType(), nullable=True),\n",
    "    StructField(\"enr_gender\", StringType(), nullable=True),\n",
    "    StructField(\"customer_year_birth\", StringType(), nullable=True),\n",
    "    StructField(\"rideable_type\", StringType(), nullable=True),\n",
    "    StructField(\"start_at\", TimestampType(), nullable=True),\n",
    "    StructField(\"stop_at\", TimestampType(), nullable=True),\n",
    "    StructField(\"trip_duration\", DoubleType(), nullable=True),\n",
    "    StructField(\"user_type\", StringType(), nullable=True),\n",
    "    StructField(\"enr_user_type\", StringType(), nullable=True),\n",
    "    StructField(\"year\", IntegerType(), nullable=True),\n",
    "    StructField(\"quarter\", IntegerType(), nullable=True),\n",
    "    StructField(\"quarter_name\", StringType(), nullable=True),\n",
    "    StructField(\"month\", IntegerType(), nullable=True),\n",
    "    StructField(\"month_name\", StringType(), nullable=True),\n",
    "    StructField(\"day\", IntegerType(), nullable=True),\n",
    "    StructField(\"weekday\", IntegerType(), nullable=True),\n",
    "    StructField(\"weekday_name\", StringType(), nullable=True)\n",
    "])"
   ]
  },
  {
   "cell_type": "code",
   "execution_count": 50,
   "id": "c393fc1e-ec73-4a7d-a16b-9233a353dfce",
   "metadata": {},
   "outputs": [],
   "source": [
    "import yaml\n",
    "def config_reader(path:str):\n",
    "    # Load YAML config\n",
    "    with open(path, \"r\") as f:\n",
    "        config = yaml.safe_load(f)\n",
    "    return config\n",
    "    \n",
    "def run(df,config):\n",
    "    print(\"Cast To Datamodel initiated\")\n",
    "    data_model_from_df = list(dict(df.dtypes).keys())\n",
    "\n",
    "    filtered_column = list(filter( lambda x: x not in data_model_from_df ,config['schema'].names ))\n",
    "    if len(filtered_column) > 0 :\n",
    "        for column in filtered_column:\n",
    "            df =  df.withColumn(column, lit(None))\n",
    "\n",
    "    df = df.select([\n",
    "        col(field.name).cast(field.dataType).alias(field.name) \n",
    "        for field in config['schema'].fields\n",
    "    ])\n",
    "    return df"
   ]
  },
  {
   "cell_type": "code",
   "execution_count": 49,
   "id": "d7502a4b-52fe-4de0-b731-cde010db868f",
   "metadata": {},
   "outputs": [],
   "source": [
    "file_bike_2015='/opt/airflow/data/2015-citibike-tripdata/1_January/*.csv'\n",
    "# file_bike_2017='/opt/airflow/data/2017-citibike-tripdata/*/*.csv'"
   ]
  },
  {
   "cell_type": "code",
   "execution_count": 54,
   "id": "80d02b77-63ff-4114-934c-fa63abb2a060",
   "metadata": {},
   "outputs": [
    {
     "name": "stdout",
     "output_type": "stream",
     "text": [
      "10_October   12_December  2_February  4_April  6_June  8_August\n",
      "11_November  1_January\t  3_March     5_May    7_July  9_September\n"
     ]
    }
   ],
   "source": [
    "!ls /opt/airflow/data/2015-citibike-tripdata/"
   ]
  },
  {
   "cell_type": "code",
   "execution_count": 45,
   "id": "8a14fff5-9f09-41d1-b99f-cd58661e34f2",
   "metadata": {},
   "outputs": [
    {
     "name": "stdout",
     "output_type": "stream",
     "text": [
      "==> /opt/airflow/data/2015-citibike-tripdata/10_October/201510-citibike-tripdata_1.csv <==\n",
      "tripduration,starttime,stoptime,start station id,start station name,start station latitude,start station longitude,end station id,end station name,end station latitude,end station longitude,bikeid,usertype,birth year,gender\n",
      "171,10/1/2015 00:00:02,10/1/2015 00:02:54,388,W 26 St & 10 Ave,40.749717753,-74.002950346,494,W 26 St & 8 Ave,40.74734825,-73.99723551,24302,Subscriber,1973.0,1\n",
      "593,10/1/2015 00:00:02,10/1/2015 00:09:55,518,E 39 St & 2 Ave,40.74780373,-73.9734419,438,St Marks Pl & 1 Ave,40.72779126,-73.98564945,19904,Subscriber,1990.0,1\n",
      "233,10/1/2015 00:00:11,10/1/2015 00:04:05,447,8 Ave & W 52 St,40.76370739,-73.9851615,447,8 Ave & W 52 St,40.76370739,-73.9851615,17797,Subscriber,1984.0,1\n",
      "250,10/1/2015 00:00:15,10/1/2015 00:04:25,336,Sullivan St & Washington Sq,40.73047747,-73.99906065,223,W 13 St & 7 Ave,40.73781509,-73.99994661,23966,Subscriber,1984.0,1\n",
      "528,10/1/2015 00:00:17,10/1/2015 00:09:05,3107,Bedford Ave & Nassau Ave,40.72311651,-73.95212324,539,Metropolitan Ave & Bedford Ave,40.71534825,-73.96024116,16246,Customer,,0\n",
      "440,10/1/2015 00:00:17,10/1/2015 00:07:37,3107,Bedford Ave & Nassau Ave,40.72311651,-73.95212324,539,Metropolitan Ave & Bedford Ave,40.71534825,-73.96024116,23698,Customer,,0\n",
      "1185,10/1/2015 00:00:22,10/1/2015 00:20:07,531,Forsyth St & Broome St,40.71893904,-73.99266288,3064,Myrtle Ave & Lewis Ave,40.69681963,-73.93756926,17110,Subscriber,1987.0,1\n",
      "618,10/1/2015 00:00:25,10/1/2015 00:10:44,3002,South End Ave & Liberty St,40.711512,-74.015756,2004,6 Ave & Broome St,40.724399,-74.004704,16344,Subscriber,1989.0,1\n",
      "865,10/1/2015 00:00:31,10/1/2015 00:14:57,438,St Marks Pl & 1 Ave,40.72779126,-73.98564945,486,Broadway & W 29 St,40.7462009,-73.98855723,23822,Subscriber,1991.0,2\n",
      "\n",
      "==> /opt/airflow/data/2015-citibike-tripdata/10_October/201510-citibike-tripdata_2.csv <==\n",
      "tripduration,starttime,stoptime,start station id,start station name,start station latitude,start station longitude,end station id,end station name,end station latitude,end station longitude,bikeid,usertype,birth year,gender\n",
      "555,10/26/2015 13:10:10,10/26/2015 13:19:25,480,W 53 St & 10 Ave,40.76669671,-73.99061728,524,W 43 St & 6 Ave,40.75527307,-73.98316936,17359,Subscriber,1988.0,1\n",
      "818,10/26/2015 13:10:19,10/26/2015 13:23:58,281,Grand Army Plaza & Central Park S,40.7643971,-73.97371465,3148,E 84 St & 1 Ave,40.77565541,-73.95068615,19726,Subscriber,1993.0,1\n",
      "400,10/26/2015 13:10:18,10/26/2015 13:16:58,293,Lafayette St & E 8 St,40.73028666,-73.9907647,303,Mercer St & Spring St,40.72362738,-73.99949601,23696,Subscriber,1984.0,1\n",
      "513,10/26/2015 13:10:20,10/26/2015 13:18:53,362,Broadway & W 37 St,40.75172632,-73.98753523,435,W 21 St & 6 Ave,40.74173969,-73.99415556,23812,Subscriber,1979.0,1\n",
      "233,10/26/2015 13:10:21,10/26/2015 13:14:14,3158,W 63 St & Broadway,40.77163851,-73.98261428,468,Broadway & W 55 St,40.7652654,-73.98192338,24045,Subscriber,1987.0,1\n",
      "1081,10/26/2015 13:10:22,10/26/2015 13:28:23,519,Pershing Square North,40.751873,-73.977706,3144,E 81 St & Park Ave,40.77677702,-73.9590097,15974,Subscriber,1984.0,2\n",
      "728,10/26/2015 13:10:26,10/26/2015 13:22:35,447,8 Ave & W 52 St,40.76370739,-73.9851615,3159,W 67 St & Broadway,40.77492513,-73.98266566,19366,Subscriber,1989.0,1\n",
      "277,10/26/2015 13:10:29,10/26/2015 13:15:07,2008,Little West St & 1 Pl,40.70569254,-74.01677685,534,Water - Whitehall Plaza,40.70255065,-74.0127234,20641,Subscriber,1956.0,2\n",
      "268,10/26/2015 13:10:35,10/26/2015 13:15:04,448,W 37 St & 10 Ave,40.75660359,-73.9979009,458,11 Ave & W 27 St,40.751396,-74.005226,23379,Subscriber,1971.0,1\n"
     ]
    }
   ],
   "source": [
    "!head /opt/airflow/data/2015-citibike-tripdata/10_October/*.csv"
   ]
  },
  {
   "cell_type": "code",
   "execution_count": null,
   "id": "40446034-e5c4-41a9-b3e0-44a9d2a3dc75",
   "metadata": {},
   "outputs": [],
   "source": []
  },
  {
   "cell_type": "code",
   "execution_count": 39,
   "id": "5439a662-bed2-4c5c-b4d3-1ef5851d63a8",
   "metadata": {},
   "outputs": [],
   "source": [
    "# dfinit =spark.read.format('csv').options(inferSchema='True', header='True',delimiter=',').load(file_bike_2015)\n",
    "# df2017 =spark.read.format('csv').options(header='True').load(file_bike_2017)\n",
    "dfinit= spark.sql(\"\"\"SELECT * FROM bronze.DW_ny_bike.trip_data_nybike WHERE dw_period_tag='2015'; \"\"\")"
   ]
  },
  {
   "cell_type": "code",
   "execution_count": 40,
   "id": "f915952a-3cad-4143-8d21-f6c0925e30bf",
   "metadata": {},
   "outputs": [
    {
     "data": {
      "text/plain": [
       "9937969"
      ]
     },
     "execution_count": 40,
     "metadata": {},
     "output_type": "execute_result"
    }
   ],
   "source": [
    "dfinit.count()"
   ]
  },
  {
   "cell_type": "code",
   "execution_count": 8,
   "id": "cbef5c56-bc6d-40e9-9e62-73dd05d999bc",
   "metadata": {},
   "outputs": [],
   "source": [
    "dfinit_2= spark.sql(\"\"\"SELECT * FROM bronze.DW_ny_bike.trip_data_nybike WHERE dw_period_tag='2015'; \"\"\")"
   ]
  },
  {
   "cell_type": "code",
   "execution_count": null,
   "id": "f4004092-6428-45ae-b119-521348bd43f2",
   "metadata": {},
   "outputs": [],
   "source": [
    "spark.sql(\"\"\"SELECT * FROM bronze.DW_ny_bike.trip_data_nybike WHERE dw_period_tag='2015'; \"\"\")"
   ]
  },
  {
   "cell_type": "code",
   "execution_count": 31,
   "id": "6b9381ef-9b4d-4c42-b4eb-9d9ef9aba355",
   "metadata": {},
   "outputs": [],
   "source": [
    "config=config_reader('config.yaml')"
   ]
  },
  {
   "cell_type": "code",
   "execution_count": 9,
   "id": "90c9aad1-77f0-4e05-8643-1efdd9699bfe",
   "metadata": {},
   "outputs": [
    {
     "name": "stderr",
     "output_type": "stream",
     "text": [
      "[Stage 0:>                                                          (0 + 1) / 1]\r"
     ]
    },
    {
     "name": "stdout",
     "output_type": "stream",
     "text": [
      "+-------------+-------+----------------+------------------+----------------------+-----------------------+--------------+----------------+--------------------+---------------------+----------+------+-------------------+-------+-------------+--------------+--------------+-------------+\n",
      "|dw_period_tag|ride_id|start_station_id|start_station_name|start_station_latitude|start_station_longitude|end_station_id|end_station_name|end_station_latitude|end_station_longitude| user_type|gender|customer_year_birth|bike_id|rideable_type|      start_at|       stop_at|trip_duration|\n",
      "+-------------+-------+----------------+------------------+----------------------+-----------------------+--------------+----------------+--------------------+---------------------+----------+------+-------------------+-------+-------------+--------------+--------------+-------------+\n",
      "|         2015|   NULL|             499|Broadway & W 60 St|           40.76915505|           -73.98191841|           423| W 54 St & 9 Ave|         40.76584941|         -73.98690506|Subscriber|     1|             1984.0|  15338|         NULL|1/18/2015 0:00|1/18/2015 0:05|          269|\n",
      "|         2015|   NULL|             164|   E 47 St & 2 Ave|           40.75323098|           -73.97032517|          2017| E 43 St & 2 Ave|         40.75022392|         -73.97121414|Subscriber|     1|             1954.0|  19103|         NULL|1/18/2015 0:01|1/18/2015 0:39|         2275|\n",
      "|         2015|   NULL|             529|   W 42 St & 8 Ave|            40.7575699|           -73.99098507|           478|11 Ave & W 41 St|         40.76030096|         -73.99884222|Subscriber|     1|             1981.0|  15653|         NULL|1/18/2015 0:01|1/18/2015 0:05|          223|\n",
      "+-------------+-------+----------------+------------------+----------------------+-----------------------+--------------+----------------+--------------------+---------------------+----------+------+-------------------+-------+-------------+--------------+--------------+-------------+\n",
      "only showing top 3 rows\n",
      "\n"
     ]
    },
    {
     "name": "stderr",
     "output_type": "stream",
     "text": [
      "                                                                                \r"
     ]
    }
   ],
   "source": [
    "dfinit_2.filter(dfinit_2.start_at.like('1/18/2015%')).show(3)"
   ]
  },
  {
   "cell_type": "code",
   "execution_count": 72,
   "id": "c29c3bfd-0f63-4652-b8b2-5fadd8c9392a",
   "metadata": {},
   "outputs": [
    {
     "name": "stdout",
     "output_type": "stream",
     "text": [
      "+-------------+-------+----------------+--------------------+----------------------+-----------------------+--------------+--------------------+--------------------+---------------------+----------+------+-------------------+-------+-------------+-------------------+-------------------+-------------+\n",
      "|dw_period_tag|ride_id|start_station_id|  start_station_name|start_station_latitude|start_station_longitude|end_station_id|    end_station_name|end_station_latitude|end_station_longitude| user_type|gender|customer_year_birth|bike_id|rideable_type|           start_at|            stop_at|trip_duration|\n",
      "+-------------+-------+----------------+--------------------+----------------------+-----------------------+--------------+--------------------+--------------------+---------------------+----------+------+-------------------+-------+-------------+-------------------+-------------------+-------------+\n",
      "|         2015|   NULL|             497|  E 17 St & Broadway|           40.73704984|           -73.99009296|           518|     E 39 St & 2 Ave|         40.74780373|          -73.9734419|Subscriber|     2|             1979.0|  20184|         NULL|10/16/2015 00:00:06|10/16/2015 00:18:04|         1077|\n",
      "|         2015|   NULL|            3176|W 64 St & West En...|           40.77452835|           -73.98753759|          3175|W 70 St & Amsterd...|         40.77748046|         -73.98288594|Subscriber|     1|             1977.0|  24188|         NULL|10/16/2015 00:00:13|10/16/2015 00:07:21|          427|\n",
      "|         2015|   NULL|             512|     W 29 St & 9 Ave|            40.7500727|           -73.99839279|           536|     1 Ave & E 30 St|         40.74144387|         -73.97536082|Subscriber|     1|             1979.0|  15005|         NULL|10/16/2015 00:00:17|10/16/2015 00:10:52|          634|\n",
      "+-------------+-------+----------------+--------------------+----------------------+-----------------------+--------------+--------------------+--------------------+---------------------+----------+------+-------------------+-------+-------------+-------------------+-------------------+-------------+\n",
      "only showing top 3 rows\n",
      "\n"
     ]
    }
   ],
   "source": [
    "dfinit_2.filter(dfinit_2.start_at.like('10/16/2015%')).show(3)"
   ]
  },
  {
   "cell_type": "code",
   "execution_count": 135,
   "id": "14628d30-8c25-4cda-b234-15b1a0da7eb9",
   "metadata": {},
   "outputs": [
    {
     "name": "stdout",
     "output_type": "stream",
     "text": [
      "Cast To Datamodel initiated\n"
     ]
    }
   ],
   "source": [
    "config={'schema':sylver_schema_ny_bike}\n",
    "df_casted = run(dfinit,config)"
   ]
  },
  {
   "cell_type": "code",
   "execution_count": 138,
   "id": "66377814-979a-48f0-93dc-eb209c60c9c1",
   "metadata": {},
   "outputs": [
    {
     "name": "stdout",
     "output_type": "stream",
     "text": [
      "root\n",
      " |-- trip_uuid: string (nullable = true)\n",
      " |-- dw_period_tag: string (nullable = true)\n",
      " |-- start_station_id: string (nullable = true)\n",
      " |-- start_station_name: string (nullable = true)\n",
      " |-- start_station_latitude: string (nullable = true)\n",
      " |-- start_station_longitude: string (nullable = true)\n",
      " |-- end_station_id: string (nullable = true)\n",
      " |-- end_station_name: string (nullable = true)\n",
      " |-- end_station_latitude: string (nullable = true)\n",
      " |-- end_station_longitude: string (nullable = true)\n",
      " |-- bike_id: integer (nullable = true)\n",
      " |-- enr_gender: string (nullable = true)\n",
      " |-- customer_year_birth: string (nullable = true)\n",
      " |-- rideable_type: string (nullable = true)\n",
      " |-- start_at: timestamp (nullable = true)\n",
      " |-- stop_at: timestamp (nullable = true)\n",
      " |-- trip_duration: double (nullable = true)\n",
      " |-- customer_type: string (nullable = true)\n",
      " |-- quarter: integer (nullable = true)\n",
      " |-- quarter_name: string (nullable = true)\n",
      " |-- month: integer (nullable = true)\n",
      " |-- month_name: string (nullable = true)\n",
      " |-- day: integer (nullable = true)\n",
      " |-- weekday: integer (nullable = true)\n",
      " |-- weekday_name: string (nullable = true)\n",
      "\n"
     ]
    }
   ],
   "source": [
    "df_casted.printSchema()"
   ]
  },
  {
   "cell_type": "code",
   "execution_count": 130,
   "id": "729fbeaf-9e5b-4ec7-8ecc-7adc1f1b6a86",
   "metadata": {},
   "outputs": [],
   "source": [
    "# df_casted.select('*').when(isnull('start_at')).show(10)\n",
    "# df_casted.filter(month(col('start_at')) ==  ).show(1)"
   ]
  },
  {
   "cell_type": "code",
   "execution_count": 12,
   "id": "c5522375-0652-4559-b55c-781e780bff57",
   "metadata": {},
   "outputs": [
    {
     "name": "stdout",
     "output_type": "stream",
     "text": [
      "root\n",
      " |-- trip_duration: integer (nullable = true)\n",
      " |-- start_at: string (nullable = true)\n",
      " |-- stop_at: string (nullable = true)\n",
      " |-- start_station_id: integer (nullable = true)\n",
      " |-- start_station_name: string (nullable = true)\n",
      " |-- start_station_latitude: double (nullable = true)\n",
      " |-- start_station_longitude: double (nullable = true)\n",
      " |-- end_station_id: integer (nullable = true)\n",
      " |-- end_station_name: string (nullable = true)\n",
      " |-- end_station_latitude: double (nullable = true)\n",
      " |-- end_station_longitude: double (nullable = true)\n",
      " |-- bike_id: integer (nullable = true)\n",
      " |-- user_type: string (nullable = true)\n",
      " |-- customer_year_birth: string (nullable = true)\n",
      " |-- gender: integer (nullable = true)\n",
      "\n"
     ]
    }
   ],
   "source": [
    "df_renamed.printSchema()"
   ]
  },
  {
   "cell_type": "code",
   "execution_count": 69,
   "id": "fabd9d38-e317-41fa-89ce-a960461408d6",
   "metadata": {},
   "outputs": [],
   "source": [
    "# dfconverted = df.to(bronze_schema_ny_bike)\n",
    "# df.select(df.start_at.cast(\"TIMESTAMP\").alias('start_at')).show()\n",
    "# df.select(to_timestamp(df.start_at, 'MM/dd/yyyy HH:mm:ss')).show(5)\n",
    "# df.select(from_unixtime(unix_timestamp('start_at', 'MM/dd/yyyy HH:mm:ss')).cast(TimestampType()).alias(\"timestamp\")).show(5)\n",
    "\n",
    "from pyspark.sql.types import *\n",
    "from pyspark.sql.functions import unix_timestamp, from_unixtime,to_timestamp,udf\n",
    "\n",
    "# df_renamed_v2 = df_renamed.select(from_unixtime(unix_timestamp('start_at', 'MM/dd/yyyy hh:mm:ss ')).cast(TimestampType()).alias(\"timestamp\"))\n",
    "# change timestamp format"
   ]
  },
  {
   "cell_type": "code",
   "execution_count": 22,
   "id": "a2327764-65ab-43c3-bb52-6c66c3efac10",
   "metadata": {},
   "outputs": [],
   "source": [
    "df_renamed_v2 = df_renamed.withColumn(\"timestamp\", to_timestamp(\"start_at\", \"d/M/yyyy HH:mm:ss\"))\n",
    "# df = df.withColumn(\"timestamp\", to_timestamp(df[\"date_string\"], \"M/d/yyyy HH:mm:ss\"))\n"
   ]
  },
  {
   "cell_type": "code",
   "execution_count": 137,
   "id": "aedc22bb-1459-41f4-9141-9cd9827ca3dd",
   "metadata": {},
   "outputs": [
    {
     "name": "stdout",
     "output_type": "stream",
     "text": [
      "root\n",
      " |-- trip_uuid: string (nullable = true)\n",
      " |-- dw_period_tag: string (nullable = true)\n",
      " |-- start_station_id: string (nullable = true)\n",
      " |-- start_station_name: string (nullable = true)\n",
      " |-- start_station_latitude: string (nullable = true)\n",
      " |-- start_station_longitude: string (nullable = true)\n",
      " |-- end_station_id: string (nullable = true)\n",
      " |-- end_station_name: string (nullable = true)\n",
      " |-- end_station_latitude: string (nullable = true)\n",
      " |-- end_station_longitude: string (nullable = true)\n",
      " |-- bike_id: integer (nullable = true)\n",
      " |-- enr_gender: string (nullable = true)\n",
      " |-- customer_year_birth: string (nullable = true)\n",
      " |-- rideable_type: string (nullable = true)\n",
      " |-- start_at: timestamp (nullable = true)\n",
      " |-- stop_at: timestamp (nullable = true)\n",
      " |-- trip_duration: double (nullable = true)\n",
      " |-- customer_type: string (nullable = true)\n",
      " |-- quarter: integer (nullable = true)\n",
      " |-- quarter_name: string (nullable = true)\n",
      " |-- month: integer (nullable = true)\n",
      " |-- month_name: string (nullable = true)\n",
      " |-- day: integer (nullable = true)\n",
      " |-- weekday: integer (nullable = true)\n",
      " |-- weekday_name: string (nullable = true)\n",
      "\n"
     ]
    }
   ],
   "source": [
    "df_casted.printSchema()"
   ]
  },
  {
   "cell_type": "code",
   "execution_count": 196,
   "id": "4827c74a-c2b9-4780-afde-07f8dce7d981",
   "metadata": {},
   "outputs": [
    {
     "data": {
      "text/plain": [
       "datetime.datetime(2014, 10, 1, 0, 0, 27)"
      ]
     },
     "execution_count": 196,
     "metadata": {},
     "output_type": "execute_result"
    }
   ],
   "source": [
    "from datetime import datetime\n",
    "inDate = \"10/1/2014 00:00:27\"\n",
    "d = datetime.strptime(inDate, \"%m/%d/%Y %H:%M:%S\")\n",
    "d\n",
    "# strdate = d.strftime(\"%Y-%m-%d %H:%M:%S\")"
   ]
  },
  {
   "cell_type": "code",
   "execution_count": 198,
   "id": "b8e2c462-a7fe-4b65-81d5-4e59d9a377e6",
   "metadata": {},
   "outputs": [],
   "source": [
    "str_guis=  d.strftime(\"%Y-%m-%d %H:%M:%S\")"
   ]
  },
  {
   "cell_type": "code",
   "execution_count": 200,
   "id": "2e9f4863-6a9e-4e67-a5d6-7c809d22e59e",
   "metadata": {},
   "outputs": [
    {
     "data": {
      "text/plain": [
       "str"
      ]
     },
     "execution_count": 200,
     "metadata": {},
     "output_type": "execute_result"
    }
   ],
   "source": [
    "type(str_guis)"
   ]
  },
  {
   "cell_type": "code",
   "execution_count": null,
   "id": "21586738-a80b-47fc-a1c6-a47bf6b2365d",
   "metadata": {},
   "outputs": [],
   "source": [
    "datetime.datetime(2013, 4, 29, 15, 59, 2)\n",
    "d.strftime(\"YYYYMMDD HH:mm:ss (%Y%m%d %H:%M:%S)\")\n",
    "'YYYYMMDD HH:mm:ss (20130429 15:59:02)'"
   ]
  },
  {
   "cell_type": "code",
   "execution_count": 203,
   "id": "3d4ed6c7-3eaf-4587-94de-944a0602723d",
   "metadata": {},
   "outputs": [],
   "source": [
    "# convert_udf = udf( lambda date: to_timestamp (datetime.strptime(date,'%m/%d/%Y %H:%M:%S'),TimestampType()))\n",
    "convert_udf = udf( lambda date: to_timestamp (col((datetime.strptime(date,'%m/%d/%Y %H:%M:%S').strftime(\"%Y-%m-%d %H:%M:%S\"),TimestampType()))))\n",
    "\n",
    "@udf\n",
    "def convert_to_timestam(date_in):\n",
    "    str_date = datetime.strptime(date_in,'%m/%d/%Y %H:%M:%S').strftime(\"%Y-%m-%d %H:%M:%S\")\n",
    "    # col_date = col(str_date)\n",
    "    # return to_timestamp(col_date)\n",
    "    return str_date\n",
    "\n",
    "@udf\n",
    "def convert_v2(date_in):\n",
    "    date_datetime_format = datetime.strptime(date_in,'%m/%d/%Y %H:%M:%S') \n",
    "    str_date = date_datetime_format.strftime(\"%Y-%m-%d %H:%M:%S\")\n",
    "    return str_date"
   ]
  },
  {
   "cell_type": "code",
   "execution_count": 194,
   "id": "a0136afa-3d31-41f5-bd20-470b3fa639ff",
   "metadata": {},
   "outputs": [
    {
     "name": "stdout",
     "output_type": "stream",
     "text": [
      "+------------+------------------+------------------+----------------+--------------------+----------------------+-----------------------+--------------+--------------------+--------------------+---------------------+------+----------+----------+------+\n",
      "|tripduration|         starttime|          stoptime|start station id|  start station name|start station latitude|start station longitude|end station id|    end station name|end station latitude|end station longitude|bikeid|  usertype|birth year|gender|\n",
      "+------------+------------------+------------------+----------------+--------------------+----------------------+-----------------------+--------------+--------------------+--------------------+---------------------+------+----------+----------+------+\n",
      "|        1027|10/1/2014 00:00:27|10/1/2014 00:17:34|             479|     9 Ave & W 45 St|           40.76019252|            -73.9912551|           540|Lexington Ave & E...|         40.74147286|         -73.98320928| 21376|Subscriber|    1977.0|     1|\n",
      "|         534|10/1/2014 00:00:36|10/1/2014 00:09:30|             417|Barclay St & Chur...|           40.71291224|           -74.01020234|           417|Barclay St & Chur...|         40.71291224|         -74.01020234| 16086|Subscriber|    1974.0|     2|\n",
      "+------------+------------------+------------------+----------------+--------------------+----------------------+-----------------------+--------------+--------------------+--------------------+---------------------+------+----------+----------+------+\n",
      "only showing top 2 rows\n",
      "\n"
     ]
    }
   ],
   "source": [
    "# dfinit.printSchema()\n",
    "dfinit.show(2)"
   ]
  },
  {
   "cell_type": "code",
   "execution_count": 13,
   "id": "9e01bd45-c68a-44c7-ab91-8a5fc6064c3a",
   "metadata": {},
   "outputs": [],
   "source": [
    "from pyspark.sql.functions import coalesce,lit,concat,to_timestamp,unix_timestamp , from_unixtime ,try_to_timestamp,col,month , udf,isnull ,when,cast,to_timestamp\n",
    "from pyspark.sql.types import StructType, StructField, StringType, IntegerType , TimestampType , DoubleType , FloatType, DateType,NullType\n",
    "from pyspark.sql import functions as f"
   ]
  },
  {
   "cell_type": "code",
   "execution_count": 170,
   "id": "fea40570-664d-4832-9542-e5dda81bd090",
   "metadata": {},
   "outputs": [],
   "source": [
    "row_1=dfinit.first()"
   ]
  },
  {
   "cell_type": "code",
   "execution_count": 187,
   "id": "7965f7c1-d262-459f-a0ad-005c9e52269c",
   "metadata": {},
   "outputs": [],
   "source": [
    "col_start = row_1['starttime']"
   ]
  },
  {
   "cell_type": "code",
   "execution_count": 173,
   "id": "66b0cd87-3975-4b45-b092-bca6e19afc61",
   "metadata": {},
   "outputs": [],
   "source": [
    "col_startime = convert_v2(row_1['starttime'])"
   ]
  },
  {
   "cell_type": "code",
   "execution_count": 10,
   "id": "549f188b-f144-4e7c-8d46-6b6da8bea83d",
   "metadata": {},
   "outputs": [
    {
     "name": "stderr",
     "output_type": "stream",
     "text": [
      "[Stage 3:=======================================>                   (2 + 1) / 3]\r"
     ]
    },
    {
     "name": "stdout",
     "output_type": "stream",
     "text": [
      "+-------------+-------+----------------+--------------------+----------------------+-----------------------+--------------+--------------------+--------------------+---------------------+----------+------+-------------------+-------+-------------+----------------+-------------+-------------+\n",
      "|dw_period_tag|ride_id|start_station_id|  start_station_name|start_station_latitude|start_station_longitude|end_station_id|    end_station_name|end_station_latitude|end_station_longitude| user_type|gender|customer_year_birth|bike_id|rideable_type|        start_at|      stop_at|trip_duration|\n",
      "+-------------+-------+----------------+--------------------+----------------------+-----------------------+--------------+--------------------+--------------------+---------------------+----------+------+-------------------+-------+-------------+----------------+-------------+-------------+\n",
      "|         2015|   NULL|             455|     1 Ave & E 44 St|           40.75001986|           -73.96905301|           265|Stanton St & Chry...|         40.72229346|         -73.99147535|Subscriber|     2|             1960.0|  18660|         NULL|1/1/2015 0:01:00|1/1/2015 0:24|         1346|\n",
      "|         2015|   NULL|             434|     9 Ave & W 18 St|           40.74317449|           -74.00366443|           482|     W 15 St & 7 Ave|         40.73935542|         -73.99931783|Subscriber|     1|             1963.0|  16085|         NULL|1/1/2015 0:02:00|1/1/2015 0:08|          363|\n",
      "|         2015|   NULL|             491|E 24 St & Park Ave S|           40.74096374|           -73.98602213|           505|     6 Ave & W 33 St|         40.74901271|         -73.98848395|Subscriber|     1|             1974.0|  20845|         NULL|1/1/2015 0:04:00|1/1/2015 0:10|          346|\n",
      "|         2015|   NULL|             384|Fulton St & Waver...|           40.68317813|            -73.9659641|           399|Lafayette Ave & S...|         40.68851534|          -73.9647628|Subscriber|     1|             1969.0|  19610|         NULL|1/1/2015 0:04:00|1/1/2015 0:07|          182|\n",
      "+-------------+-------+----------------+--------------------+----------------------+-----------------------+--------------+--------------------+--------------------+---------------------+----------+------+-------------------+-------+-------------+----------------+-------------+-------------+\n",
      "only showing top 4 rows\n",
      "\n"
     ]
    },
    {
     "name": "stderr",
     "output_type": "stream",
     "text": [
      "                                                                                \r"
     ]
    }
   ],
   "source": [
    "dfinit_2.filter(dfinit_2.start_at.like('1/1/2015%')).show(4)"
   ]
  },
  {
   "cell_type": "code",
   "execution_count": 15,
   "id": "ae83f283-c8a5-4eab-9b4b-1f3df8cea840",
   "metadata": {},
   "outputs": [],
   "source": [
    "# dfinit.select(convert_to_timestam(\"starttime\").alias(\"start_time\").cast(TimestampType())).printSchema()\n",
    "# dfinit.withColumn('starttime',convert_to_timestam(\"starttime\").cast(TimestampType())).printSchema()\n",
    "# dfinit.withColumn('start_at',when(to_timestamp(dfinit.start_at).isNotNull(),to_timestamp(dfinit.start_at)).when(convert_v2(col(\"start_at\")).isNotNull(),convert_v2(col(\"start_at\")))).show(2)\n",
    "# dfinit.withColumn('starttime',convert_v2('starttime')).withColumn('starttime',to_timestamp('starttime','yyyy-MM-dd HH:mm:ss')).printSchema()\n",
    "\n",
    "# dfinit.withColumn('starttime',when(to_timestamp(dfinit.starttime).isNotNull(),to_timestamp(dfinit.starttime)).when(convert_v2(col(\"starttime\")).isNotNull(),convert_v2(col(\"starttime\")))).withColumn('starttime',to_timestamp('starttime')).show(1)\n",
    "\n",
    "\n",
    "# dfinit.withColumn('starttime',to_timestamp(col('starttime'),'MM/d/yyyy HH:mm:ss')).filter(dfinit.starttime,isNull()).collect().show(1)\n",
    "# dfinit.withColumn('start_at',df['']('starttime')).show(1)\n",
    "\n",
    "# regex_pattern = r\"^\\d{1,2}/\\d{1,2}/\\d{4} \\d{2}:\\d{2}:\\d{2}$\"\n",
    "# regex_pattern = r\"^\\d{1,2}/\\d{1,2}/\\d{4} \\d{2}:\\d{2}$\"\n",
    "\n",
    "regex_pattern = r\"^\\d{1,2}/\\d{1,2}/\\d{4} \\d{1,2}:\\d{2}$\"\n",
    "column='start_at'\n",
    "\n",
    "dfinit_2=dfinit\\\n",
    ".filter(dfinit.start_at.like('1/%/2015%'))\\\n",
    ".withColumn(column,when(col(column).rlike(regex_pattern),concat(col(column),lit(':00'))).otherwise(col(column))) \\\n",
    "\n",
    "\n",
    "# .withColumn(\n",
    "#     \"enr_starttime\",\n",
    "#     coalesce(\n",
    "#         # to_timestamp(col(column), 'M/d/yyyy HH:mm:ss')\n",
    "#         to_timestamp(col(column), 'MM/d/yyyy H:mm:ss'),\n",
    "#         to_timestamp(col(column), \"yyyy-MM-dd HH:mm:ss\"),\n",
    "#         to_timestamp(col(column))\n",
    "#     )\n",
    "# ).show(1)\n",
    "\n",
    "# dfinit.filter(dfinit.start_at.like('1/1/2015%')).withColumn(\"enr_starttime\",when(col('start_at').rlike(regex_pattern),concat(col('start_at'),lit(':00'))).otherwise(col('start_at'))).show(3)\n",
    "\n",
    "# dfinit.withColumn(\n",
    "#     \"enr_starttime\",\n",
    "#     when( col('starttime').rlike(regex_pattern),to_timestamp(col('starttime'))\n",
    "#         col('starttime').rlike(regex_pattern)\n",
    "# ).show(3)\n",
    "\n",
    "# dfinit.withColumn('starttime',to_timestamp(col('starttime'),'MM/d/yyyy HH:mm:ss')).filter(dfinit.starttime.isNull()).collect()\n",
    "# col(\"date_string\").rlike(regex_pattern)"
   ]
  },
  {
   "cell_type": "code",
   "execution_count": 35,
   "id": "f3976814-5710-4bff-93cc-3871d81ead72",
   "metadata": {},
   "outputs": [
    {
     "name": "stderr",
     "output_type": "stream",
     "text": [
      "[Stage 34:===================>                                      (1 + 2) / 3]\r"
     ]
    },
    {
     "name": "stdout",
     "output_type": "stream",
     "text": [
      "+-------------+-------+----------------+------------------+----------------------+-----------------------+--------------+----------------+--------------------+---------------------+---------+------+-------------------+-------+-------------+--------+-------+-------------+\n",
      "|dw_period_tag|ride_id|start_station_id|start_station_name|start_station_latitude|start_station_longitude|end_station_id|end_station_name|end_station_latitude|end_station_longitude|user_type|gender|customer_year_birth|bike_id|rideable_type|start_at|stop_at|trip_duration|\n",
      "+-------------+-------+----------------+------------------+----------------------+-----------------------+--------------+----------------+--------------------+---------------------+---------+------+-------------------+-------+-------------+--------+-------+-------------+\n",
      "+-------------+-------+----------------+------------------+----------------------+-----------------------+--------------+----------------+--------------------+---------------------+---------+------+-------------------+-------+-------------+--------+-------+-------------+\n",
      "\n"
     ]
    },
    {
     "name": "stderr",
     "output_type": "stream",
     "text": [
      "                                                                                \r"
     ]
    }
   ],
   "source": [
    "dfinit.filter(col('start_at').like('1/1/2015 __:__:__%')).show(7)"
   ]
  },
  {
   "cell_type": "code",
   "execution_count": 45,
   "id": "269c5657-3a62-4b36-97ee-ddd249435be7",
   "metadata": {
    "scrolled": true
   },
   "outputs": [
    {
     "name": "stderr",
     "output_type": "stream",
     "text": [
      "                                                                                \r"
     ]
    }
   ],
   "source": [
    "regex_pattern = r\"^\\d{1,2}/\\d{1,2}/\\d{4} \\d{1,2}:\\d{2}$\"\n",
    "# .filter(dfinit.start_at.rlike('1/%/2015% __:__:__'))\\\n",
    "\n",
    "@udf\n",
    "def safe_to_timestamp(column, fmt):\n",
    "    columnv2 = None\n",
    "    try:\n",
    "        columnv2 = when(to_timestamp(col(column), fmt).isNotNull(), to_timestamp(col(column), fmt)).otherwise(None)\n",
    "    except Exception as e:\n",
    "        print(f\"Error occurred: {e}\")\n",
    "    return columnv2\n",
    "\n",
    "d='file_parquet' \n",
    "# .filter(col('start_at').like('1/%/2015 _:__:__'))\\\n",
    "\n",
    "\n",
    "dfinit\\\n",
    ".withColumn(column,when(col(column).rlike(regex_pattern),concat(col(column),lit(':00'))).otherwise(col(column))) \\\n",
    ".withColumn(\n",
    "    \"enr_starttime\",\n",
    "    coalesce(\n",
    "        # safe_to_timestamp(col('start_at'), 'M/d/yyyy HH:mm:ss'),\n",
    "        # safe_to_timestamp(col('start_at'),'M/d/yyyy H:mm:ss')\n",
    "        to_timestamp(col(column), 'M/d/yyyy H:mm:ss'),\n",
    "        # to_timestamp(col(column), 'MM/dd/yyyy H:mm:ss')\n",
    "        # to_timestamp(col(column), 'MM/dd/yyyy H:mm:ss')\n",
    "        # to_timestamp(col(column), \"yyyy-MM-dd HH:mm:ss\"),\n",
    "        to_timestamp(col(column))\n",
    "    )\n",
    ").write.parquet(d, mode=\"overwrite\")"
   ]
  },
  {
   "cell_type": "code",
   "execution_count": null,
   "id": "89da5f37-6f11-4b92-b280-53ec7206c0b0",
   "metadata": {},
   "outputs": [],
   "source": [
    "try:\n",
    "    # Create DataFrame\n",
    "    df = spark.createDataFrame(data, schema=schema)\n",
    "    # Convert string dates to actual DateType\n",
    "    df = df.withColumn(\"startDate\", to_date(col(\"startDate\"), \"yyyy-MM-dd\")) \\\n",
    "           .withColumn(\"endDate\", to_date(col(\"endDate\"), \"yyyy-MM-dd\"))\n",
    "    # Show the DataFrame\n",
    "    df.show()\n",
    "except Exception as e:\n",
    "    print(f\"Error occurred: {e}\")"
   ]
  },
  {
   "cell_type": "code",
   "execution_count": 46,
   "id": "bfe80bf3-a2d4-478b-8974-b63f60c57538",
   "metadata": {},
   "outputs": [
    {
     "name": "stdout",
     "output_type": "stream",
     "text": [
      "+-------------+-------+----------------+--------------------+----------------------+-----------------------+--------------+--------------------+--------------------+---------------------+----------+------+-------------------+-------+-------------+-----------------+-----------------+-------------+-------------------+\n",
      "|dw_period_tag|ride_id|start_station_id|  start_station_name|start_station_latitude|start_station_longitude|end_station_id|    end_station_name|end_station_latitude|end_station_longitude| user_type|gender|customer_year_birth|bike_id|rideable_type|         start_at|          stop_at|trip_duration|      enr_starttime|\n",
      "+-------------+-------+----------------+--------------------+----------------------+-----------------------+--------------+--------------------+--------------------+---------------------+----------+------+-------------------+-------+-------------+-----------------+-----------------+-------------+-------------------+\n",
      "|         2015|   NULL|             477|     W 41 St & 8 Ave|           40.75640548|            -73.9900262|           442|     W 27 St & 7 Ave|           40.746647|           -73.993915|Subscriber|     1|             1981.0|  17012|         NULL|5/1/2015 00:00:11|5/1/2015 00:07:06|          415|2015-05-01 00:00:11|\n",
      "|         2015|   NULL|             293|Lafayette St & E ...|           40.73028666|            -73.9907647|           324|DeKalb Ave & Huds...|           40.689888|           -73.981013|  Customer|     0|               NULL|  17390|         NULL|5/1/2015 00:00:28|5/1/2015 00:25:52|         1523|2015-05-01 00:00:28|\n",
      "|         2015|   NULL|             380|    W 4 St & 7 Ave S|           40.73401143|           -74.00293877|           507|     E 25 St & 2 Ave|         40.73912601|         -73.97973776|Subscriber|     1|             1990.0|  15003|         NULL|5/1/2015 00:00:52|5/1/2015 00:11:35|          642|2015-05-01 00:00:52|\n",
      "|         2015|   NULL|             537|Lexington Ave & E...|           40.74025878|           -73.98409214|           280|     E 10 St & 5 Ave|         40.73331967|         -73.99510132|Subscriber|     1|             1978.0|  14788|         NULL|5/1/2015 00:00:48|5/1/2015 00:06:55|          367|2015-05-01 00:00:48|\n",
      "|         2015|   NULL|             426|West St & Chamber...|           40.71754834|           -74.01322069|           327|Vesey Pl & River ...|          40.7153379|         -74.01658354|Subscriber|     2|             1956.0|  21068|         NULL|5/1/2015 00:00:51|5/1/2015 00:46:26|         2734|2015-05-01 00:00:51|\n",
      "|         2015|   NULL|             439|      E 4 St & 2 Ave|            40.7262807|           -73.98978041|           302|   Avenue D & E 3 St|         40.72082834|         -73.97793172|Subscriber|     1|             1961.0|  17406|         NULL|5/1/2015 00:01:07|5/1/2015 00:07:07|          359|2015-05-01 00:01:07|\n",
      "|         2015|   NULL|             401|Allen St & Riving...|           40.72019576|           -73.98997825|           438| St Marks Pl & 1 Ave|         40.72779126|         -73.98564945|Subscriber|     1|             1971.0|  15005|         NULL|5/1/2015 00:01:05|5/1/2015 00:05:02|          236|2015-05-01 00:01:05|\n",
      "|         2015|   NULL|             532|     S 5 Pl & S 4 St|             40.710451|             -73.960876|           529|     W 42 St & 8 Ave|          40.7575699|         -73.99098507|Subscriber|     1|             1993.0|  15566|         NULL|5/1/2015 00:01:16|5/1/2015 00:34:28|         1991|2015-05-01 00:01:16|\n",
      "|         2015|   NULL|             320|Leonard St & Chur...|             40.717571|             -74.005549|           276|Duane St & Greenw...|         40.71748752|          -74.0104554|Subscriber|     1|             1958.0|  19245|         NULL|5/1/2015 00:01:59|5/1/2015 00:03:40|          101|2015-05-01 00:01:59|\n",
      "|         2015|   NULL|             297|     E 15 St & 3 Ave|             40.734232|             -73.986923|           316|Fulton St & Willi...|         40.70955958|         -74.00653609|Subscriber|     1|             1965.0|  18382|         NULL|5/1/2015 00:01:55|5/1/2015 00:19:45|         1070|2015-05-01 00:01:55|\n",
      "|         2015|   NULL|             519|Pershing Square N...|             40.751873|             -73.977706|           432|   E 7 St & Avenue A|         40.72621788|         -73.98379855|  Customer|     0|               NULL|  17988|         NULL|5/1/2015 00:01:59|5/1/2015 00:30:17|         1698|2015-05-01 00:01:59|\n",
      "|         2015|   NULL|             405|Washington St & G...|             40.739323|             -74.008119|           328|Watts St & Greenw...|         40.72405549|         -74.00965965|Subscriber|     1|             1974.0|  19125|         NULL|5/1/2015 00:02:13|5/1/2015 00:07:58|          344|2015-05-01 00:02:13|\n",
      "|         2015|   NULL|             519|Pershing Square N...|             40.751873|             -73.977706|           432|   E 7 St & Avenue A|         40.72621788|         -73.98379855|  Customer|     0|               NULL|  21590|         NULL|5/1/2015 00:02:19|5/1/2015 00:30:56|         1717|2015-05-01 00:02:19|\n",
      "|         2015|   NULL|             396|Lefferts Pl & Fra...|          40.680342423|         -73.9557689392|           289|Monroe St & Class...|          40.6845683|         -73.95881081|Subscriber|     1|             1986.0|  18095|         NULL|5/1/2015 00:02:27|5/1/2015 00:08:51|          383|2015-05-01 00:02:27|\n",
      "|         2015|   NULL|             526|     E 33 St & 5 Ave|           40.74765947|           -73.98490707|           454|     E 51 St & 1 Ave|         40.75455731|         -73.96592976|Subscriber|     1|             1969.0|  19073|         NULL|5/1/2015 00:03:08|5/1/2015 00:15:26|          738|2015-05-01 00:03:08|\n",
      "|         2015|   NULL|             393|   E 5 St & Avenue C|           40.72299208|           -73.97995466|           271|Ashland Pl & Hans...|         40.68528172|         -73.97805813|Subscriber|     1|             1981.0|  20949|         NULL|5/1/2015 00:03:03|5/1/2015 00:25:49|         1365|2015-05-01 00:03:03|\n",
      "|         2015|   NULL|             290|     2 Ave & E 58 St|           40.76020258|           -73.96478473|           527|     E 33 St & 2 Ave|           40.744023|           -73.976056|Subscriber|     1|             1971.0|  16627|         NULL|5/1/2015 00:03:13|5/1/2015 00:12:45|          571|2015-05-01 00:03:13|\n",
      "|         2015|   NULL|             519|Pershing Square N...|             40.751873|             -73.977706|           236| St Marks Pl & 2 Ave|          40.7284186|         -73.98713956|  Customer|     0|               NULL|  21535|         NULL|5/1/2015 00:03:08|5/1/2015 00:23:35|         1227|2015-05-01 00:03:08|\n",
      "|         2015|   NULL|             537|Lexington Ave & E...|           40.74025878|           -73.98409214|           511|  E 14 St & Avenue B|         40.72938685|         -73.97772429|Subscriber|     1|             1987.0|  18299|         NULL|5/1/2015 00:03:14|5/1/2015 00:16:29|          794|2015-05-01 00:03:14|\n",
      "|         2015|   NULL|            2006|Central Park S & ...|           40.76590936|           -73.97634151|           379|     W 31 St & 7 Ave|           40.749156|             -73.9916|Subscriber|     1|             1981.0|  15759|         NULL|5/1/2015 00:03:25|5/1/2015 00:13:57|          631|2015-05-01 00:03:25|\n",
      "|         2015|   NULL|             462|    W 22 St & 10 Ave|           40.74691959|           -74.00451887|           150|   E 2 St & Avenue C|          40.7208736|         -73.98085795|Subscriber|     1|             1970.0|  21455|         NULL|5/1/2015 00:03:37|5/1/2015 00:25:18|         1301|2015-05-01 00:03:37|\n",
      "|         2015|   NULL|             461|     E 20 St & 2 Ave|           40.73587678|           -73.98205027|           401|Allen St & Riving...|         40.72019576|         -73.98997825|Subscriber|     1|             1990.0|  16954|         NULL|5/1/2015 00:03:46|5/1/2015 00:12:50|          543|2015-05-01 00:03:46|\n",
      "|         2015|   NULL|             507|     E 25 St & 2 Ave|           40.73912601|           -73.97973776|           161|LaGuardia Pl & W ...|         40.72917025|         -73.99810231|Subscriber|     1|             1989.0|  20717|         NULL|5/1/2015 00:04:05|5/1/2015 00:14:02|          597|2015-05-01 00:04:05|\n",
      "|         2015|   NULL|            2006|Central Park S & ...|           40.76590936|           -73.97634151|           468|  Broadway & W 55 St|          40.7652654|         -73.98192338|Subscriber|     1|             1979.0|  20283|         NULL|5/1/2015 00:04:08|5/1/2015 00:16:38|          749|2015-05-01 00:04:08|\n",
      "|         2015|   NULL|             164|     E 47 St & 2 Ave|           40.75323098|           -73.97032517|           367|E 53 St & Lexingt...|         40.75828065|         -73.97069431|Subscriber|     1|             1963.0|  18112|         NULL|5/1/2015 00:05:47|5/1/2015 00:08:43|          176|2015-05-01 00:05:47|\n",
      "|         2015|   NULL|             352|     W 56 St & 6 Ave|           40.76340613|           -73.97722479|          2023|E 55 St & Lexingt...|         40.75968085|         -73.97031366|Subscriber|     1|             1990.0|  18426|         NULL|5/1/2015 00:05:51|5/1/2015 00:09:14|          203|2015-05-01 00:05:51|\n",
      "|         2015|   NULL|             280|     E 10 St & 5 Ave|           40.73331967|           -73.99510132|            82|St James Pl & Pea...|         40.71117416|         -74.00016545|Subscriber|     1|             1989.0|  20743|         NULL|5/1/2015 00:06:09|5/1/2015 00:19:19|          790|2015-05-01 00:06:09|\n",
      "|         2015|   NULL|             294| Washington Square E|           40.73049393|            -73.9957214|           293|Lafayette St & E ...|         40.73028666|          -73.9907647|Subscriber|     1|             1995.0|  20586|         NULL|5/1/2015 00:06:07|5/1/2015 00:08:42|          154|2015-05-01 00:06:07|\n",
      "|         2015|   NULL|             438| St Marks Pl & 1 Ave|           40.72779126|           -73.98564945|           523|     W 38 St & 8 Ave|         40.75466591|         -73.99138152|Subscriber|     1|             1976.0|  16802|         NULL|5/1/2015 00:07:15|5/1/2015 00:25:14|         1078|2015-05-01 00:07:15|\n",
      "|         2015|   NULL|             293|Lafayette St & E ...|           40.73028666|            -73.9907647|           499|  Broadway & W 60 St|         40.76915505|         -73.98191841|Subscriber|     1|             1970.0|  15086|         NULL|5/1/2015 00:07:18|5/1/2015 00:30:05|         1366|2015-05-01 00:07:18|\n",
      "|         2015|   NULL|             450|     W 49 St & 8 Ave|           40.76227205|           -73.98788205|           479|     9 Ave & W 45 St|         40.76019252|          -73.9912551|Subscriber|     2|             1951.0|  19135|         NULL|5/1/2015 00:07:16|5/1/2015 00:11:01|          224|2015-05-01 00:07:16|\n",
      "|         2015|   NULL|             438| St Marks Pl & 1 Ave|           40.72779126|           -73.98564945|           325|     E 19 St & 3 Ave|         40.73624527|         -73.98473765|Subscriber|     1|             1989.0|  19442|         NULL|5/1/2015 00:07:21|5/1/2015 00:12:31|          310|2015-05-01 00:07:21|\n",
      "|         2015|   NULL|             475| E 16 St & Irving Pl|           40.73524276|           -73.98758561|           488|     W 39 St & 9 Ave|         40.75645824|         -73.99372222|Subscriber|     1|             1984.0|  17350|         NULL|5/1/2015 00:07:42|5/1/2015 00:20:28|          766|2015-05-01 00:07:42|\n",
      "|         2015|   NULL|             533|  Broadway & W 39 St|           40.75299641|           -73.98721619|           536|     1 Ave & E 30 St|         40.74144387|         -73.97536082|Subscriber|     1|             1984.0|  21571|         NULL|5/1/2015 00:07:49|5/1/2015 00:20:03|          733|2015-05-01 00:07:49|\n",
      "|         2015|   NULL|             401|Allen St & Riving...|           40.72019576|           -73.98997825|           401|Allen St & Riving...|         40.72019576|         -73.98997825|Subscriber|     1|             1985.0|  15694|         NULL|5/1/2015 00:07:49|5/1/2015 00:35:45|         1675|2015-05-01 00:07:49|\n",
      "|         2015|   NULL|             161|LaGuardia Pl & W ...|           40.72917025|           -73.99810231|           363|      West Thames St|         40.70834698|         -74.01713445|Subscriber|     1|             1988.0|  19370|         NULL|5/1/2015 00:07:51|5/1/2015 00:22:29|          877|2015-05-01 00:07:51|\n",
      "|         2015|   NULL|             297|     E 15 St & 3 Ave|             40.734232|             -73.986923|           348|W Broadway & Spri...|         40.72490985|         -74.00154702|Subscriber|     2|             1969.0|  20900|         NULL|5/1/2015 00:07:59|5/1/2015 00:21:18|          799|2015-05-01 00:07:59|\n",
      "|         2015|   NULL|             539|Metropolitan Ave ...|           40.71534825|           -73.96024116|           432|   E 7 St & Avenue A|         40.72621788|         -73.98379855|Subscriber|     1|             1969.0|  19759|         NULL|5/1/2015 00:08:04|5/1/2015 00:25:32|         1047|2015-05-01 00:08:04|\n",
      "|         2015|   NULL|             396|Lefferts Pl & Fra...|          40.680342423|         -73.9557689392|           289|Monroe St & Class...|          40.6845683|         -73.95881081|Subscriber|     1|             1970.0|  18072|         NULL|5/1/2015 00:08:12|5/1/2015 00:14:19|          366|2015-05-01 00:08:12|\n",
      "|         2015|   NULL|            2010|Grand St & Greene St|           40.72165481|           -74.00234737|           293|Lafayette St & E ...|         40.73028666|          -73.9907647|Subscriber|     1|             1983.0|  18093|         NULL|5/1/2015 00:08:42|5/1/2015 00:16:16|          454|2015-05-01 00:08:42|\n",
      "|         2015|   NULL|             474|     5 Ave & E 29 St|            40.7451677|           -73.98683077|           336|Sullivan St & Was...|         40.73047747|         -73.99906065|Subscriber|     2|             1980.0|  17068|         NULL|5/1/2015 00:08:41|5/1/2015 00:21:09|          748|2015-05-01 00:08:41|\n",
      "|         2015|   NULL|             257|Lispenard St & Br...|           40.71939226|           -74.00247214|           316|Fulton St & Willi...|         40.70955958|         -74.00653609|Subscriber|     1|             1961.0|  17774|         NULL|5/1/2015 00:08:50|5/1/2015 00:14:04|          313|2015-05-01 00:08:50|\n",
      "|         2015|   NULL|             128|MacDougal St & Pr...|           40.72710258|           -74.00297088|           151|Cleveland Pl & Sp...|          40.7218158|         -73.99720307|Subscriber|     1|             1979.0|  14975|         NULL|5/1/2015 00:08:51|5/1/2015 00:34:48|         1557|2015-05-01 00:08:51|\n",
      "|         2015|   NULL|             254|     W 11 St & 6 Ave|           40.73532427|           -73.99800419|           471|Grand St & Haveme...|         40.71286844|         -73.95698119|Subscriber|     2|             1973.0|  16270|         NULL|5/1/2015 00:09:19|5/1/2015 00:38:30|         1750|2015-05-01 00:09:19|\n",
      "|         2015|   NULL|             412|Forsyth St & Cana...|            40.7158155|           -73.99422366|           279|Peck Slip & Front St|           40.707873|            -74.00167|  Customer|     0|               NULL|  17765|         NULL|5/1/2015 00:10:14|5/1/2015 00:15:15|          301|2015-05-01 00:10:14|\n",
      "|         2015|   NULL|             497|  E 17 St & Broadway|           40.73704984|           -73.99009296|           537|Lexington Ave & E...|         40.74025878|         -73.98409214|Subscriber|     1|             1968.0|  15717|         NULL|5/1/2015 00:05:46|5/1/2015 00:12:15|          389|2015-05-01 00:05:46|\n",
      "|         2015|   NULL|             306|Cliff St & Fulton St|           40.70823502|           -74.00530063|           308|St James Pl & Oli...|         40.71307916|         -73.99851193|Subscriber|     1|             1974.0|  16671|         NULL|5/1/2015 00:10:53|5/1/2015 00:15:12|          259|2015-05-01 00:10:53|\n",
      "|         2015|   NULL|             252|MacDougal St & Wa...|           40.73226398|           -73.99852205|           251| Mott St & Prince St|         40.72317958|         -73.99480012|Subscriber|     1|             1981.0|  19072|         NULL|5/1/2015 00:11:07|5/1/2015 00:16:02|          294|2015-05-01 00:11:07|\n",
      "|         2015|   NULL|             297|     E 15 St & 3 Ave|             40.734232|             -73.986923|           161|LaGuardia Pl & W ...|         40.72917025|         -73.99810231|Subscriber|     2|             1991.0|  18108|         NULL|5/1/2015 00:11:14|5/1/2015 00:19:10|          475|2015-05-01 00:11:14|\n",
      "|         2015|   NULL|            2002|Wythe Ave & Metro...|             40.716887|             -73.963198|           414|Pearl St & Anchor...|         40.70281858|         -73.98765762|Subscriber|     1|             1967.0|  16020|         NULL|5/1/2015 00:11:10|5/1/2015 00:30:03|         1133|2015-05-01 00:11:10|\n",
      "|         2015|   NULL|             352|     W 56 St & 6 Ave|           40.76340613|           -73.97722479|           492|     W 33 St & 7 Ave|         40.75019995|         -73.99093085|Subscriber|     1|             1975.0|  16719|         NULL|5/1/2015 00:11:20|5/1/2015 00:23:55|          755|2015-05-01 00:11:20|\n",
      "|         2015|   NULL|             336|Sullivan St & Was...|           40.73047747|           -73.99906065|           297|     E 15 St & 3 Ave|           40.734232|           -73.986923|Subscriber|     2|             1976.0|  17040|         NULL|5/1/2015 00:11:30|5/1/2015 00:22:26|          655|2015-05-01 00:11:30|\n",
      "|         2015|   NULL|             446|     W 24 St & 7 Ave|           40.74487634|           -73.99529885|           492|     W 33 St & 7 Ave|         40.75019995|         -73.99093085|  Customer|     0|               NULL|  16527|         NULL|5/1/2015 00:11:31|5/1/2015 00:16:48|          317|2015-05-01 00:11:31|\n",
      "|         2015|   NULL|             161|LaGuardia Pl & W ...|           40.72917025|           -73.99810231|           499|  Broadway & W 60 St|         40.76915505|         -73.98191841|Subscriber|     1|             1980.0|  20663|         NULL|5/1/2015 00:11:57|5/1/2015 00:36:18|         1460|2015-05-01 00:11:57|\n",
      "|         2015|   NULL|             336|Sullivan St & Was...|           40.73047747|           -73.99906065|           428|      E 3 St & 1 Ave|         40.72467721|         -73.98783413|Subscriber|     1|             1988.0|  19314|         NULL|5/1/2015 00:12:00|5/1/2015 00:18:23|          382|2015-05-01 00:12:00|\n",
      "|         2015|   NULL|             480|    W 53 St & 10 Ave|           40.76669671|           -73.99061728|           490|     8 Ave & W 33 St|           40.751551|           -73.993934|Subscriber|     1|             1976.0|  19867|         NULL|5/1/2015 00:12:25|5/1/2015 00:22:44|          619|2015-05-01 00:12:25|\n",
      "|         2015|   NULL|             365|Fulton St & Grand...|           40.68223166|            -73.9614583|           397|Fulton St & Clerm...|         40.68415748|         -73.96922273|Subscriber|     1|             1985.0|  18206|         NULL|5/1/2015 00:12:33|5/1/2015 00:16:10|          217|2015-05-01 00:12:33|\n",
      "|         2015|   NULL|             432|   E 7 St & Avenue A|           40.72621788|           -73.98379855|           383|Greenwich Ave & C...|           40.735238|           -74.000271|Subscriber|     1|             1983.0|  18823|         NULL|5/1/2015 00:13:21|5/1/2015 00:20:06|          405|2015-05-01 00:13:21|\n",
      "|         2015|   NULL|             453|     W 22 St & 8 Ave|           40.74475148|           -73.99915362|           356|Bialystoker Pl & ...|         40.71622644|         -73.98261206|Subscriber|     1|             1973.0|  19964|         NULL|5/1/2015 00:13:34|5/1/2015 00:43:00|         1765|2015-05-01 00:13:34|\n",
      "|         2015|   NULL|             254|     W 11 St & 6 Ave|           40.73532427|           -73.99800419|           385|     E 55 St & 2 Ave|         40.75797322|         -73.96603308|Subscriber|     1|             1969.0|  18709|         NULL|5/1/2015 00:13:49|5/1/2015 00:33:38|         1188|2015-05-01 00:13:49|\n",
      "|         2015|   NULL|             494|     W 26 St & 8 Ave|           40.74734825|           -73.99723551|           494|     W 26 St & 8 Ave|         40.74734825|         -73.99723551|Subscriber|     1|             1984.0|  20515|         NULL|5/1/2015 00:14:08|5/1/2015 00:19:13|          305|2015-05-01 00:14:08|\n",
      "|         2015|   NULL|             518|     E 39 St & 2 Ave|           40.74780373|            -73.9734419|           482|     W 15 St & 7 Ave|         40.73935542|         -73.99931783|Subscriber|     1|             1958.0|  20360|         NULL|5/1/2015 00:14:14|5/1/2015 00:28:58|          884|2015-05-01 00:14:14|\n",
      "|         2015|   NULL|             329|Greenwich St & N ...|           40.72043411|           -74.01020609|           264|Maiden Ln & Pearl St|         40.70706456|         -74.00731853|Subscriber|     1|             1975.0|  15148|         NULL|5/1/2015 00:14:53|5/1/2015 00:24:32|          579|2015-05-01 00:14:53|\n",
      "|         2015|   NULL|             402|  Broadway & E 22 St|            40.7403432|           -73.98955109|           382|University Pl & E...|         40.73492695|         -73.99200509|Subscriber|     1|             1991.0|  20147|         NULL|5/1/2015 00:15:02|5/1/2015 00:19:36|          273|2015-05-01 00:15:02|\n",
      "|         2015|   NULL|             487| E 20 St & FDR Drive|           40.73314259|           -73.97573881|           511|  E 14 St & Avenue B|         40.72938685|         -73.97772429|Subscriber|     2|             1992.0|  21698|         NULL|5/1/2015 00:16:46|5/1/2015 00:34:46|         1080|2015-05-01 00:16:46|\n",
      "|         2015|   NULL|             401|Allen St & Riving...|           40.72019576|           -73.98997825|           380|    W 4 St & 7 Ave S|         40.73401143|         -74.00293877|Subscriber|     1|             1982.0|  14849|         NULL|5/1/2015 00:16:57|5/1/2015 00:27:16|          619|2015-05-01 00:16:57|\n",
      "|         2015|   NULL|             507|     E 25 St & 2 Ave|           40.73912601|           -73.97973776|           504|     1 Ave & E 15 St|         40.73221853|         -73.98165557|Subscriber|     2|             1985.0|  19421|         NULL|5/1/2015 00:17:13|5/1/2015 00:25:08|          475|2015-05-01 00:17:13|\n",
      "|         2015|   NULL|             252|MacDougal St & Wa...|           40.73226398|           -73.99852205|           401|Allen St & Riving...|         40.72019576|         -73.98997825|Subscriber|     2|             1983.0|  18497|         NULL|5/1/2015 00:17:23|5/1/2015 00:28:21|          657|2015-05-01 00:17:23|\n",
      "|         2015|   NULL|             489|    10 Ave & W 28 St|           40.75066386|           -74.00176802|           446|     W 24 St & 7 Ave|         40.74487634|         -73.99529885|Subscriber|     1|             1961.0|  20248|         NULL|5/1/2015 00:17:34|5/1/2015 00:22:40|          305|2015-05-01 00:17:34|\n",
      "|         2015|   NULL|            2010|Grand St & Greene St|           40.72165481|           -74.00234737|           356|Bialystoker Pl & ...|         40.71622644|         -73.98261206|Subscriber|     2|             1973.0|  20012|         NULL|5/1/2015 00:17:32|5/1/2015 00:33:16|          944|2015-05-01 00:17:32|\n",
      "|         2015|   NULL|             284|Greenwich Ave & 8...|         40.7390169121|         -74.0026376103|           479|     9 Ave & W 45 St|         40.76019252|          -73.9912551|Subscriber|     1|             1974.0|  15595|         NULL|5/1/2015 00:18:24|5/1/2015 00:26:54|          510|2015-05-01 00:18:24|\n",
      "|         2015|   NULL|             368|  Carmine St & 6 Ave|           40.73038599|           -74.00214988|           488|     W 39 St & 9 Ave|         40.75645824|         -73.99372222|Subscriber|     1|             1968.0|  15084|         NULL|5/1/2015 00:18:28|5/1/2015 00:33:35|          906|2015-05-01 00:18:28|\n",
      "|         2015|   NULL|             297|     E 15 St & 3 Ave|             40.734232|             -73.986923|            82|St James Pl & Pea...|         40.71117416|         -74.00016545|Subscriber|     1|             1969.0|  17885|         NULL|5/1/2015 00:18:45|5/1/2015 00:31:15|          750|2015-05-01 00:18:45|\n",
      "|         2015|   NULL|             295|Pike St & E Broadway|           40.71406667|           -73.99293911|           340|Madison St & Clin...|         40.71269042|         -73.98776323|Subscriber|     1|             1966.0|  16495|         NULL|5/1/2015 00:18:50|5/1/2015 00:21:11|          140|2015-05-01 00:18:50|\n",
      "|         2015|   NULL|             432|   E 7 St & Avenue A|           40.72621788|           -73.98379855|           497|  E 17 St & Broadway|         40.73704984|         -73.99009296|Subscriber|     1|             1980.0|  19916|         NULL|5/1/2015 00:19:01|5/1/2015 00:24:46|          345|2015-05-01 00:19:01|\n",
      "|         2015|   NULL|             358|Christopher St & ...|           40.73291553|           -74.00711384|           433|  E 13 St & Avenue A|         40.72955361|         -73.98057249|  Customer|     0|               NULL|  17392|         NULL|5/1/2015 00:19:11|5/1/2015 00:31:39|          748|2015-05-01 00:19:11|\n",
      "|         2015|   NULL|             434|     9 Ave & W 18 St|           40.74317449|           -74.00366443|           527|     E 33 St & 2 Ave|           40.744023|           -73.976056|Subscriber|     1|             1988.0|  21611|         NULL|5/1/2015 00:19:22|5/1/2015 00:32:42|          800|2015-05-01 00:19:22|\n",
      "|         2015|   NULL|             262|     Washington Park|            40.6917823|            -73.9737299|           396|Lefferts Pl & Fra...|        40.680342423|       -73.9557689392|Subscriber|     1|             1978.0|  19843|         NULL|5/1/2015 00:20:06|5/1/2015 00:35:52|          945|2015-05-01 00:20:06|\n",
      "|         2015|   NULL|             293|Lafayette St & E ...|           40.73028666|            -73.9907647|           174|     E 25 St & 1 Ave|          40.7381765|         -73.97738662|Subscriber|     1|             1979.0|  17567|         NULL|5/1/2015 00:20:31|5/1/2015 00:27:22|          410|2015-05-01 00:20:31|\n",
      "|         2015|   NULL|             461|     E 20 St & 2 Ave|           40.73587678|           -73.98205027|           445|  E 10 St & Avenue A|         40.72740794|         -73.98142006|Subscriber|     1|             1992.0|  16747|         NULL|5/1/2015 00:20:28|5/1/2015 00:25:40|          311|2015-05-01 00:20:28|\n",
      "|         2015|   NULL|             494|     W 26 St & 8 Ave|           40.74734825|           -73.99723551|           433|  E 13 St & Avenue A|         40.72955361|         -73.98057249|Subscriber|     1|             1975.0|  21273|         NULL|5/1/2015 00:20:45|5/1/2015 00:40:10|         1164|2015-05-01 00:20:45|\n",
      "|         2015|   NULL|             494|     W 26 St & 8 Ave|           40.74734825|           -73.99723551|           433|  E 13 St & Avenue A|         40.72955361|         -73.98057249|Subscriber|     1|             1989.0|  18307|         NULL|5/1/2015 00:20:45|5/1/2015 00:39:54|         1148|2015-05-01 00:20:45|\n",
      "|         2015|   NULL|             405|Washington St & G...|             40.739323|             -74.008119|           428|      E 3 St & 1 Ave|         40.72467721|         -73.98783413|Subscriber|     1|             1984.0|  21113|         NULL|5/1/2015 00:21:13|5/1/2015 00:37:53|          999|2015-05-01 00:21:13|\n",
      "|         2015|   NULL|             355|Bayard St & Baxte...|           40.71602118|           -73.99974372|           330| Reade St & Broadway|         40.71450451|         -74.00562789|Subscriber|     1|             1981.0|  18841|         NULL|5/1/2015 00:21:32|5/1/2015 00:28:13|          400|2015-05-01 00:21:32|\n",
      "|         2015|   NULL|             265|Stanton St & Chry...|           40.72229346|           -73.99147535|           264|Maiden Ln & Pearl St|         40.70706456|         -74.00731853|Subscriber|     2|             1982.0|  15973|         NULL|5/1/2015 00:22:11|5/1/2015 00:36:50|          878|2015-05-01 00:22:11|\n",
      "|         2015|   NULL|             265|Stanton St & Chry...|           40.72229346|           -73.99147535|           264|Maiden Ln & Pearl St|         40.70706456|         -74.00731853|Subscriber|     2|             1980.0|  19570|         NULL|5/1/2015 00:22:22|5/1/2015 00:36:54|          871|2015-05-01 00:22:22|\n",
      "|         2015|   NULL|             236| St Marks Pl & 2 Ave|            40.7284186|           -73.98713956|           361|Allen St & Hester St|         40.71605866|         -73.99190759|Subscriber|     1|             1987.0|  18667|         NULL|5/1/2015 00:22:53|5/1/2015 00:33:58|          664|2015-05-01 00:22:53|\n",
      "|         2015|   NULL|             247|Perry St & Bleeck...|           40.73535398|           -74.00483091|           462|    W 22 St & 10 Ave|         40.74691959|         -74.00451887|Subscriber|     1|             1983.0|  15189|         NULL|5/1/2015 00:22:51|5/1/2015 00:33:09|          618|2015-05-01 00:22:51|\n",
      "|         2015|   NULL|             247|Perry St & Bleeck...|           40.73535398|           -74.00483091|           462|    W 22 St & 10 Ave|         40.74691959|         -74.00451887|Subscriber|     2|             1986.0|  20650|         NULL|5/1/2015 00:22:55|5/1/2015 00:32:48|          593|2015-05-01 00:22:55|\n",
      "|         2015|   NULL|             433|  E 13 St & Avenue A|           40.72955361|           -73.98057249|           356|Bialystoker Pl & ...|         40.71622644|         -73.98261206|Subscriber|     1|             1995.0|  19283|         NULL|5/1/2015 00:23:05|5/1/2015 00:31:00|          475|2015-05-01 00:23:05|\n",
      "|         2015|   NULL|             437|Macon St & Nostra...|         40.6809833854|         -73.9500479759|           397|Fulton St & Clerm...|         40.68415748|         -73.96922273|Subscriber|     1|             1976.0|  18774|         NULL|5/1/2015 00:23:09|5/1/2015 00:29:03|          353|2015-05-01 00:23:09|\n",
      "|         2015|   NULL|             307|Canal St & Rutger...|           40.71427487|           -73.98990025|          2004|   6 Ave & Broome St|           40.724399|           -74.004704|Subscriber|     2|             1970.0|  14700|         NULL|5/1/2015 00:23:24|5/1/2015 00:38:00|          875|2015-05-01 00:23:24|\n",
      "|         2015|   NULL|             310| State St & Smith St|           40.68926942|           -73.98912867|           270|Adelphi St & Myrt...|         40.69308257|         -73.97178913|Subscriber|     2|             1975.0|  19150|         NULL|5/1/2015 00:23:30|5/1/2015 00:31:28|          477|2015-05-01 00:23:30|\n",
      "|         2015|   NULL|             428|      E 3 St & 1 Ave|           40.72467721|           -73.98783413|           507|     E 25 St & 2 Ave|         40.73912601|         -73.97973776|Subscriber|     1|             1975.0|  15907|         NULL|5/1/2015 00:23:34|5/1/2015 00:32:55|          561|2015-05-01 00:23:34|\n",
      "|         2015|   NULL|             307|Canal St & Rutger...|           40.71427487|           -73.98990025|           311|Norfolk St & Broo...|          40.7172274|         -73.98802084|Subscriber|     1|             1970.0|  21233|         NULL|5/1/2015 00:23:55|5/1/2015 00:27:13|          198|2015-05-01 00:23:55|\n",
      "|         2015|   NULL|             368|  Carmine St & 6 Ave|           40.73038599|           -74.00214988|           254|     W 11 St & 6 Ave|         40.73532427|         -73.99800419|Subscriber|     1|             1982.0|  17043|         NULL|5/1/2015 00:24:07|5/1/2015 00:26:28|          140|2015-05-01 00:24:07|\n",
      "|         2015|   NULL|             285|  Broadway & E 14 St|           40.73454567|           -73.99074142|           301|   E 2 St & Avenue B|         40.72217444|         -73.98368779|Subscriber|     1|             1991.0|  20538|         NULL|5/1/2015 00:24:06|5/1/2015 00:40:42|          995|2015-05-01 00:24:06|\n",
      "|         2015|   NULL|             482|     W 15 St & 7 Ave|           40.73935542|           -73.99931783|           434|     9 Ave & W 18 St|         40.74317449|         -74.00366443|Subscriber|     1|             1956.0|  21496|         NULL|5/1/2015 00:24:14|5/1/2015 00:29:13|          299|2015-05-01 00:24:14|\n",
      "|         2015|   NULL|             428|      E 3 St & 1 Ave|           40.72467721|           -73.98783413|           415|Pearl St & Hanove...|          40.7047177|         -74.00926027|Subscriber|     1|             1987.0|  16698|         NULL|5/1/2015 00:24:43|5/1/2015 00:37:27|          764|2015-05-01 00:24:43|\n",
      "|         2015|   NULL|             517|Pershing Square S...|             40.751581|              -73.97791|           441|     E 52 St & 2 Ave|           40.756014|           -73.967416|Subscriber|     1|             1986.0|  21635|         NULL|5/1/2015 00:25:09|5/1/2015 00:32:30|          441|2015-05-01 00:25:09|\n",
      "+-------------+-------+----------------+--------------------+----------------------+-----------------------+--------------+--------------------+--------------------+---------------------+----------+------+-------------------+-------+-------------+-----------------+-----------------+-------------+-------------------+\n",
      "only showing top 100 rows\n",
      "\n"
     ]
    }
   ],
   "source": [
    "dfinit_5=spark.read.parquet(d).show(100)"
   ]
  }
 ],
 "metadata": {
  "kernelspec": {
   "display_name": "Python 3 (ipykernel)",
   "language": "python",
   "name": "python3"
  },
  "language_info": {
   "codemirror_mode": {
    "name": "ipython",
    "version": 3
   },
   "file_extension": ".py",
   "mimetype": "text/x-python",
   "name": "python",
   "nbconvert_exporter": "python",
   "pygments_lexer": "ipython3",
   "version": "3.10.12"
  }
 },
 "nbformat": 4,
 "nbformat_minor": 5
}
