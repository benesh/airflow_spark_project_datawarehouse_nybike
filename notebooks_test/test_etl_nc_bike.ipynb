{
 "cells": [
  {
   "cell_type": "raw",
   "id": "5b2e2606-e608-4ba2-852c-dae2637558e7",
   "metadata": {},
   "source": [
    "Model of the datawarehouse \n",
    "WAP pattern : write Audit and Publish \n",
    "\n",
    "\n",
    "Epics : Impelement an ETL and Datawarehouse \n",
    "-> Edit the Documenttation\n",
    "-> ETL of datawarehousing of data bike phase 1 before dump to staging datawarehouse\n",
    "\n",
    "\n",
    "EPICS 1 : Edit the Documenttation\n",
    " ->story: Write the model with a temporary status : writing \n",
    " -> edit the the ETL flow process                 : writing\n",
    " -> edit the data model architechture             : writing\n",
    "\n",
    "\n",
    "EPICS 2 : ETL data bike phase 1 before dump to staging datawarehouse\n",
    " -> Edit the sql init datawarehouse staging and production\n",
    "      -> Edit datamodel staging datawahouse\n",
    "      -> Edit datamodel production datawahouse\n",
    " -> list the steps in the ETL\n",
    "      -> transforamtion ETL : \n",
    "          -> list of transformation:\n",
    "                rename all the column to the standard name\n",
    "                drop column like : bikeid \n",
    "                transform gender from 1 and 0 to M and F\n",
    "                Add ride_type to any period that does not exist and set it to classic bike\n",
    "                Add column: Trip_duration\n",
    "          -> \n",
    "      -> quality list :\n",
    "\n",
    "\n",
    "\n",
    "methode a implémenter :\n",
    " list type des colonnes\n",
    " méthode de transfromation pour:\n",
    "     -> type de customer\n",
    "     -> remplacer les valeur du sex par M ou F\n",
    "     -> renommer toute les colonnes a la réfrence \n",
    "\n",
    "Transfomation :\n",
    "  scinder un ligne pour extraire la une ligne pour chaque table\n",
    "  générer un id pour chaque ligne\n"
   ]
  },
  {
   "cell_type": "code",
   "execution_count": 1,
   "id": "a8123b1d-e26a-461e-b088-8720fc2d7519",
   "metadata": {},
   "outputs": [
    {
     "name": "stderr",
     "output_type": "stream",
     "text": [
      "25/03/28 12:24:18 WARN SparkSession: Using an existing Spark session; only runtime SQL configurations will take effect.\n"
     ]
    },
    {
     "data": {
      "text/html": [
       "\n",
       "            <div>\n",
       "                <p><b>SparkSession - in-memory</b></p>\n",
       "                \n",
       "        <div>\n",
       "            <p><b>SparkContext</b></p>\n",
       "\n",
       "            <p><a href=\"http://fddc38f1471f:4041\">Spark UI</a></p>\n",
       "\n",
       "            <dl>\n",
       "              <dt>Version</dt>\n",
       "                <dd><code>v3.5.1</code></dd>\n",
       "              <dt>Master</dt>\n",
       "                <dd><code>local[*]</code></dd>\n",
       "              <dt>AppName</dt>\n",
       "                <dd><code>PySparkShell</code></dd>\n",
       "            </dl>\n",
       "        </div>\n",
       "        \n",
       "            </div>\n",
       "        "
      ],
      "text/plain": [
       "<pyspark.sql.session.SparkSession at 0x7ff719a24a30>"
      ]
     },
     "execution_count": 1,
     "metadata": {},
     "output_type": "execute_result"
    }
   ],
   "source": [
    "from pyspark.sql import SparkSession \n",
    "\n",
    "spark = SparkSession.builder.appName(\"Jupyter\").getOrCreate()\n",
    "\n",
    "# spark = SparkSession.builder.config(\"spark.jars\", \"/opt/spark/jars/postgresql-42.7.4.jar\")\\\n",
    "# .master(\"local\")\\\n",
    "# .appName(\"PySpark_Postgres_test2\")\\\n",
    "# .getOrCreate() \n",
    "spark "
   ]
  },
  {
   "cell_type": "raw",
   "id": "86cd87b8-d14c-4d74-b200-41efb3ff2208",
   "metadata": {},
   "source": [
    "Spark - reading file local"
   ]
  },
  {
   "cell_type": "code",
   "execution_count": 4,
   "id": "a47d36ea-26dd-4647-ae93-0ab13a1994f4",
   "metadata": {},
   "outputs": [],
   "source": [
    "spark.stop()"
   ]
  },
  {
   "cell_type": "code",
   "execution_count": 25,
   "id": "57b7bfc9-53a6-4296-8ed1-beac58451bf3",
   "metadata": {},
   "outputs": [],
   "source": [
    "file_bike_2016='/opt/airflow/data/2016-citibike-tripdata/1_January/*.csv'\n",
    "file_bike_2013_06='/opt/airflow/include/2013-citibike-tripdata/*/*'\n",
    "file_bike_2024_01='/home/iceberg/data_2/2024-citibike-tripdata/01/202401-citibike-tripdata.csv'\n",
    "file_bike_2019_01='/home/iceberg/notebooks/data/2019-citibike-tripdata/1_January/201901-citibike-tripdata_1.csv'"
   ]
  },
  {
   "cell_type": "code",
   "execution_count": 27,
   "id": "6bf6323a-7ce2-44ed-b420-2b0187382783",
   "metadata": {},
   "outputs": [
    {
     "name": "stderr",
     "output_type": "stream",
     "text": [
      "                                                                                \r"
     ]
    }
   ],
   "source": [
    "df_2016= spark.read.format('csv').options(inferSchema='True',header='True').load(file_bike_2016)"
   ]
  },
  {
   "cell_type": "code",
   "execution_count": 4,
   "id": "6f0345fa-021f-4d8f-a0f4-77edbfb169d1",
   "metadata": {},
   "outputs": [
    {
     "name": "stderr",
     "output_type": "stream",
     "text": [
      "                                                                                \r"
     ]
    }
   ],
   "source": [
    "df2023 =spark.read.format('csv').options(inferSchema='True', header='True',delimiter=',').load(file_bike_2013_06)\n",
    "# df2013 =spark.read.format('csv').options(inferSchema='True', header='True',delimiter=',').load(file_bike_2013_06)"
   ]
  },
  {
   "cell_type": "code",
   "execution_count": 58,
   "id": "461b5161-b6e3-483b-8519-be2b1cdb66c8",
   "metadata": {},
   "outputs": [
    {
     "data": {
      "text/plain": [
       "{'trip_duration': 'int',\n",
       " 'start_at': 'timestamp',\n",
       " 'stop_at': 'string',\n",
       " 'start_station_id': 'int',\n",
       " 'start_station_name': 'string',\n",
       " 'start_station_latitude': 'double',\n",
       " 'start_station_longitude': 'double',\n",
       " 'end_station_id': 'int',\n",
       " 'end_station_name': 'string',\n",
       " 'end_station_latitude': 'double',\n",
       " 'end_station_longitude': 'double',\n",
       " 'bike_id': 'bigint',\n",
       " 'user_type': 'string',\n",
       " 'customer_year_birth': 'double',\n",
       " 'gender': 'int'}"
      ]
     },
     "execution_count": 58,
     "metadata": {},
     "output_type": "execute_result"
    }
   ],
   "source": [
    "dict(df_2016.dtypes)"
   ]
  },
  {
   "cell_type": "code",
   "execution_count": 55,
   "id": "a81d8e26-c8eb-49e0-8365-86cef21d6974",
   "metadata": {},
   "outputs": [
    {
     "name": "stderr",
     "output_type": "stream",
     "text": [
      "[Stage 8:>                                                          (0 + 1) / 1]\r"
     ]
    },
    {
     "name": "stdout",
     "output_type": "stream",
     "text": [
      "+-------------+--------+-----------------+----------------+--------------------+----------------------+-----------------------+--------------+--------------------+--------------------+---------------------+-------+----------+-------------------+------+\n",
      "|trip_duration|start_at|          stop_at|start_station_id|  start_station_name|start_station_latitude|start_station_longitude|end_station_id|    end_station_name|end_station_latitude|end_station_longitude|bike_id| user_type|customer_year_birth|gender|\n",
      "+-------------+--------+-----------------+----------------+--------------------+----------------------+-----------------------+--------------+--------------------+--------------------+---------------------+-------+----------+-------------------+------+\n",
      "|          923|    NULL|1/1/2016 00:16:04|             268|Howard St & Centr...|           40.71910537|           -73.99973337|          3002|South End Ave & L...|           40.711512|           -74.015756|  22285|Subscriber|             1958.0|     1|\n",
      "|          379|    NULL|1/1/2016 00:07:04|             476|     E 31 St & 3 Ave|           40.74394314|           -73.97966069|           498|  Broadway & W 32 St|         40.74854862|         -73.98808416|  17827|Subscriber|             1969.0|     1|\n",
      "+-------------+--------+-----------------+----------------+--------------------+----------------------+-----------------------+--------------+--------------------+--------------------+---------------------+-------+----------+-------------------+------+\n",
      "only showing top 2 rows\n",
      "\n"
     ]
    },
    {
     "name": "stderr",
     "output_type": "stream",
     "text": [
      "                                                                                \r"
     ]
    }
   ],
   "source": [
    "df_2016.show(2)"
   ]
  },
  {
   "cell_type": "code",
   "execution_count": 34,
   "id": "5f689ad3-23a9-4e6a-8f43-6c85b86f970c",
   "metadata": {},
   "outputs": [],
   "source": [
    "from pyspark.sql.functions import col\n",
    "df_2016 = df_2016.withColumn('starttime',col('starttime').cast(\"timestamp\"))"
   ]
  },
  {
   "cell_type": "code",
   "execution_count": 51,
   "id": "10221c67-0493-45a8-8a74-6db4859bc7c5",
   "metadata": {},
   "outputs": [],
   "source": [
    "df_2016 = df_2016.withColumn('bike_id', col('bike_id').cast(\"bigint\"))"
   ]
  },
  {
   "cell_type": "code",
   "execution_count": 74,
   "id": "e2825ce1-98d2-4838-b50d-5eb248ce8b96",
   "metadata": {},
   "outputs": [],
   "source": [
    "from pyspark.sql.types import StructType, StructField, StringType, IntegerType , TimestampType , DoubleType , FloatType, DateType\n",
    "from pyspark.sql.functions import when,col,lit,hash,datediff,xxhash64,year,quarter,dayofmonth,month,dayofweek,date_format,concat\n",
    "\n",
    "bronze_schema_ny_bike = StructType([\n",
    "    StructField(\"dw_period_tag\", StringType(), nullable=True),\n",
    "    StructField(\"start_station_id\", StringType(), nullable=True),\n",
    "    StructField(\"start_station_name\", StringType(), nullable=True),\n",
    "    StructField(\"start_station_latitude\", DoubleType(), nullable=True),\n",
    "    StructField(\"start_station_longitude\", DoubleType(), nullable=True),\n",
    "    StructField(\"end_station_id\", StringType(), nullable=True),\n",
    "    StructField(\"end_station_name\", StringType(), nullable=True),\n",
    "    StructField(\"end_station_latitude\", DoubleType(), nullable=True),\n",
    "    StructField(\"end_station_longitude\", DoubleType(), nullable=True),\n",
    "    StructField(\"bike_id\", IntegerType(), nullable=True),\n",
    "    StructField(\"user_type\", StringType(), nullable=True),\n",
    "    StructField(\"gender\", StringType(), nullable=True),\n",
    "    StructField(\"customer_year_birth\", StringType(), nullable=True),\n",
    "    StructField(\"start_at\", TimestampType(), nullable=True),\n",
    "    StructField(\"stop_at\", TimestampType(), nullable=True),\n",
    "    StructField(\"trip_duration\", DoubleType(), nullable=True)\n",
    "])"
   ]
  },
  {
   "cell_type": "code",
   "execution_count": 47,
   "id": "b960053e-d38c-4944-b584-166eccad0ba3",
   "metadata": {},
   "outputs": [],
   "source": [
    "df_casted = df_2016.select([\n",
    "    col(field.name).cast(field.dataType).alias(field.name) \n",
    "    for field in bronze_schema_ny_bike.fields\n",
    "])"
   ]
  },
  {
   "cell_type": "code",
   "execution_count": 122,
   "id": "ca4a6bb2-3c8d-49e5-a3bd-33eb0518ab6a",
   "metadata": {},
   "outputs": [
    {
     "name": "stdout",
     "output_type": "stream",
     "text": [
      "StructType([StructField('dw_period_tag', StringType(), True), StructField('start_station_id', StringType(), True), StructField('start_station_name', StringType(), True), StructField('start_station_latitude', DoubleType(), True), StructField('start_station_longitude', DoubleType(), True), StructField('end_station_id', StringType(), True), StructField('end_station_name', StringType(), True), StructField('end_station_latitude', DoubleType(), True), StructField('end_station_longitude', DoubleType(), True), StructField('bike_id', IntegerType(), True), StructField('user_type', StringType(), True), StructField('gender', StringType(), True), StructField('customer_year_birth', StringType(), True), StructField('start_at', TimestampType(), True), StructField('stop_at', TimestampType(), True), StructField('trip_duration', DoubleType(), True)])\n"
     ]
    }
   ],
   "source": [
    "print(bronze_schema_ny_bike)"
   ]
  },
  {
   "cell_type": "code",
   "execution_count": 98,
   "id": "a8f6e87e-2642-4511-8576-cdeee3329543",
   "metadata": {},
   "outputs": [],
   "source": [
    "data_model_list = bronze_schema_ny_bike.names"
   ]
  },
  {
   "cell_type": "code",
   "execution_count": 95,
   "id": "00c8360e-2add-4992-9998-a163f31822e8",
   "metadata": {},
   "outputs": [
    {
     "data": {
      "text/plain": [
       "['dw_period_tag',\n",
       " 'start_station_id',\n",
       " 'start_station_name',\n",
       " 'start_station_latitude',\n",
       " 'start_station_longitude',\n",
       " 'end_station_id',\n",
       " 'end_station_name',\n",
       " 'end_station_latitude',\n",
       " 'end_station_longitude',\n",
       " 'bike_id',\n",
       " 'user_type',\n",
       " 'gender',\n",
       " 'customer_year_birth',\n",
       " 'start_at',\n",
       " 'stop_at',\n",
       " 'trip_duration']"
      ]
     },
     "execution_count": 95,
     "metadata": {},
     "output_type": "execute_result"
    }
   ],
   "source": [
    "data_model_list"
   ]
  },
  {
   "cell_type": "code",
   "execution_count": 107,
   "id": "93179959-e0d2-4512-b6d8-089713e1d1a2",
   "metadata": {},
   "outputs": [],
   "source": [
    "data_model_df = list(dict(df_2016.dtypes).keys())"
   ]
  },
  {
   "cell_type": "code",
   "execution_count": 108,
   "id": "dd5ce925-3b51-41d1-92c3-b1b2364c3026",
   "metadata": {},
   "outputs": [
    {
     "data": {
      "text/plain": [
       "['trip_duration',\n",
       " 'start_at',\n",
       " 'stop_at',\n",
       " 'start_station_id',\n",
       " 'start_station_name',\n",
       " 'start_station_latitude',\n",
       " 'start_station_longitude',\n",
       " 'end_station_id',\n",
       " 'end_station_name',\n",
       " 'end_station_latitude',\n",
       " 'end_station_longitude',\n",
       " 'bike_id',\n",
       " 'user_type',\n",
       " 'customer_year_birth',\n",
       " 'gender']"
      ]
     },
     "execution_count": 108,
     "metadata": {},
     "output_type": "execute_result"
    }
   ],
   "source": [
    "data_model_df"
   ]
  },
  {
   "cell_type": "code",
   "execution_count": 111,
   "id": "7ce44c67-3977-4954-bcd8-ac07a20c20be",
   "metadata": {},
   "outputs": [],
   "source": [
    "filtered = list(filter( lambda x: x not in data_model_df ,data_model_list ))"
   ]
  },
  {
   "cell_type": "code",
   "execution_count": 112,
   "id": "6d8a377b-a31d-4f38-8a28-5af714bdb3e6",
   "metadata": {},
   "outputs": [
    {
     "data": {
      "text/plain": [
       "['dw_period_tag']"
      ]
     },
     "execution_count": 112,
     "metadata": {},
     "output_type": "execute_result"
    }
   ],
   "source": [
    "filtered"
   ]
  },
  {
   "cell_type": "code",
   "execution_count": 71,
   "id": "79618f48-d49c-4b12-9494-b31ff63652f3",
   "metadata": {},
   "outputs": [
    {
     "name": "stdout",
     "output_type": "stream",
     "text": [
      "+-------------+--------+-----------------+----------------+--------------------+----------------------+-----------------------+--------------+--------------------+--------------------+---------------------+-------+----------+-------------------+------+-----------+\n",
      "|trip_duration|start_at|          stop_at|start_station_id|  start_station_name|start_station_latitude|start_station_longitude|end_station_id|    end_station_name|end_station_latitude|end_station_longitude|bike_id| user_type|customer_year_birth|gender|test_column|\n",
      "+-------------+--------+-----------------+----------------+--------------------+----------------------+-----------------------+--------------+--------------------+--------------------+---------------------+-------+----------+-------------------+------+-----------+\n",
      "|          923|    NULL|1/1/2016 00:16:04|             268|Howard St & Centr...|           40.71910537|           -73.99973337|          3002|South End Ave & L...|           40.711512|           -74.015756|  22285|Subscriber|             1958.0|     1|       NULL|\n",
      "|          379|    NULL|1/1/2016 00:07:04|             476|     E 31 St & 3 Ave|           40.74394314|           -73.97966069|           498|  Broadway & W 32 St|         40.74854862|         -73.98808416|  17827|Subscriber|             1969.0|     1|       NULL|\n",
      "+-------------+--------+-----------------+----------------+--------------------+----------------------+-----------------------+--------------+--------------------+--------------------+---------------------+-------+----------+-------------------+------+-----------+\n",
      "only showing top 2 rows\n",
      "\n"
     ]
    }
   ],
   "source": [
    "df_2016.withColumn('test_column',lit(None)).show(2)"
   ]
  },
  {
   "cell_type": "code",
   "execution_count": 16,
   "id": "812766ff-c323-4194-8c54-4ac07fc2d494",
   "metadata": {},
   "outputs": [
    {
     "name": "stderr",
     "output_type": "stream",
     "text": [
      "[Stage 8:=============================================>             (7 + 2) / 9]\r"
     ]
    },
    {
     "name": "stdout",
     "output_type": "stream",
     "text": [
      "+--------------------+--------------+------------+------+\n",
      "|                date|number_of_rows|process_name|status|\n",
      "+--------------------+--------------+------------+------+\n",
      "|2025-01-11 20:52:...|       5614929|process_name|    OK|\n",
      "+--------------------+--------------+------------+------+\n",
      "\n"
     ]
    },
    {
     "name": "stderr",
     "output_type": "stream",
     "text": [
      "                                                                                \r"
     ]
    }
   ],
   "source": [
    "df2023.groupBy().agg(\n",
    "            current_timestamp().alias('date'),\n",
    "            count(expr(\"*\")).alias('number_of_rows'),\n",
    "            lit('process_name').alias('process_name'),\n",
    "            lit('OK').alias('status'),\n",
    "            # year('starttime').alias('YEAR'),\n",
    "            # month('starttime').alias('MONTH')\n",
    "        ).show()"
   ]
  },
  {
   "cell_type": "code",
   "execution_count": 7,
   "id": "b2889bbb-f34f-40da-94fe-e8f672b39609",
   "metadata": {},
   "outputs": [
    {
     "data": {
      "text/plain": [
       "2013"
      ]
     },
     "execution_count": 7,
     "metadata": {},
     "output_type": "execute_result"
    }
   ],
   "source": [
    "\n",
    "from datetime import datetime\n",
    "from pyspark.sql.functions import count,expr,current_timestamp,lit,month,year\n",
    "\n",
    "startime_row = df2023.take(1)[0]\n",
    "# Parse the string into a datetime object\n",
    "date_obj = datetime.strptime(startime_row.asDict()['starttime'], \"%Y-%m-%d %H:%M:%S\")\n",
    "# Extract the month\n",
    "month = date_obj.month\n",
    "year = date_obj.year\n",
    "\n",
    "month\n",
    "year \n",
    "\n",
    "# df2023.select((current_timestamp()).alias('date')\\\n",
    "#                         ,count(expr(\"*\")).alias('number_of_rows')\\\n",
    "#                         ,(lit('process_name')).alias('process_name')\\\n",
    "#                         ,(lit('OK')).alias('status')\n",
    "#                         ,(lit(month)).alias('YEAR')\n",
    "#                         ,(lit(year)).alias('MONTH')\n",
    "#                         ).show()"
   ]
  },
  {
   "cell_type": "raw",
   "id": "1643246e-d5b3-4ed3-b59d-803e51c264bd",
   "metadata": {},
   "source": [
    "Spark Reading form potsgresql "
   ]
  },
  {
   "cell_type": "code",
   "execution_count": 2,
   "id": "49b50cca-ec9b-4b33-872a-7ad5be510d18",
   "metadata": {},
   "outputs": [],
   "source": [
    "df_fact = spark.read\\\n",
    "            .format(\"jdbc\") \\\n",
    "                .option(\"url\", \"jdbc:postgresql://db:5432/postgres\") \\\n",
    "                .option(\"dbtable\", \"fact_nybike\") \\\n",
    "                .option(\"user\", \"root\") \\\n",
    "                .option(\"password\", \"your-password\") \\\n",
    "                .option(\"driver\", \"org.postgresql.Driver\") \\\n",
    "                .option(\"fetchsize\",1000) \\\n",
    "                .load()"
   ]
  },
  {
   "cell_type": "code",
   "execution_count": 8,
   "id": "7770b250-c7f3-4d14-a60d-72a2757ae66a",
   "metadata": {},
   "outputs": [],
   "source": [
    "df_station = spark.read\\\n",
    "            .format(\"jdbc\") \\\n",
    "                .option(\"url\", \"jdbc:postgresql://db:5432/postgres\") \\\n",
    "                .option(\"dbtable\", \"dim_station_nybike\") \\\n",
    "                .option(\"user\", \"root\") \\\n",
    "                .option(\"password\", \"your-password\") \\\n",
    "                .option(\"driver\", \"org.postgresql.Driver\") \\\n",
    "                .option(\"fetchsize\",1000) \\\n",
    "                .load()"
   ]
  },
  {
   "cell_type": "code",
   "execution_count": 15,
   "id": "80036014-c022-43f4-8527-38cc8eb21ff6",
   "metadata": {},
   "outputs": [],
   "source": [
    "df_report = spark.read\\\n",
    "            .format(\"jdbc\") \\\n",
    "                .option(\"url\", \"jdbc:postgresql://db:5432/postgres\") \\\n",
    "                .option(\"dbtable\", \"report_process\") \\\n",
    "                .option(\"user\", \"root\") \\\n",
    "                .option(\"password\", \"your-password\") \\\n",
    "                .option(\"driver\", \"org.postgresql.Driver\") \\\n",
    "                .option(\"fetchsize\",1000) \\\n",
    "                .load()"
   ]
  },
  {
   "cell_type": "code",
   "execution_count": 16,
   "id": "89d623b5-6337-475b-a5c5-e1b55c01254d",
   "metadata": {},
   "outputs": [],
   "source": [
    "db_table=df_fact.createOrReplaceTempView('dim_fact')\n",
    "df_station.createOrReplaceTempView('dim_station')\n",
    "df_report.createOrReplaceTempView('dim_report')"
   ]
  },
  {
   "cell_type": "code",
   "execution_count": 21,
   "id": "c03a6ec8-540f-4b7c-b1cf-9184246ab139",
   "metadata": {},
   "outputs": [],
   "source": [
    "list_row=spark.sql(\"SELECT * FROM dim_report WHERE status=='OK'\").collect()"
   ]
  },
  {
   "cell_type": "code",
   "execution_count": 24,
   "id": "5880a348-c5e0-4fb7-b35d-85c80e3a8434",
   "metadata": {},
   "outputs": [
    {
     "data": {
      "text/plain": [
       "2013"
      ]
     },
     "execution_count": 24,
     "metadata": {},
     "output_type": "execute_result"
    }
   ],
   "source": [
    "list_row[0]['year_collected']"
   ]
  },
  {
   "cell_type": "code",
   "execution_count": 34,
   "id": "90f9df02-6c3e-4565-891f-ee007b29fd59",
   "metadata": {},
   "outputs": [
    {
     "name": "stdout",
     "output_type": "stream",
     "text": [
      "+----------------------+----+-----+--------------------+----------------+----------------------+-----------------------+--------------------+--------------+--------------------+---------------------+\n",
      "|TRIP_STATION_NYBIKE_ID|YEAR|MONTH|  START_STATION_NAME|START_STATION_ID|START_STATION_LATITUDE|START_STATION_LONGITUDE|    END_STATION_NAME|END_STATION_ID|END_STATION_LATITUDE|END_STATION_LONGITUDE|\n",
      "+----------------------+----+-----+--------------------+----------------+----------------------+-----------------------+--------------------+--------------+--------------------+---------------------+\n",
      "|  -8210704430849674546|2013|   12|            State St|             427|           40.70251526|           -74.01427023|Rivington St & Ch...|           473|         40.72110063|          -73.9919254|\n",
      "|  -5868319784827588472|2013|   12|Centre St & Worth St|             386|           40.71494807|           -74.00234482|Columbia Heights ...|           216|         40.70037867|         -73.99548059|\n",
      "|  -5218808507796740157|2013|   12|     W 17 St & 8 Ave|             116|           40.74177603|           -74.00149746|W 14 St & The Hig...|           225|         40.74195138|         -74.00803013|\n",
      "|   2284245748619921944|2013|   12|  Broadway & W 58 St|             457|           40.76695317|           -73.98169333|  Broadway & W 58 St|           457|         40.76695317|         -73.98169333|\n",
      "|   4136952187484630688|2013|   12|Front St & Washin...|            2000|           40.70255088|           -73.98940236|Forsyth St & Cana...|           412|          40.7158155|         -73.99422366|\n",
      "|  -2815761361344882032|2013|   12|    W 4 St & 7 Ave S|             380|           40.73401143|           -74.00293877|     W 11 St & 6 Ave|           254|         40.73532427|         -73.99800419|\n",
      "|   8468683754900580025|2013|   12|     5 Ave & E 29 St|             474|            40.7451677|           -73.98683077|     E 16 St & 5 Ave|           496|         40.73726186|         -73.99238967|\n",
      "|   -599671570071633384|2013|   12|    W 43 St & 10 Ave|             515|           40.76009437|           -73.99461843|     9 Ave & W 14 St|           404|          40.7405826|         -74.00550867|\n",
      "|  -2151466214901775057|2013|   12|     W 49 St & 8 Ave|             450|           40.76227205|           -73.98788205|    W 43 St & 10 Ave|           515|         40.76009437|         -73.99461843|\n",
      "|  -9171912996349249940|2013|   12|     W 24 St & 7 Ave|             446|           40.74487634|           -73.99529885|    W 26 St & 10 Ave|           388|        40.749717753|        -74.002950346|\n",
      "|   6542516686105449176|2013|   12|    12 Ave & W 40 St|             514|           40.76087502|           -74.00277668|    12 Ave & W 40 St|           514|         40.76087502|         -74.00277668|\n",
      "|  -1318803284611656494|2013|   12|            State St|             427|           40.70251526|           -74.01427023|Rivington St & Ch...|           473|         40.72110063|          -73.9919254|\n",
      "|  -6830982334590630442|2013|   12|E 56 St & Madison...|             137|             40.761628|             -73.972924|  Broadway & E 22 St|           402|          40.7403432|         -73.98955109|\n",
      "|  -5266785767579037490|2013|   12|     W 21 St & 6 Ave|             435|           40.74173969|           -73.99415556|    10 Ave & W 28 St|           489|         40.75066386|         -74.00176802|\n",
      "|   8062751339893384486|2013|   12|     W 45 St & 8 Ave|            2021|           40.75929124|           -73.98859651|    W 20 St & 11 Ave|           459|           40.746745|           -74.007756|\n",
      "|  -1826519149846542527|2013|   12|     2 Ave & E 31 St|             528|           40.74290902|           -73.97706058|   E 7 St & Avenue A|           432|         40.72621788|         -73.98379855|\n",
      "|   4579352901663970974|2013|   12|Division St & Bowery|             296|           40.71413089|            -73.9970468|    Jay St & Tech Pl|           392|           40.695065|           -73.987167|\n",
      "|  -2980456687328008718|2013|   12|  Broadway & W 58 St|             457|           40.76695317|           -73.98169333|  Broadway & W 58 St|           457|         40.76695317|         -73.98169333|\n",
      "|   4105822724613185458|2013|   12|     W 44 St & 5 Ave|             484|           40.75500254|           -73.98014437|     5 Ave & E 29 St|           474|          40.7451677|         -73.98683077|\n",
      "|   7064921949221757347|2013|   12|Allen St & Riving...|             401|           40.72019576|           -73.98997825|     E 16 St & 5 Ave|           496|         40.73726186|         -73.99238967|\n",
      "+----------------------+----+-----+--------------------+----------------+----------------------+-----------------------+--------------------+--------------+--------------------+---------------------+\n",
      "only showing top 20 rows\n",
      "\n"
     ]
    }
   ],
   "source": [
    "# spark.sql(f\"SELECT * FROM dim_station WHERE YEAR={list_row[0]['year_collected']} AND MONTH={list_row[0]['month_collected']}\").show()\n",
    "\n",
    "spark.sql(f\"\"\"SELECT * FROM dim_station WHERE YEAR={list_row[0]['year_collected']} {\"AND MONTH={list_row[0]['month_collected']}\" if list_row[0]['month_collected']>0 else\" \"}\"\"\").show()\n"
   ]
  },
  {
   "cell_type": "code",
   "execution_count": null,
   "id": "c125464f-40e3-4d6b-bc8b-087cc479a5cf",
   "metadata": {},
   "outputs": [],
   "source": []
  },
  {
   "cell_type": "code",
   "execution_count": 1,
   "id": "ece2d29f-c8da-4025-b4b3-2c615841c728",
   "metadata": {},
   "outputs": [],
   "source": [
    "# from pyspark.sql import SparkSession\n",
    "# from pyspark.sql.functions import uuid\n",
    "import os\n",
    "# Function to list all CSV files recursively\n",
    "def list_csv_files(directory):\n",
    "    csv_files = []\n",
    "    for root, _, files in os.walk(directory):\n",
    "        for file in files:\n",
    "            if file.endswith(\".csv\"):\n",
    "                csv_files.append(os.path.join(root, file))\n",
    "    return csv_files"
   ]
  },
  {
   "cell_type": "code",
   "execution_count": 11,
   "id": "c9d0bab4-03da-4df1-9b39-87159aee4c8d",
   "metadata": {},
   "outputs": [],
   "source": [
    "files = os.walk('/opt/airflow/data/2013-citibike-tripdata')"
   ]
  },
  {
   "cell_type": "code",
   "execution_count": 12,
   "id": "a67d2da4-8272-44e0-b555-00fb55cc7c5d",
   "metadata": {},
   "outputs": [
    {
     "name": "stdout",
     "output_type": "stream",
     "text": [
      "root : /opt/airflow/data/2013-citibike-tripdata , dir_names: ['12_December', '7_July', '8_August', '9_September', '10_October', '11_November', '5_May', '6_June'] , filename : ['.DS_Store']\n",
      "root : /opt/airflow/data/2013-citibike-tripdata/12_December , dir_names: [] , filename : ['201312-citibike-tripdata_1.csv']\n",
      "root : /opt/airflow/data/2013-citibike-tripdata/7_July , dir_names: [] , filename : ['201307-citibike-tripdata_1.csv']\n",
      "root : /opt/airflow/data/2013-citibike-tripdata/8_August , dir_names: [] , filename : ['201308-citibike-tripdata_2.csv', '201308-citibike-tripdata_1.csv']\n",
      "root : /opt/airflow/data/2013-citibike-tripdata/9_September , dir_names: [] , filename : ['201309-citibike-tripdata_2.csv', '201309-citibike-tripdata_1.csv']\n",
      "root : /opt/airflow/data/2013-citibike-tripdata/10_October , dir_names: [] , filename : ['201310-citibike-tripdata_1.csv', '201310-citibike-tripdata_2.csv']\n",
      "root : /opt/airflow/data/2013-citibike-tripdata/11_November , dir_names: [] , filename : ['201311-citibike-tripdata_1.csv']\n",
      "root : /opt/airflow/data/2013-citibike-tripdata/5_May , dir_names: [] , filename : []\n",
      "root : /opt/airflow/data/2013-citibike-tripdata/6_June , dir_names: [] , filename : ['201306-citibike-tripdata_1.csv']\n"
     ]
    }
   ],
   "source": [
    "for root ,dir_names,filename in files:\n",
    "    print(f\"root : {root} , dir_names: {dir_names} , filename : {filename}\" )"
   ]
  },
  {
   "cell_type": "code",
   "execution_count": 2,
   "id": "14112a56-b785-421d-a8a3-db32af6a219e",
   "metadata": {},
   "outputs": [
    {
     "name": "stdout",
     "output_type": "stream",
     "text": [
      "['/opt/airflow/data/2016-citibike-tripdata/1_January/201601-citibike-tripdata_1.csv', '/opt/airflow/data/2016-citibike-tripdata/12_December/201612-citibike-tripdata_1.csv', '/opt/airflow/data/2016-citibike-tripdata/2_February/201602-citibike-tripdata_1.csv', '/opt/airflow/data/2016-citibike-tripdata/7_July/201607-citibike-tripdata_2.csv', '/opt/airflow/data/2016-citibike-tripdata/7_July/201607-citibike-tripdata_1.csv', '/opt/airflow/data/2016-citibike-tripdata/3_March/201603-citibike-tripdata_1.csv', '/opt/airflow/data/2016-citibike-tripdata/8_August/201608-citibike-tripdata_2.csv', '/opt/airflow/data/2016-citibike-tripdata/8_August/201608-citibike-tripdata_1.csv', '/opt/airflow/data/2016-citibike-tripdata/4_April/201604-citibike-tripdata_2.csv', '/opt/airflow/data/2016-citibike-tripdata/4_April/201604-citibike-tripdata_1.csv', '/opt/airflow/data/2016-citibike-tripdata/9_September/201609-citibike-tripdata_2.csv', '/opt/airflow/data/2016-citibike-tripdata/9_September/201609-citibike-tripdata_1.csv', '/opt/airflow/data/2016-citibike-tripdata/10_October/201610-citibike-tripdata_2.csv', '/opt/airflow/data/2016-citibike-tripdata/10_October/201610-citibike-tripdata_1.csv', '/opt/airflow/data/2016-citibike-tripdata/11_November/201611-citibike-tripdata_1.csv', '/opt/airflow/data/2016-citibike-tripdata/11_November/201611-citibike-tripdata_2.csv', '/opt/airflow/data/2016-citibike-tripdata/5_May/201605-citibike-tripdata_1.csv', '/opt/airflow/data/2016-citibike-tripdata/5_May/201605-citibike-tripdata_2.csv', '/opt/airflow/data/2016-citibike-tripdata/6_June/201606-citibike-tripdata_1.csv', '/opt/airflow/data/2016-citibike-tripdata/6_June/201606-citibike-tripdata_2.csv']\n"
     ]
    }
   ],
   "source": [
    "path='/opt/airflow/data/2016-citibike-tripdata'\n",
    "list_files =list_csv_files(path)\n",
    "\n",
    "print(list_files)"
   ]
  },
  {
   "cell_type": "code",
   "execution_count": 3,
   "id": "c22b32e0-a3c1-4f0e-9983-5a8e95845353",
   "metadata": {},
   "outputs": [
    {
     "name": "stdout",
     "output_type": "stream",
     "text": [
      "group 0 ['/opt/airflow/data/2016-citibike-tripdata/1_January/201601-citibike-tripdata_1.csv', '/opt/airflow/data/2016-citibike-tripdata/12_December/201612-citibike-tripdata_1.csv', '/opt/airflow/data/2016-citibike-tripdata/2_February/201602-citibike-tripdata_1.csv', '/opt/airflow/data/2016-citibike-tripdata/7_July/201607-citibike-tripdata_2.csv', '/opt/airflow/data/2016-citibike-tripdata/7_July/201607-citibike-tripdata_1.csv']\n",
      "group 5 ['/opt/airflow/data/2016-citibike-tripdata/3_March/201603-citibike-tripdata_1.csv', '/opt/airflow/data/2016-citibike-tripdata/8_August/201608-citibike-tripdata_2.csv', '/opt/airflow/data/2016-citibike-tripdata/8_August/201608-citibike-tripdata_1.csv', '/opt/airflow/data/2016-citibike-tripdata/4_April/201604-citibike-tripdata_2.csv', '/opt/airflow/data/2016-citibike-tripdata/4_April/201604-citibike-tripdata_1.csv']\n",
      "group 10 ['/opt/airflow/data/2016-citibike-tripdata/9_September/201609-citibike-tripdata_2.csv', '/opt/airflow/data/2016-citibike-tripdata/9_September/201609-citibike-tripdata_1.csv', '/opt/airflow/data/2016-citibike-tripdata/10_October/201610-citibike-tripdata_2.csv', '/opt/airflow/data/2016-citibike-tripdata/10_October/201610-citibike-tripdata_1.csv', '/opt/airflow/data/2016-citibike-tripdata/11_November/201611-citibike-tripdata_1.csv']\n",
      "group 15 ['/opt/airflow/data/2016-citibike-tripdata/11_November/201611-citibike-tripdata_2.csv', '/opt/airflow/data/2016-citibike-tripdata/5_May/201605-citibike-tripdata_1.csv', '/opt/airflow/data/2016-citibike-tripdata/5_May/201605-citibike-tripdata_2.csv', '/opt/airflow/data/2016-citibike-tripdata/6_June/201606-citibike-tripdata_1.csv', '/opt/airflow/data/2016-citibike-tripdata/6_June/201606-citibike-tripdata_2.csv']\n"
     ]
    }
   ],
   "source": [
    "\n",
    "group_size = 5\n",
    "len(list_files)\n",
    "for i in range(0, len(list_files), group_size):\n",
    "    group_files = list_files[i:i + group_size]\n",
    "    print(f\"group {i}\",group_files)\n",
    "    # df = spark.read.csv(group_files , header=True, inferSchema=False)\n",
    "    # df.show(8)"
   ]
  },
  {
   "cell_type": "code",
   "execution_count": 3,
   "id": "00640814-3409-4a79-b438-f65ab9ba3707",
   "metadata": {},
   "outputs": [
    {
     "name": "stderr",
     "output_type": "stream",
     "text": [
      "                                                                                \r"
     ]
    },
    {
     "name": "stdout",
     "output_type": "stream",
     "text": [
      "+-----------+-------------------------+-----------+----+-----+------------+-------------+---------------+-------------------+-------------+\n",
      "|    FACT_ID|TRIP_STATION_NYBIKE_ID_FK| DATE_ID_FK|YEAR|MONTH|RIDABLE_TYPE|CUSTOMER_TYPE|CUSTOMER_GENDER|CUSTOMER_YEAR_BIRTH|TRIP_DURATION|\n",
      "+-----------+-------------------------+-----------+----+-----+------------+-------------+---------------+-------------------+-------------+\n",
      "| 1649138811|               1649138811| 1649138811|2013|    6| classe_bike|       Member|         Female|             1960.0|         1770|\n",
      "|-1778667760|              -1778667760|-1778667760|2013|    6| classe_bike|       Member|           Male|             1968.0|         3541|\n",
      "|-1523717471|              -1523717471|-1523717471|2013|    6| classe_bike|       Member|           Male|             1986.0|          861|\n",
      "|  106814874|                106814874|  106814874|2013|    6| classe_bike|       Member|         Female|             1970.0|         1396|\n",
      "| 2074657112|               2074657112| 2074657112|2013|    6| classe_bike|       Member|           Male|             1979.0|         1776|\n",
      "|-1303394014|              -1303394014|-1303394014|2013|    6| classe_bike|     Customer|        Unknown|               NULL|         1383|\n",
      "|  733677063|                733677063|  733677063|2013|    6| classe_bike|       Member|           Male|             1979.0|          340|\n",
      "| 1012294213|               1012294213| 1012294213|2013|    6| classe_bike|       Member|           Male|             1965.0|          487|\n",
      "|  715257990|                715257990|  715257990|2013|    6| classe_bike|       Member|           Male|             1969.0|          478|\n",
      "|-1131069752|              -1131069752|-1131069752|2013|    6| classe_bike|       Member|           Male|             1963.0|          673|\n",
      "| 2042445313|               2042445313| 2042445313|2013|    6| classe_bike|       Member|           Male|             1973.0|          670|\n",
      "|  636642089|                636642089|  636642089|2013|    6| classe_bike|       Member|           Male|             1988.0|          898|\n",
      "| -117022240|               -117022240| -117022240|2013|    6| classe_bike|       Member|         Female|             1988.0|          751|\n",
      "| -926432052|               -926432052| -926432052|2013|    6| classe_bike|     Customer|        Unknown|               NULL|          694|\n",
      "|    4173752|                  4173752|    4173752|2013|    6| classe_bike|     Customer|        Unknown|               NULL|          829|\n",
      "|  400120653|                400120653|  400120653|2013|    6| classe_bike|     Customer|        Unknown|               NULL|         1456|\n",
      "|-1081443158|              -1081443158|-1081443158|2013|    6| classe_bike|     Customer|        Unknown|               NULL|          611|\n",
      "|  282662630|                282662630|  282662630|2013|    6| classe_bike|     Customer|        Unknown|               NULL|         1002|\n",
      "|-1802843900|              -1802843900|-1802843900|2013|    6| classe_bike|       Member|           Male|             1970.0|          662|\n",
      "| 2012850054|               2012850054| 2012850054|2013|    6| classe_bike|       Member|           Male|             1972.0|          599|\n",
      "+-----------+-------------------------+-----------+----+-----+------------+-------------+---------------+-------------------+-------------+\n",
      "only showing top 20 rows\n",
      "\n"
     ]
    }
   ],
   "source": [
    "df.show()"
   ]
  },
  {
   "cell_type": "code",
   "execution_count": 9,
   "id": "321ff889-1941-4e66-ba7a-d68bd1f48cac",
   "metadata": {},
   "outputs": [
    {
     "name": "stderr",
     "output_type": "stream",
     "text": [
      "25/01/26 21:05:37 WARN RowBasedKeyValueBatch: Calling spill() on RowBasedKeyValueBatch. Will not spill but return 0.\n",
      "[Stage 5:>                                                          (0 + 1) / 1]\r"
     ]
    },
    {
     "name": "stdout",
     "output_type": "stream",
     "text": [
      "+-----------+-----+\n",
      "|    FACT_ID|count|\n",
      "+-----------+-----+\n",
      "| -450014632|    2|\n",
      "|-2032378884|    2|\n",
      "|-1978845173|    2|\n",
      "|-1955060958|    2|\n",
      "|-1888077861|    2|\n",
      "|-1887046999|    2|\n",
      "|-1761519587|    2|\n",
      "|-1626918705|    2|\n",
      "|-1472320072|    2|\n",
      "|-1407056905|    2|\n",
      "|-1194473220|    2|\n",
      "| -965298935|    2|\n",
      "| -801461793|    2|\n",
      "| -679464594|    2|\n",
      "| -638953031|    2|\n",
      "| -521349326|    2|\n",
      "| -426100946|    2|\n",
      "|   89843662|    2|\n",
      "|  143768786|    2|\n",
      "|  347295293|    2|\n",
      "+-----------+-----+\n",
      "only showing top 20 rows\n",
      "\n"
     ]
    },
    {
     "name": "stderr",
     "output_type": "stream",
     "text": [
      "                                                                                \r"
     ]
    }
   ],
   "source": [
    "from pyspark.sql.functions import col,hash\n",
    "df.groupBy(\"FACT_ID\").count().filter(col(\"count\") > 1).show() \n",
    "# columns=['TRIP_STATION_NYBIKE_ID_FK','DATE_ID_FK','RIDABLE_TYPE','TRIP_DURATION']\n",
    "# df.withColumn(\"ID_COL\",hash(*columns )).limit(20).show()"
   ]
  },
  {
   "cell_type": "code",
   "execution_count": 4,
   "id": "9183847a-2518-4c1e-b137-ab9e2921e2d2",
   "metadata": {},
   "outputs": [
    {
     "name": "stderr",
     "output_type": "stream",
     "text": [
      "                                                                                \r"
     ]
    },
    {
     "name": "stdout",
     "output_type": "stream",
     "text": [
      "+---+-----+-----+\n",
      "| id| name|marks|\n",
      "+---+-----+-----+\n",
      "|  1|vijay|   67|\n",
      "|  2| Ajay|   88|\n",
      "|  3|  jay|   79|\n",
      "|  4|vinay|   67|\n",
      "+---+-----+-----+\n",
      "\n"
     ]
    }
   ],
   "source": [
    "from pyspark.sql import Row\n",
    "studentDf = spark.createDataFrame([\n",
    "    Row(id=1,name='vijay',marks=67),\n",
    "    Row(id=2,name='Ajay',marks=88),\n",
    "    Row(id=3,name='jay',marks=79),\n",
    "    Row(id=4,name='vinay',marks=67),\n",
    "])\n",
    "studentDf.show()"
   ]
  },
  {
   "cell_type": "code",
   "execution_count": 6,
   "id": "82ab3264-ac19-4708-8d31-194add09f25a",
   "metadata": {},
   "outputs": [],
   "source": [
    "studentDf.select(\"id\",\"name\",\"marks\").write.format(\"jdbc\")\\\n",
    ".option(\"url\", \"jdbc:postgresql://db_postgres:5432/postgres\")\\\n",
    ".option(\"driver\", \"org.postgresql.Driver\").option(\"dbtable\", \"students\")\\\n",
    ".option(\"user\", \"root\").option(\"password\", \"your-password\").save()"
   ]
  },
  {
   "cell_type": "code",
   "execution_count": 21,
   "id": "8770db8f-9663-434f-8db8-72f41b27b0e9",
   "metadata": {},
   "outputs": [
    {
     "name": "stdout",
     "output_type": "stream",
     "text": [
      "+-------------+--------------------+--------------------+\n",
      "|number_of_row|                date|     Name_of_Process|\n",
      "+-------------+--------------------+--------------------+\n",
      "|       577703|2025-01-08 12:52:...|ETL-NY-Process-Be...|\n",
      "+-------------+--------------------+--------------------+\n",
      "\n"
     ]
    }
   ],
   "source": [
    "from pyspark.sql.functions import count,expr,current_timestamp,lit\n",
    "from datetime import datetime\n",
    "df2023.select(count(expr(\"*\")).alias('number_of_row'),(current_timestamp()).alias('date'),(lit('ETL-NY-Process-Before-publish')).alias('Name_of_Process')).show()"
   ]
  },
  {
   "cell_type": "code",
   "execution_count": 26,
   "id": "c0b64e8b-e51b-4ea8-98e0-d1f5e87e1411",
   "metadata": {},
   "outputs": [],
   "source": [
    "df_result =df2023.select(count(expr(\"*\")).alias('number_of_row'))"
   ]
  },
  {
   "cell_type": "code",
   "execution_count": 27,
   "id": "ea7dba1b-0b7f-4bbb-ab0d-fc0a6dbb0fcf",
   "metadata": {},
   "outputs": [
    {
     "name": "stdout",
     "output_type": "stream",
     "text": [
      "+-------------+--------------------+\n",
      "|number_of_row|                date|\n",
      "+-------------+--------------------+\n",
      "|       577703|2025-01-08 15:34:...|\n",
      "|       577703|2025-01-08 15:34:...|\n",
      "|       577703|2025-01-08 15:34:...|\n",
      "|       577703|2025-01-08 15:34:...|\n",
      "|       577703|2025-01-08 15:34:...|\n",
      "|       577703|2025-01-08 15:34:...|\n",
      "|       577703|2025-01-08 15:34:...|\n",
      "|       577703|2025-01-08 15:34:...|\n",
      "|       577703|2025-01-08 15:34:...|\n",
      "|       577703|2025-01-08 15:34:...|\n",
      "|       577703|2025-01-08 15:34:...|\n",
      "|       577703|2025-01-08 15:34:...|\n",
      "|       577703|2025-01-08 15:34:...|\n",
      "|       577703|2025-01-08 15:34:...|\n",
      "|       577703|2025-01-08 15:34:...|\n",
      "|       577703|2025-01-08 15:34:...|\n",
      "|       577703|2025-01-08 15:34:...|\n",
      "|       577703|2025-01-08 15:34:...|\n",
      "|       577703|2025-01-08 15:34:...|\n",
      "|       577703|2025-01-08 15:34:...|\n",
      "+-------------+--------------------+\n",
      "only showing top 20 rows\n",
      "\n"
     ]
    }
   ],
   "source": [
    "df_result.join(df2023.select((current_timestamp()).alias('date'))).show()"
   ]
  },
  {
   "cell_type": "code",
   "execution_count": 12,
   "id": "8a3453bc-583d-4d60-8770-9c55e920ffad",
   "metadata": {},
   "outputs": [
    {
     "data": {
      "text/plain": [
       "<function datetime.date>"
      ]
     },
     "execution_count": 12,
     "metadata": {},
     "output_type": "execute_result"
    }
   ],
   "source": [
    "from datetime import datetime\n",
    "datetime.now()"
   ]
  },
  {
   "cell_type": "code",
   "execution_count": 49,
   "id": "5febee5f-afea-4c8f-a84b-515142ccad3b",
   "metadata": {},
   "outputs": [
    {
     "name": "stdout",
     "output_type": "stream",
     "text": [
      "Collecting datetime-quarter\n",
      "  Downloading datetime_quarter-1.0.3-py3-none-any.whl (3.9 kB)\n",
      "Installing collected packages: datetime-quarter\n",
      "Successfully installed datetime-quarter-1.0.3\n",
      "\u001b[33mWARNING: Running pip as the 'root' user can result in broken permissions and conflicting behaviour with the system package manager. It is recommended to use a virtual environment instead: https://pip.pypa.io/warnings/venv\u001b[0m\u001b[33m\n",
      "\u001b[0m\n",
      "\u001b[1m[\u001b[0m\u001b[34;49mnotice\u001b[0m\u001b[1;39;49m]\u001b[0m\u001b[39;49m A new release of pip is available: \u001b[0m\u001b[31;49m23.0.1\u001b[0m\u001b[39;49m -> \u001b[0m\u001b[32;49m24.3.1\u001b[0m\n",
      "\u001b[1m[\u001b[0m\u001b[34;49mnotice\u001b[0m\u001b[1;39;49m]\u001b[0m\u001b[39;49m To update, run: \u001b[0m\u001b[32;49mpip install --upgrade pip\u001b[0m\n"
     ]
    }
   ],
   "source": [
    "!pip install datetime-quarter"
   ]
  },
  {
   "cell_type": "code",
   "execution_count": 150,
   "id": "be1503c4-193a-4424-a62e-ca64953be9dc",
   "metadata": {},
   "outputs": [
    {
     "data": {
      "text/plain": [
       "DataFrame[tripduration: int, starttime: timestamp, stoptime: timestamp, start station id: double, start station name: string, start station latitude: double, start station longitude: double, end station id: double, end station name: string, end station latitude: double, end station longitude: double, bikeid: int, usertype: string, birth year: int, gender: int]"
      ]
     },
     "execution_count": 150,
     "metadata": {},
     "output_type": "execute_result"
    }
   ],
   "source": [
    "import calendar \n",
    "from datequarter import DateQuarter\n",
    "from pyspark.sql.functions import year,quarter,dayofweek,dayofmonth,month,lit,concat,date_format,hash\n",
    "# df2023.select(df2023.starttime,df2023.stoptime).show() \n",
    "# df2023.withColumns({'YEAR':year('starttime'),'QUARTER':quarter(df2023.starttime),'QUARTER_NAME':concat(year('starttime'), lit('Q'), quarter('starttime'))}).show()\n",
    "# df2023.select(year('starttime'),quarter('starttime'),concat(year('starttime'), lit('Q'), quarter('starttime')),month('starttime'),date_format('starttime', 'MMMM').alias('MONTH_NAME'),dayofmonth('starttime'),dayofweek('starttime'),date_format('starttime','dd'),(date_format('starttime','EEEE').alias('WEEK_DAY_NAME'))).show()\n",
    "# df2023.withColumn('ID',hash('starttime','stoptime')).select('*').show()\n",
    "df2023.drop('startti')"
   ]
  },
  {
   "cell_type": "raw",
   "id": "53f9762e-d662-4358-a054-eab6327e94db",
   "metadata": {},
   "source": [
    "Create database for new yor city bike data collection"
   ]
  },
  {
   "cell_type": "code",
   "execution_count": 71,
   "id": "86c66e96-6790-4cd7-86c4-e94417d6dc27",
   "metadata": {},
   "outputs": [
    {
     "name": "stdout",
     "output_type": "stream",
     "text": [
      "Requirement already satisfied: datetime-quarter in /usr/local/lib/python3.9/site-packages (1.0.3)\n",
      "\u001b[33mWARNING: Running pip as the 'root' user can result in broken permissions and conflicting behaviour with the system package manager. It is recommended to use a virtual environment instead: https://pip.pypa.io/warnings/venv\u001b[0m\u001b[33m\n",
      "\u001b[0m\n",
      "\u001b[1m[\u001b[0m\u001b[34;49mnotice\u001b[0m\u001b[1;39;49m]\u001b[0m\u001b[39;49m A new release of pip is available: \u001b[0m\u001b[31;49m23.0.1\u001b[0m\u001b[39;49m -> \u001b[0m\u001b[32;49m24.3.1\u001b[0m\n",
      "\u001b[1m[\u001b[0m\u001b[34;49mnotice\u001b[0m\u001b[1;39;49m]\u001b[0m\u001b[39;49m To update, run: \u001b[0m\u001b[32;49mpip install --upgrade pip\u001b[0m\n"
     ]
    }
   ],
   "source": [
    "!pip install datetime-quarter"
   ]
  },
  {
   "cell_type": "code",
   "execution_count": 72,
   "id": "6c59e65c-6a47-457d-98a3-c9d1c130cb34",
   "metadata": {},
   "outputs": [],
   "source": [
    "from datequarter import DateQuarter\n",
    "sample = DateQuarter(2019, 4)"
   ]
  },
  {
   "cell_type": "code",
   "execution_count": 76,
   "id": "a8207d9d-73d5-4304-9194-cd479e3dde6c",
   "metadata": {},
   "outputs": [
    {
     "data": {
      "text/plain": [
       "<bound method DateQuarter.__str__ of <DateQuarter-2019,Q4>>"
      ]
     },
     "execution_count": 76,
     "metadata": {},
     "output_type": "execute_result"
    }
   ],
   "source": []
  },
  {
   "cell_type": "code",
   "execution_count": 1,
   "id": "f0daf7c2-2047-41a7-80d8-2ca16f35b89a",
   "metadata": {},
   "outputs": [
    {
     "name": "stderr",
     "output_type": "stream",
     "text": [
      "25/03/04 19:51:32 WARN SparkSession: Using an existing Spark session; only runtime SQL configurations will take effect.\n"
     ]
    },
    {
     "data": {
      "text/html": [
       "<table>\n",
       "    <thead>\n",
       "        <tr>\n",
       "        </tr>\n",
       "    </thead>\n",
       "    <tbody>\n",
       "    </tbody>\n",
       "</table>"
      ],
      "text/plain": [
       "++\n",
       "||\n",
       "++\n",
       "++"
      ]
     },
     "execution_count": 1,
     "metadata": {},
     "output_type": "execute_result"
    }
   ],
   "source": [
    "%%sql \n",
    "-- CREATE DATABASE IF NOT EXISTS STAGE_NEWYORKCITYBIKE\n",
    "-- CREATE DATABASE IF NOT EXISTS DATAWAHOUSE_NEWCITYBIKE"
   ]
  },
  {
   "cell_type": "code",
   "execution_count": 3,
   "id": "f00987bc-17ca-4725-a98f-72cec1849dbc",
   "metadata": {},
   "outputs": [
    {
     "ename": "AnalysisException",
     "evalue": "[SCHEMA_NOT_FOUND] The schema `dw_nybike` cannot be found. Verify the spelling and correctness of the schema and catalog.\nIf you did not qualify the name with a catalog, verify the current_schema() output, or qualify the name with the correct catalog.\nTo tolerate the error on drop use DROP SCHEMA IF EXISTS.",
     "output_type": "error",
     "traceback": [
      "\u001b[0;31m---------------------------------------------------------------------------\u001b[0m",
      "\u001b[0;31mAnalysisException\u001b[0m                         Traceback (most recent call last)",
      "Cell \u001b[0;32mIn[3], line 1\u001b[0m\n\u001b[0;32m----> 1\u001b[0m \u001b[43mget_ipython\u001b[49m\u001b[43m(\u001b[49m\u001b[43m)\u001b[49m\u001b[38;5;241;43m.\u001b[39;49m\u001b[43mrun_cell_magic\u001b[49m\u001b[43m(\u001b[49m\u001b[38;5;124;43m'\u001b[39;49m\u001b[38;5;124;43msql\u001b[39;49m\u001b[38;5;124;43m'\u001b[39;49m\u001b[43m,\u001b[49m\u001b[43m \u001b[49m\u001b[38;5;124;43m'\u001b[39;49m\u001b[38;5;124;43m'\u001b[39;49m\u001b[43m,\u001b[49m\u001b[43m \u001b[49m\u001b[38;5;124;43m'\u001b[39;49m\u001b[38;5;130;43;01m\\n\u001b[39;49;00m\u001b[38;5;124;43m-- CREATE DATABASE dw_nybike;\u001b[39;49m\u001b[38;5;130;43;01m\\n\u001b[39;49;00m\u001b[38;5;130;43;01m\\n\u001b[39;49;00m\u001b[38;5;124;43mUSE dw_nybike;\u001b[39;49m\u001b[38;5;130;43;01m\\n\u001b[39;49;00m\u001b[38;5;124;43m-- CREATE SCHEMA IF NOT EXISTS  bronze;\u001b[39;49m\u001b[38;5;130;43;01m\\n\u001b[39;49;00m\u001b[38;5;124;43m-- CREATE SCHEMA IF NOT EXISTS sylver ;\u001b[39;49m\u001b[38;5;130;43;01m\\n\u001b[39;49;00m\u001b[38;5;124;43m-- CREATE SCHEMA IF NOT EXISTS gold ;\u001b[39;49m\u001b[38;5;130;43;01m\\n\u001b[39;49;00m\u001b[38;5;124;43m'\u001b[39;49m\u001b[43m)\u001b[49m\n",
      "File \u001b[0;32m/usr/local/lib/python3.9/site-packages/IPython/core/interactiveshell.py:2517\u001b[0m, in \u001b[0;36mInteractiveShell.run_cell_magic\u001b[0;34m(self, magic_name, line, cell)\u001b[0m\n\u001b[1;32m   2515\u001b[0m \u001b[38;5;28;01mwith\u001b[39;00m \u001b[38;5;28mself\u001b[39m\u001b[38;5;241m.\u001b[39mbuiltin_trap:\n\u001b[1;32m   2516\u001b[0m     args \u001b[38;5;241m=\u001b[39m (magic_arg_s, cell)\n\u001b[0;32m-> 2517\u001b[0m     result \u001b[38;5;241m=\u001b[39m \u001b[43mfn\u001b[49m\u001b[43m(\u001b[49m\u001b[38;5;241;43m*\u001b[39;49m\u001b[43margs\u001b[49m\u001b[43m,\u001b[49m\u001b[43m \u001b[49m\u001b[38;5;241;43m*\u001b[39;49m\u001b[38;5;241;43m*\u001b[39;49m\u001b[43mkwargs\u001b[49m\u001b[43m)\u001b[49m\n\u001b[1;32m   2519\u001b[0m \u001b[38;5;66;03m# The code below prevents the output from being displayed\u001b[39;00m\n\u001b[1;32m   2520\u001b[0m \u001b[38;5;66;03m# when using magics with decorator @output_can_be_silenced\u001b[39;00m\n\u001b[1;32m   2521\u001b[0m \u001b[38;5;66;03m# when the last Python token in the expression is a ';'.\u001b[39;00m\n\u001b[1;32m   2522\u001b[0m \u001b[38;5;28;01mif\u001b[39;00m \u001b[38;5;28mgetattr\u001b[39m(fn, magic\u001b[38;5;241m.\u001b[39mMAGIC_OUTPUT_CAN_BE_SILENCED, \u001b[38;5;28;01mFalse\u001b[39;00m):\n",
      "File \u001b[0;32m~/.ipython/profile_default/startup/00-prettytables.py:81\u001b[0m, in \u001b[0;36msql\u001b[0;34m(line, cell)\u001b[0m\n\u001b[1;32m     79\u001b[0m         \u001b[38;5;28;01mreturn\u001b[39;00m _to_table(df, num_rows\u001b[38;5;241m=\u001b[39margs\u001b[38;5;241m.\u001b[39mlimit)\n\u001b[1;32m     80\u001b[0m \u001b[38;5;28;01melse\u001b[39;00m:\n\u001b[0;32m---> 81\u001b[0m     \u001b[38;5;28;01mreturn\u001b[39;00m _to_table(\u001b[43mspark\u001b[49m\u001b[38;5;241;43m.\u001b[39;49m\u001b[43msql\u001b[49m\u001b[43m(\u001b[49m\u001b[43mcell\u001b[49m\u001b[43m)\u001b[49m)\n",
      "File \u001b[0;32m/opt/spark/python/pyspark/sql/session.py:1631\u001b[0m, in \u001b[0;36mSparkSession.sql\u001b[0;34m(self, sqlQuery, args, **kwargs)\u001b[0m\n\u001b[1;32m   1627\u001b[0m         \u001b[38;5;28;01massert\u001b[39;00m \u001b[38;5;28mself\u001b[39m\u001b[38;5;241m.\u001b[39m_jvm \u001b[38;5;129;01mis\u001b[39;00m \u001b[38;5;129;01mnot\u001b[39;00m \u001b[38;5;28;01mNone\u001b[39;00m\n\u001b[1;32m   1628\u001b[0m         litArgs \u001b[38;5;241m=\u001b[39m \u001b[38;5;28mself\u001b[39m\u001b[38;5;241m.\u001b[39m_jvm\u001b[38;5;241m.\u001b[39mPythonUtils\u001b[38;5;241m.\u001b[39mtoArray(\n\u001b[1;32m   1629\u001b[0m             [_to_java_column(lit(v)) \u001b[38;5;28;01mfor\u001b[39;00m v \u001b[38;5;129;01min\u001b[39;00m (args \u001b[38;5;129;01mor\u001b[39;00m [])]\n\u001b[1;32m   1630\u001b[0m         )\n\u001b[0;32m-> 1631\u001b[0m     \u001b[38;5;28;01mreturn\u001b[39;00m DataFrame(\u001b[38;5;28;43mself\u001b[39;49m\u001b[38;5;241;43m.\u001b[39;49m\u001b[43m_jsparkSession\u001b[49m\u001b[38;5;241;43m.\u001b[39;49m\u001b[43msql\u001b[49m\u001b[43m(\u001b[49m\u001b[43msqlQuery\u001b[49m\u001b[43m,\u001b[49m\u001b[43m \u001b[49m\u001b[43mlitArgs\u001b[49m\u001b[43m)\u001b[49m, \u001b[38;5;28mself\u001b[39m)\n\u001b[1;32m   1632\u001b[0m \u001b[38;5;28;01mfinally\u001b[39;00m:\n\u001b[1;32m   1633\u001b[0m     \u001b[38;5;28;01mif\u001b[39;00m \u001b[38;5;28mlen\u001b[39m(kwargs) \u001b[38;5;241m>\u001b[39m \u001b[38;5;241m0\u001b[39m:\n",
      "File \u001b[0;32m/opt/spark/python/lib/py4j-0.10.9.7-src.zip/py4j/java_gateway.py:1322\u001b[0m, in \u001b[0;36mJavaMember.__call__\u001b[0;34m(self, *args)\u001b[0m\n\u001b[1;32m   1316\u001b[0m command \u001b[38;5;241m=\u001b[39m proto\u001b[38;5;241m.\u001b[39mCALL_COMMAND_NAME \u001b[38;5;241m+\u001b[39m\\\n\u001b[1;32m   1317\u001b[0m     \u001b[38;5;28mself\u001b[39m\u001b[38;5;241m.\u001b[39mcommand_header \u001b[38;5;241m+\u001b[39m\\\n\u001b[1;32m   1318\u001b[0m     args_command \u001b[38;5;241m+\u001b[39m\\\n\u001b[1;32m   1319\u001b[0m     proto\u001b[38;5;241m.\u001b[39mEND_COMMAND_PART\n\u001b[1;32m   1321\u001b[0m answer \u001b[38;5;241m=\u001b[39m \u001b[38;5;28mself\u001b[39m\u001b[38;5;241m.\u001b[39mgateway_client\u001b[38;5;241m.\u001b[39msend_command(command)\n\u001b[0;32m-> 1322\u001b[0m return_value \u001b[38;5;241m=\u001b[39m \u001b[43mget_return_value\u001b[49m\u001b[43m(\u001b[49m\n\u001b[1;32m   1323\u001b[0m \u001b[43m    \u001b[49m\u001b[43manswer\u001b[49m\u001b[43m,\u001b[49m\u001b[43m \u001b[49m\u001b[38;5;28;43mself\u001b[39;49m\u001b[38;5;241;43m.\u001b[39;49m\u001b[43mgateway_client\u001b[49m\u001b[43m,\u001b[49m\u001b[43m \u001b[49m\u001b[38;5;28;43mself\u001b[39;49m\u001b[38;5;241;43m.\u001b[39;49m\u001b[43mtarget_id\u001b[49m\u001b[43m,\u001b[49m\u001b[43m \u001b[49m\u001b[38;5;28;43mself\u001b[39;49m\u001b[38;5;241;43m.\u001b[39;49m\u001b[43mname\u001b[49m\u001b[43m)\u001b[49m\n\u001b[1;32m   1325\u001b[0m \u001b[38;5;28;01mfor\u001b[39;00m temp_arg \u001b[38;5;129;01min\u001b[39;00m temp_args:\n\u001b[1;32m   1326\u001b[0m     \u001b[38;5;28;01mif\u001b[39;00m \u001b[38;5;28mhasattr\u001b[39m(temp_arg, \u001b[38;5;124m\"\u001b[39m\u001b[38;5;124m_detach\u001b[39m\u001b[38;5;124m\"\u001b[39m):\n",
      "File \u001b[0;32m/opt/spark/python/pyspark/errors/exceptions/captured.py:185\u001b[0m, in \u001b[0;36mcapture_sql_exception.<locals>.deco\u001b[0;34m(*a, **kw)\u001b[0m\n\u001b[1;32m    181\u001b[0m converted \u001b[38;5;241m=\u001b[39m convert_exception(e\u001b[38;5;241m.\u001b[39mjava_exception)\n\u001b[1;32m    182\u001b[0m \u001b[38;5;28;01mif\u001b[39;00m \u001b[38;5;129;01mnot\u001b[39;00m \u001b[38;5;28misinstance\u001b[39m(converted, UnknownException):\n\u001b[1;32m    183\u001b[0m     \u001b[38;5;66;03m# Hide where the exception came from that shows a non-Pythonic\u001b[39;00m\n\u001b[1;32m    184\u001b[0m     \u001b[38;5;66;03m# JVM exception message.\u001b[39;00m\n\u001b[0;32m--> 185\u001b[0m     \u001b[38;5;28;01mraise\u001b[39;00m converted \u001b[38;5;28;01mfrom\u001b[39;00m \u001b[38;5;28;01mNone\u001b[39;00m\n\u001b[1;32m    186\u001b[0m \u001b[38;5;28;01melse\u001b[39;00m:\n\u001b[1;32m    187\u001b[0m     \u001b[38;5;28;01mraise\u001b[39;00m\n",
      "\u001b[0;31mAnalysisException\u001b[0m: [SCHEMA_NOT_FOUND] The schema `dw_nybike` cannot be found. Verify the spelling and correctness of the schema and catalog.\nIf you did not qualify the name with a catalog, verify the current_schema() output, or qualify the name with the correct catalog.\nTo tolerate the error on drop use DROP SCHEMA IF EXISTS."
     ]
    }
   ],
   "source": [
    "%%sql\n",
    "\n",
    "-- CREATE DATABASE dw_nybike;\n",
    "\n",
    "USE dw_nybike;\n",
    "-- CREATE SCHEMA IF NOT EXISTS  bronze;\n",
    "-- CREATE SCHEMA IF NOT EXISTS sylver ;\n",
    "-- CREATE SCHEMA IF NOT EXISTS gold ;"
   ]
  },
  {
   "cell_type": "code",
   "execution_count": 221,
   "id": "46e69f41-e3c9-4efc-8f80-546e1fc0e81b",
   "metadata": {},
   "outputs": [
    {
     "name": "stdout",
     "output_type": "stream",
     "text": [
      "Your UUID is: d1d804f8-fa54-4bde-ac07-9d83a669a90b\n"
     ]
    }
   ],
   "source": [
    "import uuid\n",
    "\n",
    "myuuid = uuid.uuid4()\n",
    "\n",
    "print('Your UUID is: ' + str(myuuid))"
   ]
  },
  {
   "cell_type": "code",
   "execution_count": 222,
   "id": "e79356eb-0171-4821-b51d-55a7ed1e26ae",
   "metadata": {},
   "outputs": [
    {
     "data": {
      "text/plain": [
       "UUID('d1d804f8-fa54-4bde-ac07-9d83a669a90b')"
      ]
     },
     "execution_count": 222,
     "metadata": {},
     "output_type": "execute_result"
    }
   ],
   "source": []
  },
  {
   "cell_type": "code",
   "execution_count": 12,
   "id": "511cacda-26cb-4fc7-9030-2861998e5d7c",
   "metadata": {},
   "outputs": [
    {
     "data": {
      "text/html": [
       "<table>\n",
       "    <thead>\n",
       "        <tr>\n",
       "        </tr>\n",
       "    </thead>\n",
       "    <tbody>\n",
       "    </tbody>\n",
       "</table>"
      ],
      "text/plain": [
       "++\n",
       "||\n",
       "++\n",
       "++"
      ]
     },
     "execution_count": 12,
     "metadata": {},
     "output_type": "execute_result"
    }
   ],
   "source": [
    "%%sql\n",
    "CREATE TABLE dw_nybike.bronze.trip_data_nybike(\n",
    "    dw_period_tag string,\n",
    "    ride_id string,\n",
    "\tstart_station_id string,\n",
    "\tstart_station_name string,\n",
    "\tstart_station_latitude DOUBLE ,\n",
    "\tstart_station_longitude DOUBLE ,\n",
    "\tend_station_id string,\n",
    "\tend_station_name string,\n",
    "\tend_station_latitude double,\n",
    "\tend_station_longitude double,\n",
    "\tuser_type string,\n",
    "    gender string,\n",
    "\tcustomer_year_birth string,\n",
    "    bike_id bigint,\n",
    "\trideable_type string,\n",
    "\tstart_at timestamp,\n",
    "\tstop_at timestamp, \n",
    "\ttrip_duration DOUBLE)\n",
    "PARTITIONED BY (dw_period_tag)\n",
    ";\n"
   ]
  },
  {
   "cell_type": "code",
   "execution_count": 2,
   "id": "9ba2be94-3de5-4160-8ade-9d8ff837aad1",
   "metadata": {},
   "outputs": [
    {
     "ename": "AnalysisException",
     "evalue": "[TABLE_OR_VIEW_NOT_FOUND] The table or view `dw_nybike`.`bronze`.`trip_data_nybike` cannot be found. Verify the spelling and correctness of the schema and catalog.\nIf you did not qualify the name with a schema, verify the current_schema() output, or qualify the name with the correct schema and catalog.\nTo tolerate the error on drop use DROP VIEW IF EXISTS or DROP TABLE IF EXISTS.; line 4 pos 9;\n'GlobalLimit 5\n+- 'LocalLimit 5\n   +- 'Aggregate [unresolvedalias(count(1), None)]\n      +- 'UnresolvedRelation [dw_nybike, bronze, trip_data_nybike], [], false\n",
     "output_type": "error",
     "traceback": [
      "\u001b[0;31m---------------------------------------------------------------------------\u001b[0m",
      "\u001b[0;31mAnalysisException\u001b[0m                         Traceback (most recent call last)",
      "Cell \u001b[0;32mIn[2], line 1\u001b[0m\n\u001b[0;32m----> 1\u001b[0m \u001b[43mget_ipython\u001b[49m\u001b[43m(\u001b[49m\u001b[43m)\u001b[49m\u001b[38;5;241;43m.\u001b[39;49m\u001b[43mrun_cell_magic\u001b[49m\u001b[43m(\u001b[49m\u001b[38;5;124;43m'\u001b[39;49m\u001b[38;5;124;43msql\u001b[39;49m\u001b[38;5;124;43m'\u001b[39;49m\u001b[43m,\u001b[49m\u001b[43m \u001b[49m\u001b[38;5;124;43m'\u001b[39;49m\u001b[38;5;124;43m'\u001b[39;49m\u001b[43m,\u001b[49m\u001b[43m \u001b[49m\u001b[38;5;124;43m'\u001b[39;49m\u001b[38;5;124;43mselect \u001b[39;49m\u001b[38;5;130;43;01m\\n\u001b[39;49;00m\u001b[38;5;124;43m    -- distinct(dw_period_tag)\u001b[39;49m\u001b[38;5;130;43;01m\\n\u001b[39;49;00m\u001b[38;5;124;43m    count(*)\u001b[39;49m\u001b[38;5;130;43;01m\\n\u001b[39;49;00m\u001b[38;5;124;43m    from dw_nybike.bronze.trip_data_nybike\u001b[39;49m\u001b[38;5;130;43;01m\\n\u001b[39;49;00m\u001b[38;5;124;43m    -- WHERE dw_period_tag=\u001b[39;49m\u001b[38;5;130;43;01m\\n\u001b[39;49;00m\u001b[38;5;124;43m    limit 5; \u001b[39;49m\u001b[38;5;130;43;01m\\n\u001b[39;49;00m\u001b[38;5;130;43;01m\\n\u001b[39;49;00m\u001b[38;5;124;43m-- truncate table dw_nybike.sylver.trip_data_nybike;\u001b[39;49m\u001b[38;5;130;43;01m\\n\u001b[39;49;00m\u001b[38;5;124;43m'\u001b[39;49m\u001b[43m)\u001b[49m\n",
      "File \u001b[0;32m/usr/local/lib/python3.9/site-packages/IPython/core/interactiveshell.py:2517\u001b[0m, in \u001b[0;36mInteractiveShell.run_cell_magic\u001b[0;34m(self, magic_name, line, cell)\u001b[0m\n\u001b[1;32m   2515\u001b[0m \u001b[38;5;28;01mwith\u001b[39;00m \u001b[38;5;28mself\u001b[39m\u001b[38;5;241m.\u001b[39mbuiltin_trap:\n\u001b[1;32m   2516\u001b[0m     args \u001b[38;5;241m=\u001b[39m (magic_arg_s, cell)\n\u001b[0;32m-> 2517\u001b[0m     result \u001b[38;5;241m=\u001b[39m \u001b[43mfn\u001b[49m\u001b[43m(\u001b[49m\u001b[38;5;241;43m*\u001b[39;49m\u001b[43margs\u001b[49m\u001b[43m,\u001b[49m\u001b[43m \u001b[49m\u001b[38;5;241;43m*\u001b[39;49m\u001b[38;5;241;43m*\u001b[39;49m\u001b[43mkwargs\u001b[49m\u001b[43m)\u001b[49m\n\u001b[1;32m   2519\u001b[0m \u001b[38;5;66;03m# The code below prevents the output from being displayed\u001b[39;00m\n\u001b[1;32m   2520\u001b[0m \u001b[38;5;66;03m# when using magics with decorator @output_can_be_silenced\u001b[39;00m\n\u001b[1;32m   2521\u001b[0m \u001b[38;5;66;03m# when the last Python token in the expression is a ';'.\u001b[39;00m\n\u001b[1;32m   2522\u001b[0m \u001b[38;5;28;01mif\u001b[39;00m \u001b[38;5;28mgetattr\u001b[39m(fn, magic\u001b[38;5;241m.\u001b[39mMAGIC_OUTPUT_CAN_BE_SILENCED, \u001b[38;5;28;01mFalse\u001b[39;00m):\n",
      "File \u001b[0;32m~/.ipython/profile_default/startup/00-prettytables.py:81\u001b[0m, in \u001b[0;36msql\u001b[0;34m(line, cell)\u001b[0m\n\u001b[1;32m     79\u001b[0m         \u001b[38;5;28;01mreturn\u001b[39;00m _to_table(df, num_rows\u001b[38;5;241m=\u001b[39margs\u001b[38;5;241m.\u001b[39mlimit)\n\u001b[1;32m     80\u001b[0m \u001b[38;5;28;01melse\u001b[39;00m:\n\u001b[0;32m---> 81\u001b[0m     \u001b[38;5;28;01mreturn\u001b[39;00m _to_table(\u001b[43mspark\u001b[49m\u001b[38;5;241;43m.\u001b[39;49m\u001b[43msql\u001b[49m\u001b[43m(\u001b[49m\u001b[43mcell\u001b[49m\u001b[43m)\u001b[49m)\n",
      "File \u001b[0;32m/opt/spark/python/pyspark/sql/session.py:1631\u001b[0m, in \u001b[0;36mSparkSession.sql\u001b[0;34m(self, sqlQuery, args, **kwargs)\u001b[0m\n\u001b[1;32m   1627\u001b[0m         \u001b[38;5;28;01massert\u001b[39;00m \u001b[38;5;28mself\u001b[39m\u001b[38;5;241m.\u001b[39m_jvm \u001b[38;5;129;01mis\u001b[39;00m \u001b[38;5;129;01mnot\u001b[39;00m \u001b[38;5;28;01mNone\u001b[39;00m\n\u001b[1;32m   1628\u001b[0m         litArgs \u001b[38;5;241m=\u001b[39m \u001b[38;5;28mself\u001b[39m\u001b[38;5;241m.\u001b[39m_jvm\u001b[38;5;241m.\u001b[39mPythonUtils\u001b[38;5;241m.\u001b[39mtoArray(\n\u001b[1;32m   1629\u001b[0m             [_to_java_column(lit(v)) \u001b[38;5;28;01mfor\u001b[39;00m v \u001b[38;5;129;01min\u001b[39;00m (args \u001b[38;5;129;01mor\u001b[39;00m [])]\n\u001b[1;32m   1630\u001b[0m         )\n\u001b[0;32m-> 1631\u001b[0m     \u001b[38;5;28;01mreturn\u001b[39;00m DataFrame(\u001b[38;5;28;43mself\u001b[39;49m\u001b[38;5;241;43m.\u001b[39;49m\u001b[43m_jsparkSession\u001b[49m\u001b[38;5;241;43m.\u001b[39;49m\u001b[43msql\u001b[49m\u001b[43m(\u001b[49m\u001b[43msqlQuery\u001b[49m\u001b[43m,\u001b[49m\u001b[43m \u001b[49m\u001b[43mlitArgs\u001b[49m\u001b[43m)\u001b[49m, \u001b[38;5;28mself\u001b[39m)\n\u001b[1;32m   1632\u001b[0m \u001b[38;5;28;01mfinally\u001b[39;00m:\n\u001b[1;32m   1633\u001b[0m     \u001b[38;5;28;01mif\u001b[39;00m \u001b[38;5;28mlen\u001b[39m(kwargs) \u001b[38;5;241m>\u001b[39m \u001b[38;5;241m0\u001b[39m:\n",
      "File \u001b[0;32m/opt/spark/python/lib/py4j-0.10.9.7-src.zip/py4j/java_gateway.py:1322\u001b[0m, in \u001b[0;36mJavaMember.__call__\u001b[0;34m(self, *args)\u001b[0m\n\u001b[1;32m   1316\u001b[0m command \u001b[38;5;241m=\u001b[39m proto\u001b[38;5;241m.\u001b[39mCALL_COMMAND_NAME \u001b[38;5;241m+\u001b[39m\\\n\u001b[1;32m   1317\u001b[0m     \u001b[38;5;28mself\u001b[39m\u001b[38;5;241m.\u001b[39mcommand_header \u001b[38;5;241m+\u001b[39m\\\n\u001b[1;32m   1318\u001b[0m     args_command \u001b[38;5;241m+\u001b[39m\\\n\u001b[1;32m   1319\u001b[0m     proto\u001b[38;5;241m.\u001b[39mEND_COMMAND_PART\n\u001b[1;32m   1321\u001b[0m answer \u001b[38;5;241m=\u001b[39m \u001b[38;5;28mself\u001b[39m\u001b[38;5;241m.\u001b[39mgateway_client\u001b[38;5;241m.\u001b[39msend_command(command)\n\u001b[0;32m-> 1322\u001b[0m return_value \u001b[38;5;241m=\u001b[39m \u001b[43mget_return_value\u001b[49m\u001b[43m(\u001b[49m\n\u001b[1;32m   1323\u001b[0m \u001b[43m    \u001b[49m\u001b[43manswer\u001b[49m\u001b[43m,\u001b[49m\u001b[43m \u001b[49m\u001b[38;5;28;43mself\u001b[39;49m\u001b[38;5;241;43m.\u001b[39;49m\u001b[43mgateway_client\u001b[49m\u001b[43m,\u001b[49m\u001b[43m \u001b[49m\u001b[38;5;28;43mself\u001b[39;49m\u001b[38;5;241;43m.\u001b[39;49m\u001b[43mtarget_id\u001b[49m\u001b[43m,\u001b[49m\u001b[43m \u001b[49m\u001b[38;5;28;43mself\u001b[39;49m\u001b[38;5;241;43m.\u001b[39;49m\u001b[43mname\u001b[49m\u001b[43m)\u001b[49m\n\u001b[1;32m   1325\u001b[0m \u001b[38;5;28;01mfor\u001b[39;00m temp_arg \u001b[38;5;129;01min\u001b[39;00m temp_args:\n\u001b[1;32m   1326\u001b[0m     \u001b[38;5;28;01mif\u001b[39;00m \u001b[38;5;28mhasattr\u001b[39m(temp_arg, \u001b[38;5;124m\"\u001b[39m\u001b[38;5;124m_detach\u001b[39m\u001b[38;5;124m\"\u001b[39m):\n",
      "File \u001b[0;32m/opt/spark/python/pyspark/errors/exceptions/captured.py:185\u001b[0m, in \u001b[0;36mcapture_sql_exception.<locals>.deco\u001b[0;34m(*a, **kw)\u001b[0m\n\u001b[1;32m    181\u001b[0m converted \u001b[38;5;241m=\u001b[39m convert_exception(e\u001b[38;5;241m.\u001b[39mjava_exception)\n\u001b[1;32m    182\u001b[0m \u001b[38;5;28;01mif\u001b[39;00m \u001b[38;5;129;01mnot\u001b[39;00m \u001b[38;5;28misinstance\u001b[39m(converted, UnknownException):\n\u001b[1;32m    183\u001b[0m     \u001b[38;5;66;03m# Hide where the exception came from that shows a non-Pythonic\u001b[39;00m\n\u001b[1;32m    184\u001b[0m     \u001b[38;5;66;03m# JVM exception message.\u001b[39;00m\n\u001b[0;32m--> 185\u001b[0m     \u001b[38;5;28;01mraise\u001b[39;00m converted \u001b[38;5;28;01mfrom\u001b[39;00m \u001b[38;5;28;01mNone\u001b[39;00m\n\u001b[1;32m    186\u001b[0m \u001b[38;5;28;01melse\u001b[39;00m:\n\u001b[1;32m    187\u001b[0m     \u001b[38;5;28;01mraise\u001b[39;00m\n",
      "\u001b[0;31mAnalysisException\u001b[0m: [TABLE_OR_VIEW_NOT_FOUND] The table or view `dw_nybike`.`bronze`.`trip_data_nybike` cannot be found. Verify the spelling and correctness of the schema and catalog.\nIf you did not qualify the name with a schema, verify the current_schema() output, or qualify the name with the correct schema and catalog.\nTo tolerate the error on drop use DROP VIEW IF EXISTS or DROP TABLE IF EXISTS.; line 4 pos 9;\n'GlobalLimit 5\n+- 'LocalLimit 5\n   +- 'Aggregate [unresolvedalias(count(1), None)]\n      +- 'UnresolvedRelation [dw_nybike, bronze, trip_data_nybike], [], false\n"
     ]
    }
   ],
   "source": [
    "%%sql\n",
    "select \n",
    "    -- distinct(dw_period_tag)\n",
    "    count(*)\n",
    "    from dw_nybike.bronze.trip_data_nybike\n",
    "    -- WHERE dw_period_tag=\n",
    "    limit 5; \n",
    "\n",
    "-- truncate table dw_nybike.sylver.trip_data_nybike;\n"
   ]
  },
  {
   "cell_type": "code",
   "execution_count": 167,
   "id": "1435cbbd-a232-4e8b-a866-425d10b2e1af",
   "metadata": {},
   "outputs": [
    {
     "data": {
      "text/html": [
       "<table>\n",
       "    <thead>\n",
       "        <tr>\n",
       "        </tr>\n",
       "    </thead>\n",
       "    <tbody>\n",
       "    </tbody>\n",
       "</table>"
      ],
      "text/plain": [
       "++\n",
       "||\n",
       "++\n",
       "++"
      ]
     },
     "execution_count": 167,
     "metadata": {},
     "output_type": "execute_result"
    }
   ],
   "source": [
    "%%sql\n",
    "-- SHOW tables dw_nybike;\n",
    "-- use dw_nybike.bronze;\n",
    "use dw_nybike.sylver;\n",
    "-- show tables  ;"
   ]
  },
  {
   "cell_type": "code",
   "execution_count": 17,
   "id": "2410f8a4-8804-46d3-aae2-810a74bbd453",
   "metadata": {},
   "outputs": [],
   "source": []
  },
  {
   "cell_type": "code",
   "execution_count": 135,
   "id": "dfd4ba4b-5cbc-495a-8862-0bd9fc7ab5ad",
   "metadata": {},
   "outputs": [],
   "source": [
    "df_2017 = spark.sql(\"\"\" select * from demo.dw_nybike.bronze.trip_data_nybike where dw_period_tag='2014' \"\"\") "
   ]
  },
  {
   "cell_type": "code",
   "execution_count": 136,
   "id": "5438e295-d376-4929-ad3d-f0ca549965e8",
   "metadata": {},
   "outputs": [
    {
     "name": "stdout",
     "output_type": "stream",
     "text": [
      "+-------------+-------+----------------+--------------------+----------------------+-----------------------+--------------+--------------------+--------------------+---------------------+----------+------+-------------------+-------+-------------+--------+-------+-------------+\n",
      "|dw_period_tag|ride_id|start_station_id|  start_station_name|start_station_latitude|start_station_longitude|end_station_id|    end_station_name|end_station_latitude|end_station_longitude| user_type|gender|customer_year_birth|bike_id|rideable_type|start_at|stop_at|trip_duration|\n",
      "+-------------+-------+----------------+--------------------+----------------------+-----------------------+--------------+--------------------+--------------------+---------------------+----------+------+-------------------+-------+-------------+--------+-------+-------------+\n",
      "|         2014|   NULL|             479|     9 Ave & W 45 St|           40.76019252|            -73.9912551|           540|Lexington Ave & E...|         40.74147286|         -73.98320928|Subscriber|     1|             1977.0|  21376|         NULL|    NULL|   NULL|       1027.0|\n",
      "|         2014|   NULL|             417|Barclay St & Chur...|           40.71291224|           -74.01020234|           417|Barclay St & Chur...|         40.71291224|         -74.01020234|Subscriber|     2|             1974.0|  16086|         NULL|    NULL|   NULL|        534.0|\n",
      "|         2014|   NULL|             327|Vesey Pl & River ...|            40.7153379|           -74.01658354|           415|Pearl St & Hanove...|          40.7047177|         -74.00926027|Subscriber|     1|             1990.0|  16073|         NULL|    NULL|   NULL|        416.0|\n",
      "+-------------+-------+----------------+--------------------+----------------------+-----------------------+--------------+--------------------+--------------------+---------------------+----------+------+-------------------+-------+-------------+--------+-------+-------------+\n",
      "only showing top 3 rows\n",
      "\n"
     ]
    }
   ],
   "source": [
    "df_2017.show(3)"
   ]
  },
  {
   "cell_type": "code",
   "execution_count": 19,
   "id": "2d9cfd9a-2b6b-4b0d-ad01-e1c3752d5e4b",
   "metadata": {},
   "outputs": [],
   "source": [
    "types_df = df.dtypes"
   ]
  },
  {
   "cell_type": "code",
   "execution_count": 22,
   "id": "c7a2b598-bb24-4b50-94f8-85f5bb659029",
   "metadata": {},
   "outputs": [],
   "source": [
    "dict_types_df= dict(types_df)"
   ]
  },
  {
   "cell_type": "code",
   "execution_count": 23,
   "id": "ac3d2be0-3388-4696-93c1-729e9ed1ad27",
   "metadata": {},
   "outputs": [
    {
     "data": {
      "text/plain": [
       "{'dw_period_tag': 'string',\n",
       " 'ride_id': 'string',\n",
       " 'start_station_id': 'string',\n",
       " 'start_station_name': 'string',\n",
       " 'start_station_latitude': 'double',\n",
       " 'start_station_longitude': 'double',\n",
       " 'end_station_id': 'string',\n",
       " 'end_station_name': 'string',\n",
       " 'end_station_latitude': 'double',\n",
       " 'end_station_longitude': 'double',\n",
       " 'user_type': 'string',\n",
       " 'gender': 'string',\n",
       " 'customer_year_birth': 'string',\n",
       " 'bike_id': 'bigint',\n",
       " 'rideable_type': 'string',\n",
       " 'start_at': 'timestamp',\n",
       " 'stop_at': 'timestamp',\n",
       " 'trip_duration': 'double'}"
      ]
     },
     "execution_count": 23,
     "metadata": {},
     "output_type": "execute_result"
    }
   ],
   "source": [
    "dict_types_df"
   ]
  },
  {
   "cell_type": "code",
   "execution_count": 205,
   "id": "0f2dfe97-bc30-4003-97c2-32ba91f2ea31",
   "metadata": {},
   "outputs": [
    {
     "data": {
      "text/html": [
       "<table>\n",
       "    <thead>\n",
       "        <tr>\n",
       "        </tr>\n",
       "    </thead>\n",
       "    <tbody>\n",
       "    </tbody>\n",
       "</table>"
      ],
      "text/plain": [
       "++\n",
       "||\n",
       "++\n",
       "++"
      ]
     },
     "execution_count": 205,
     "metadata": {},
     "output_type": "execute_result"
    }
   ],
   "source": [
    "%%sql\n",
    "    \n",
    "CREATE TABLE dw_nybike.sylver.trip_data_nybike(\n",
    "    trip_uuid string,\n",
    "    dw_period_tag string,\n",
    "\tstart_station_id string,\n",
    "\tstart_station_name string,\n",
    "\tstart_station_latitude double,\n",
    "\tstart_station_longitude double,\n",
    "\tend_station_id string,\n",
    "\tend_station_name string,\n",
    "\tend_station_latitude double,\n",
    "\tend_station_longitude double,\n",
    "\tbike_id string,\n",
    "    customer_type string,\n",
    "    enr_gender string,\n",
    "\tcustomer_year_birth  string,\n",
    "\trideable_type string,\n",
    "\tstart_at timestamp,\n",
    "\tstop_at timestamp,\n",
    "\ttrip_duration double,\n",
    "    quarter int,\n",
    "    quarter_name string,\n",
    "    month int,\n",
    "    month_name string,\n",
    "    day int,\n",
    "    weekday int,\n",
    "    weekday_name string\n",
    "    )\n",
    "    PARTITIONED BY (dw_period_tag)\n",
    "    ;"
   ]
  },
  {
   "cell_type": "code",
   "execution_count": 206,
   "id": "3317747c-8444-44b7-ba37-35aeba45aaa6",
   "metadata": {},
   "outputs": [
    {
     "name": "stderr",
     "output_type": "stream",
     "text": [
      "                                                                                \r"
     ]
    },
    {
     "data": {
      "text/html": [
       "<table>\n",
       "    <thead>\n",
       "        <tr>\n",
       "            <th>trip_uuid</th>\n",
       "            <th>dw_period_tag</th>\n",
       "            <th>start_station_id</th>\n",
       "            <th>start_station_name</th>\n",
       "            <th>start_station_latitude</th>\n",
       "            <th>start_station_longitude</th>\n",
       "            <th>end_station_id</th>\n",
       "            <th>end_station_name</th>\n",
       "            <th>end_station_latitude</th>\n",
       "            <th>end_station_longitude</th>\n",
       "            <th>bike_id</th>\n",
       "            <th>customer_type</th>\n",
       "            <th>enr_gender</th>\n",
       "            <th>customer_year_birth</th>\n",
       "            <th>rideable_type</th>\n",
       "            <th>start_at</th>\n",
       "            <th>stop_at</th>\n",
       "            <th>trip_duration</th>\n",
       "            <th>quarter</th>\n",
       "            <th>quarter_name</th>\n",
       "            <th>month</th>\n",
       "            <th>month_name</th>\n",
       "            <th>day</th>\n",
       "            <th>weekday</th>\n",
       "            <th>weekday_name</th>\n",
       "        </tr>\n",
       "    </thead>\n",
       "    <tbody>\n",
       "        <tr>\n",
       "            <td>None</td>\n",
       "            <td>2013</td>\n",
       "            <td>254</td>\n",
       "            <td>W 11 St &amp; 6 Ave</td>\n",
       "            <td>40.73532427</td>\n",
       "            <td>-73.99800419</td>\n",
       "            <td>147</td>\n",
       "            <td>Greenwich St &amp; Warren St</td>\n",
       "            <td>40.71542197</td>\n",
       "            <td>-74.01121978</td>\n",
       "            <td>15014</td>\n",
       "            <td>Member</td>\n",
       "            <td>Male</td>\n",
       "            <td>1974</td>\n",
       "            <td>classic_bike</td>\n",
       "            <td>2013-09-01 00:00:02</td>\n",
       "            <td>2013-09-01 00:16:52</td>\n",
       "            <td>1010.0</td>\n",
       "            <td>3</td>\n",
       "            <td>2013Q3</td>\n",
       "            <td>9</td>\n",
       "            <td>September</td>\n",
       "            <td>1</td>\n",
       "            <td>1</td>\n",
       "            <td>Sunday</td>\n",
       "        </tr>\n",
       "        <tr>\n",
       "            <td>None</td>\n",
       "            <td>2013</td>\n",
       "            <td>151</td>\n",
       "            <td>Cleveland Pl &amp; Spring St</td>\n",
       "            <td>40.7218158</td>\n",
       "            <td>-73.99720307</td>\n",
       "            <td>497</td>\n",
       "            <td>E 17 St &amp; Broadway</td>\n",
       "            <td>40.73704984</td>\n",
       "            <td>-73.99009296</td>\n",
       "            <td>19393</td>\n",
       "            <td>Customer</td>\n",
       "            <td>Unknown</td>\n",
       "            <td>\\N</td>\n",
       "            <td>classic_bike</td>\n",
       "            <td>2013-09-01 00:00:09</td>\n",
       "            <td>2013-09-01 00:24:12</td>\n",
       "            <td>1443.0</td>\n",
       "            <td>3</td>\n",
       "            <td>2013Q3</td>\n",
       "            <td>9</td>\n",
       "            <td>September</td>\n",
       "            <td>1</td>\n",
       "            <td>1</td>\n",
       "            <td>Sunday</td>\n",
       "        </tr>\n",
       "        <tr>\n",
       "            <td>None</td>\n",
       "            <td>2013</td>\n",
       "            <td>352</td>\n",
       "            <td>W 56 St &amp; 6 Ave</td>\n",
       "            <td>40.76340613</td>\n",
       "            <td>-73.97722479</td>\n",
       "            <td>405</td>\n",
       "            <td>Washington St &amp; Gansevoort St</td>\n",
       "            <td>40.739323</td>\n",
       "            <td>-74.008119</td>\n",
       "            <td>16160</td>\n",
       "            <td>Member</td>\n",
       "            <td>Male</td>\n",
       "            <td>1992</td>\n",
       "            <td>classic_bike</td>\n",
       "            <td>2013-09-01 00:00:16</td>\n",
       "            <td>2013-09-01 00:23:23</td>\n",
       "            <td>1387.0</td>\n",
       "            <td>3</td>\n",
       "            <td>2013Q3</td>\n",
       "            <td>9</td>\n",
       "            <td>September</td>\n",
       "            <td>1</td>\n",
       "            <td>1</td>\n",
       "            <td>Sunday</td>\n",
       "        </tr>\n",
       "        <tr>\n",
       "            <td>None</td>\n",
       "            <td>2013</td>\n",
       "            <td>490</td>\n",
       "            <td>8 Ave &amp; W 33 St</td>\n",
       "            <td>40.751551</td>\n",
       "            <td>-73.993934</td>\n",
       "            <td>459</td>\n",
       "            <td>W 20 St &amp; 11 Ave</td>\n",
       "            <td>40.746745</td>\n",
       "            <td>-74.007756</td>\n",
       "            <td>14997</td>\n",
       "            <td>Member</td>\n",
       "            <td>Male</td>\n",
       "            <td>1973</td>\n",
       "            <td>classic_bike</td>\n",
       "            <td>2013-09-01 00:00:18</td>\n",
       "            <td>2013-09-01 00:07:03</td>\n",
       "            <td>405.0</td>\n",
       "            <td>3</td>\n",
       "            <td>2013Q3</td>\n",
       "            <td>9</td>\n",
       "            <td>September</td>\n",
       "            <td>1</td>\n",
       "            <td>1</td>\n",
       "            <td>Sunday</td>\n",
       "        </tr>\n",
       "        <tr>\n",
       "            <td>None</td>\n",
       "            <td>2013</td>\n",
       "            <td>236</td>\n",
       "            <td>St Marks Pl &amp; 2 Ave</td>\n",
       "            <td>40.7284186</td>\n",
       "            <td>-73.98713956</td>\n",
       "            <td>393</td>\n",
       "            <td>E 5 St &amp; Avenue C</td>\n",
       "            <td>40.72299208</td>\n",
       "            <td>-73.97995466</td>\n",
       "            <td>19609</td>\n",
       "            <td>Member</td>\n",
       "            <td>Male</td>\n",
       "            <td>1984</td>\n",
       "            <td>classic_bike</td>\n",
       "            <td>2013-09-01 00:00:20</td>\n",
       "            <td>2013-09-01 00:04:50</td>\n",
       "            <td>270.0</td>\n",
       "            <td>3</td>\n",
       "            <td>2013Q3</td>\n",
       "            <td>9</td>\n",
       "            <td>September</td>\n",
       "            <td>1</td>\n",
       "            <td>1</td>\n",
       "            <td>Sunday</td>\n",
       "        </tr>\n",
       "    </tbody>\n",
       "</table>"
      ],
      "text/plain": [
       "+-----------+---------------+------------------+--------------------------+------------------------+-------------------------+----------------+-------------------------------+----------------------+-----------------------+---------+---------------+------------+---------------------+---------------+---------------------+---------------------+---------------+---------+--------------+-------+------------+-----+---------+--------------+\n",
       "| trip_uuid | dw_period_tag | start_station_id |       start_station_name | start_station_latitude | start_station_longitude | end_station_id |              end_station_name | end_station_latitude | end_station_longitude | bike_id | customer_type | enr_gender | customer_year_birth | rideable_type |            start_at |             stop_at | trip_duration | quarter | quarter_name | month | month_name | day | weekday | weekday_name |\n",
       "+-----------+---------------+------------------+--------------------------+------------------------+-------------------------+----------------+-------------------------------+----------------------+-----------------------+---------+---------------+------------+---------------------+---------------+---------------------+---------------------+---------------+---------+--------------+-------+------------+-----+---------+--------------+\n",
       "|      None |          2013 |              254 |          W 11 St & 6 Ave |            40.73532427 |            -73.99800419 |            147 |      Greenwich St & Warren St |          40.71542197 |          -74.01121978 |   15014 |        Member |       Male |                1974 |  classic_bike | 2013-09-01 00:00:02 | 2013-09-01 00:16:52 |        1010.0 |       3 |       2013Q3 |     9 |  September |   1 |       1 |       Sunday |\n",
       "|      None |          2013 |              151 | Cleveland Pl & Spring St |             40.7218158 |            -73.99720307 |            497 |            E 17 St & Broadway |          40.73704984 |          -73.99009296 |   19393 |      Customer |    Unknown |                  \\N |  classic_bike | 2013-09-01 00:00:09 | 2013-09-01 00:24:12 |        1443.0 |       3 |       2013Q3 |     9 |  September |   1 |       1 |       Sunday |\n",
       "|      None |          2013 |              352 |          W 56 St & 6 Ave |            40.76340613 |            -73.97722479 |            405 | Washington St & Gansevoort St |            40.739323 |            -74.008119 |   16160 |        Member |       Male |                1992 |  classic_bike | 2013-09-01 00:00:16 | 2013-09-01 00:23:23 |        1387.0 |       3 |       2013Q3 |     9 |  September |   1 |       1 |       Sunday |\n",
       "|      None |          2013 |              490 |          8 Ave & W 33 St |              40.751551 |              -73.993934 |            459 |              W 20 St & 11 Ave |            40.746745 |            -74.007756 |   14997 |        Member |       Male |                1973 |  classic_bike | 2013-09-01 00:00:18 | 2013-09-01 00:07:03 |         405.0 |       3 |       2013Q3 |     9 |  September |   1 |       1 |       Sunday |\n",
       "|      None |          2013 |              236 |      St Marks Pl & 2 Ave |             40.7284186 |            -73.98713956 |            393 |             E 5 St & Avenue C |          40.72299208 |          -73.97995466 |   19609 |        Member |       Male |                1984 |  classic_bike | 2013-09-01 00:00:20 | 2013-09-01 00:04:50 |         270.0 |       3 |       2013Q3 |     9 |  September |   1 |       1 |       Sunday |\n",
       "+-----------+---------------+------------------+--------------------------+------------------------+-------------------------+----------------+-------------------------------+----------------------+-----------------------+---------+---------------+------------+---------------------+---------------+---------------------+---------------------+---------------+---------+--------------+-------+------------+-----+---------+--------------+"
      ]
     },
     "execution_count": 206,
     "metadata": {},
     "output_type": "execute_result"
    }
   ],
   "source": [
    "%%sql \n",
    "select \n",
    "     count(*)\n",
    "from  dw_nybike.sylver.trip_data_nybike\n",
    "limit 5;"
   ]
  },
  {
   "cell_type": "code",
   "execution_count": 23,
   "id": "758a6ab2-3eb3-48a0-85ad-0fd40c3e4f45",
   "metadata": {},
   "outputs": [
    {
     "name": "stderr",
     "output_type": "stream",
     "text": [
      "                                                                                \r"
     ]
    }
   ],
   "source": [
    "df2013.write.mode('overwrite').saveAsTable('NEWYORKCITYBIKE.bike2013')\n",
    "df2023.write.mode('overwrite').saveAsTable('NEWYORKCITYBIKE.bike2023')"
   ]
  },
  {
   "cell_type": "code",
   "execution_count": 14,
   "id": "f0b2d27b-805c-4dd4-8e71-51610317e265",
   "metadata": {},
   "outputs": [
    {
     "data": {
      "text/html": [
       "<table>\n",
       "    <thead>\n",
       "        <tr>\n",
       "            <th>count(1)</th>\n",
       "        </tr>\n",
       "    </thead>\n",
       "    <tbody>\n",
       "        <tr>\n",
       "            <td>7093596</td>\n",
       "        </tr>\n",
       "    </tbody>\n",
       "</table>"
      ],
      "text/plain": [
       "+----------+\n",
       "| count(1) |\n",
       "+----------+\n",
       "|  7093596 |\n",
       "+----------+"
      ]
     },
     "execution_count": 14,
     "metadata": {},
     "output_type": "execute_result"
    }
   ],
   "source": [
    "%%sql\n",
    "-- use PRODUCTION_NEWYORKCITYBIKE;\n",
    "    select  count(*)   from PRODUCTION_NEWYORKCITYBIKE.FACT_NYBIKE limit 50\n"
   ]
  },
  {
   "cell_type": "code",
   "execution_count": 2,
   "id": "d924d02d-91af-4a56-9ad9-c13f37887181",
   "metadata": {},
   "outputs": [
    {
     "data": {
      "text/html": [
       "<table>\n",
       "    <thead>\n",
       "        <tr>\n",
       "            <th>namespace</th>\n",
       "            <th>tableName</th>\n",
       "            <th>isTemporary</th>\n",
       "        </tr>\n",
       "    </thead>\n",
       "    <tbody>\n",
       "        <tr>\n",
       "            <td>STAGE_NEWYORKCITYBIKE</td>\n",
       "            <td>DIM_DATE_NYBIKE</td>\n",
       "            <td>False</td>\n",
       "        </tr>\n",
       "        <tr>\n",
       "            <td>STAGE_NEWYORKCITYBIKE</td>\n",
       "            <td>DIM_STATION_NYBIKE</td>\n",
       "            <td>False</td>\n",
       "        </tr>\n",
       "        <tr>\n",
       "            <td>STAGE_NEWYORKCITYBIKE</td>\n",
       "            <td>FACT_NYBIKE</td>\n",
       "            <td>False</td>\n",
       "        </tr>\n",
       "        <tr>\n",
       "            <td>STAGE_NEWYORKCITYBIKE</td>\n",
       "            <td>student</td>\n",
       "            <td>False</td>\n",
       "        </tr>\n",
       "    </tbody>\n",
       "</table>"
      ],
      "text/plain": [
       "+-----------------------+--------------------+-------------+\n",
       "|             namespace |          tableName | isTemporary |\n",
       "+-----------------------+--------------------+-------------+\n",
       "| STAGE_NEWYORKCITYBIKE |    DIM_DATE_NYBIKE |       False |\n",
       "| STAGE_NEWYORKCITYBIKE | DIM_STATION_NYBIKE |       False |\n",
       "| STAGE_NEWYORKCITYBIKE |        FACT_NYBIKE |       False |\n",
       "| STAGE_NEWYORKCITYBIKE |            student |       False |\n",
       "+-----------------------+--------------------+-------------+"
      ]
     },
     "execution_count": 2,
     "metadata": {},
     "output_type": "execute_result"
    }
   ],
   "source": [
    "%%sql\n",
    "show tables in STAGE_NEWYORKCITYBIKE"
   ]
  },
  {
   "cell_type": "raw",
   "id": "ed0dbde6-dc2d-4b36-9b3b-c8b2d4d48886",
   "metadata": {},
   "source": [
    "Production and stage data model"
   ]
  },
  {
   "cell_type": "code",
   "execution_count": null,
   "id": "c37a9931-3d62-4e4e-9590-43a0428f73cd",
   "metadata": {},
   "outputs": [],
   "source": [
    "%%sql \n",
    "\n",
    "CREATE TABLE IF NOT EXISTS PRODUCTION_NEWYORKCITYBIKE.DIM_DATE_NYBIKE (\n",
    "    DATE_ID int,\n",
    "    YEAR int,\n",
    "    QUARTER int,\n",
    "    QUATERNAME string,\n",
    "    MONTH int,\n",
    "    MONTHNAME string,\n",
    "    DAY int,\n",
    "    WEEKDAY int,\n",
    "    WEEKDAYNAME string,\n",
    "    START_AT timestamp,\n",
    "    STOP_AT timestamp\n",
    "    ) \n",
    "    PARTITIONED BY (month(START_AT)) \n",
    "    USING iceberg;\n",
    "\n",
    "CREATE TABLE IF NOT EXISTS PRODUCTION_NEWYORKCITYBIKE.DIM_STATION_NYBIKE(\n",
    "    TRIP_ID string,\n",
    "    START_STATION_NAME string,\n",
    "    START_STATION_ID int,\n",
    "    START_STATION_LATITUDE double,\n",
    "    START_STATION_LONGITUDE double,\n",
    "    END_STATION_ID int,\n",
    "    END_STATION_LATITUDE  double,\n",
    "    END_STATION_LONGITUDE double,\n",
    "    END_STATION_NAME string,\n",
    "    END_STATION_ID int,\n",
    "    -- START_NEIGHBORHOOD string,\n",
    "    -- END_NEIGHBORHOOD string,\n",
    "    TIME timestamp\n",
    "    ) \n",
    "    PARTITIONED BY ((month(TIME)) \n",
    "    USING iceberg;\n",
    "    \n",
    "CREATE TABLE IF NOT EXISTS PRODUCTION_NEWYORKCITYBIKE.FACT_NYBIKE(\n",
    "    TRIP_ID string,\n",
    "    RIDEABLE_TYPE string,\n",
    "    CUSTOMER_TYPE string,\n",
    "    CUSTOMER_GENDER string,\n",
    "    CUSTOMER_YEAR_BIRTH int,\n",
    "    TRIP_DURATION int,\n",
    "    TIME timestamp\n",
    "    )\n",
    "    USING iceberg\n",
    "    PARTITIONED BY (month(TIME));"
   ]
  },
  {
   "cell_type": "code",
   "execution_count": null,
   "id": "0a75b107-e1c8-4cbd-91bc-65b0eea8a216",
   "metadata": {},
   "outputs": [],
   "source": []
  },
  {
   "cell_type": "raw",
   "id": "4a9bf187-0487-4a56-875e-6dcb59f377d5",
   "metadata": {},
   "source": [
    "list of standard column :\n",
    "TRIP_DURATION\n",
    "START_AT\n",
    "STOP_AT\n",
    "START_STATION_ID\n",
    "START_STATION_NAME\n",
    "START_STATION_LATITUDE\n",
    "START_STATION_LONGITUDE\n",
    "END_STATION_ID\n",
    "END_STATION_NAME\n",
    "END_STATION_LATITUDE\n",
    "END_STATION_LONGITUDE\n",
    "CUSTOMER_TYPE\n",
    "BIRTH_YEAR\n",
    "RIDEABLE_TYPE\n",
    "GENDER"
   ]
  },
  {
   "cell_type": "code",
   "execution_count": 208,
   "id": "8650f536-fa43-4da3-b3d9-6f363e75ceeb",
   "metadata": {},
   "outputs": [
    {
     "name": "stdout",
     "output_type": "stream",
     "text": [
      "+-----------------------------------------------------------------------------+\n",
      "|java_method(java.util.UUID, fromString, a5cf6c42-0c85-418f-af6c-3e4e5b1328f2)|\n",
      "+-----------------------------------------------------------------------------+\n",
      "|a5cf6c42-0c85-418f-af6c-3e4e5b1328f2                                         |\n",
      "+-----------------------------------------------------------------------------+\n",
      "\n"
     ]
    }
   ],
   "source": [
    "import pyspark.sql.functions as sf\n",
    "spark.range(1).select(\n",
    "    sf.java_method(\n",
    "        sf.lit(\"java.util.UUID\"),\n",
    "        sf.lit(\"fromString\"),\n",
    "        sf.lit(\"a5cf6c42-0c85-418f-af6c-3e4e5b1328f2\")\n",
    "    )\n",
    ").show(truncate=False)"
   ]
  },
  {
   "cell_type": "code",
   "execution_count": 214,
   "id": "4aac9541-5892-4ba3-a267-93b85cddd7d2",
   "metadata": {},
   "outputs": [
    {
     "ename": "ImportError",
     "evalue": "cannot import name 'uuid' from 'pyspark.sql.functions' (/opt/spark/python/pyspark/sql/functions.py)",
     "output_type": "error",
     "traceback": [
      "\u001b[0;31m---------------------------------------------------------------------------\u001b[0m",
      "\u001b[0;31mImportError\u001b[0m                               Traceback (most recent call last)",
      "Cell \u001b[0;32mIn[214], line 1\u001b[0m\n\u001b[0;32m----> 1\u001b[0m \u001b[38;5;28;01mfrom\u001b[39;00m \u001b[38;5;21;01mpyspark\u001b[39;00m\u001b[38;5;21;01m.\u001b[39;00m\u001b[38;5;21;01msql\u001b[39;00m\u001b[38;5;21;01m.\u001b[39;00m\u001b[38;5;21;01mfunctions\u001b[39;00m \u001b[38;5;28;01mimport\u001b[39;00m uuid\n\u001b[1;32m      2\u001b[0m df_2013\u001b[38;5;241m.\u001b[39mwithColumn(\u001b[38;5;124m\"\u001b[39m\u001b[38;5;124muuid\u001b[39m\u001b[38;5;124m\"\u001b[39m,uuid())\u001b[38;5;241m.\u001b[39mshow(\u001b[38;5;241m5\u001b[39m)\n",
      "\u001b[0;31mImportError\u001b[0m: cannot import name 'uuid' from 'pyspark.sql.functions' (/opt/spark/python/pyspark/sql/functions.py)"
     ]
    }
   ],
   "source": [
    "from pyspark.sql.functions import uuid\n",
    "\n",
    "df_2013.withColumn(\"uuid\",uuid()).show(5)"
   ]
  },
  {
   "cell_type": "code",
   "execution_count": 56,
   "id": "111b5c07-6bfa-4fd6-b029-745e236a0f18",
   "metadata": {},
   "outputs": [
    {
     "name": "stdout",
     "output_type": "stream",
     "text": [
      "-RECORD 0--------------------------------------\n",
      " tripduration            | 695                 \n",
      " starttime               | 2013-06-01 00:00:01 \n",
      " stoptime                | 2013-06-01 00:11:36 \n",
      " start station id        | 444                 \n",
      " start station name      | Broadway & W 24 St  \n",
      " start station latitude  | 40.7423543          \n",
      " start station longitude | -73.98915076        \n",
      " end station id          | 434.0               \n",
      " end station name        | 9 Ave & W 18 St     \n",
      " end station latitude    | 40.74317449         \n",
      " end station longitude   | -74.00366443        \n",
      " bikeid                  | 19678               \n",
      " usertype                | Subscriber          \n",
      " birth year              | 1983.0              \n",
      " gender                  | 1                   \n",
      " RIDEBLE_TYPE            | classic_bike        \n",
      "-RECORD 1--------------------------------------\n",
      " tripduration            | 693                 \n",
      " starttime               | 2013-06-01 00:00:08 \n",
      " stoptime                | 2013-06-01 00:11:41 \n",
      " start station id        | 444                 \n",
      " start station name      | Broadway & W 24 St  \n",
      " start station latitude  | 40.7423543          \n",
      " start station longitude | -73.98915076        \n",
      " end station id          | 434.0               \n",
      " end station name        | 9 Ave & W 18 St     \n",
      " end station latitude    | 40.74317449         \n",
      " end station longitude   | -74.00366443        \n",
      " bikeid                  | 16649               \n",
      " usertype                | Subscriber          \n",
      " birth year              | 1984.0              \n",
      " gender                  | 1                   \n",
      " RIDEBLE_TYPE            | classic_bike        \n",
      "only showing top 2 rows\n",
      "\n"
     ]
    }
   ],
   "source": [
    "df2013.show(n=2,vertical=True)"
   ]
  },
  {
   "cell_type": "markdown",
   "id": "b2aac461-af88-41b2-ac8d-b80609c06f4f",
   "metadata": {},
   "source": [
    "df2023.write.mode('overwrite').saveAsTable('NEWYORKCITYBIKE.bike2023')\n",
    "df2013.write.mode('overwrite').saveAsTable('NEWYORKCITYBIKE.bike2013')"
   ]
  },
  {
   "cell_type": "code",
   "execution_count": 55,
   "id": "ca997fd6-d621-4c34-87f7-1ca04c84baed",
   "metadata": {},
   "outputs": [],
   "source": [
    "from pyspark.sql.functions import col,lit\n",
    "df2013 = df2013.withColumn('RIDEBLE_TYPE',lit('classic_bike'))"
   ]
  },
  {
   "cell_type": "code",
   "execution_count": 58,
   "id": "abebc4f7-2f5f-4cdf-b8d8-c07071fcaf86",
   "metadata": {},
   "outputs": [
    {
     "data": {
      "text/plain": [
       "DataFrame[tripduration: int, starttime: timestamp, stoptime: timestamp, start station id: int, start station name: string, start station latitude: double, start station longitude: double, end station id: double, end station name: string, end station latitude: double, end station longitude: double, bikeid: int, usertype: string, birth year: double, gender: int, RIDEBLE_TYPE: string]"
      ]
     },
     "execution_count": 58,
     "metadata": {},
     "output_type": "execute_result"
    }
   ],
   "source": [
    "df2013.withColumnsRenamed({'RIDEBLE_TYPE':'RIDEBLE_TYPE'})"
   ]
  },
  {
   "cell_type": "code",
   "execution_count": 19,
   "id": "08536749-c1ab-4040-a909-cf281b9d1d45",
   "metadata": {},
   "outputs": [
    {
     "data": {
      "text/html": [
       "<table>\n",
       "    <thead>\n",
       "        <tr>\n",
       "            <th>TRIP_DURATION</th>\n",
       "            <th>START_AT</th>\n",
       "            <th>STOP_AT</th>\n",
       "            <th>START_STATION_ID</th>\n",
       "            <th>START_STATION_NAME</th>\n",
       "            <th>START_STATION_LATITUDE</th>\n",
       "            <th>START_STATION_LONGITUDE</th>\n",
       "            <th>END_STATION_ID</th>\n",
       "            <th>END_STATION_NAME</th>\n",
       "            <th>END_STATION_LATITUDE</th>\n",
       "            <th>END_STATION_LONGITUDE</th>\n",
       "            <th>BIKE_ID</th>\n",
       "            <th>USER_TYPE</th>\n",
       "            <th>BIRTH_YEAR</th>\n",
       "            <th>GENDER</th>\n",
       "            <th>RIDABLE_TYPE</th>\n",
       "        </tr>\n",
       "    </thead>\n",
       "    <tbody>\n",
       "        <tr>\n",
       "            <td>326</td>\n",
       "            <td>2013-10-01 00:01:08</td>\n",
       "            <td>2013-10-01 00:06:34</td>\n",
       "            <td>239</td>\n",
       "            <td>Willoughby St &amp; Fleet St</td>\n",
       "            <td>40.69196566</td>\n",
       "            <td>-73.9813018</td>\n",
       "            <td>366.0</td>\n",
       "            <td>Clinton Ave &amp; Myrtle Ave</td>\n",
       "            <td>40.693261</td>\n",
       "            <td>-73.968896</td>\n",
       "            <td>16052</td>\n",
       "            <td>Subscriber</td>\n",
       "            <td>1982</td>\n",
       "            <td>Male</td>\n",
       "            <td>classe_bike</td>\n",
       "        </tr>\n",
       "        <tr>\n",
       "            <td>729</td>\n",
       "            <td>2013-10-01 00:01:21</td>\n",
       "            <td>2013-10-01 00:13:30</td>\n",
       "            <td>322</td>\n",
       "            <td>Clinton St &amp; Tillary St</td>\n",
       "            <td>40.696192</td>\n",
       "            <td>-73.991218</td>\n",
       "            <td>398.0</td>\n",
       "            <td>Atlantic Ave &amp; Furman St</td>\n",
       "            <td>40.69165183</td>\n",
       "            <td>-73.9999786</td>\n",
       "            <td>19412</td>\n",
       "            <td>Customer</td>\n",
       "            <td>\\N</td>\n",
       "            <td>Unknown</td>\n",
       "            <td>classe_bike</td>\n",
       "        </tr>\n",
       "        <tr>\n",
       "            <td>520</td>\n",
       "            <td>2013-10-01 00:01:24</td>\n",
       "            <td>2013-10-01 00:10:04</td>\n",
       "            <td>174</td>\n",
       "            <td>E 25 St &amp; 1 Ave</td>\n",
       "            <td>40.7381765</td>\n",
       "            <td>-73.97738662</td>\n",
       "            <td>403.0</td>\n",
       "            <td>E 2 St &amp; 2 Ave</td>\n",
       "            <td>40.72502876</td>\n",
       "            <td>-73.99069656</td>\n",
       "            <td>19645</td>\n",
       "            <td>Subscriber</td>\n",
       "            <td>1984</td>\n",
       "            <td>Male</td>\n",
       "            <td>classe_bike</td>\n",
       "        </tr>\n",
       "        <tr>\n",
       "            <td>281</td>\n",
       "            <td>2013-10-01 00:01:25</td>\n",
       "            <td>2013-10-01 00:06:06</td>\n",
       "            <td>430</td>\n",
       "            <td>York St &amp; Jay St</td>\n",
       "            <td>40.7014851</td>\n",
       "            <td>-73.98656928</td>\n",
       "            <td>323.0</td>\n",
       "            <td>Lawrence St &amp; Willoughby St</td>\n",
       "            <td>40.69236178</td>\n",
       "            <td>-73.98631746</td>\n",
       "            <td>16992</td>\n",
       "            <td>Subscriber</td>\n",
       "            <td>1985</td>\n",
       "            <td>Male</td>\n",
       "            <td>classe_bike</td>\n",
       "        </tr>\n",
       "        <tr>\n",
       "            <td>196</td>\n",
       "            <td>2013-10-01 00:01:27</td>\n",
       "            <td>2013-10-01 00:04:43</td>\n",
       "            <td>403</td>\n",
       "            <td>E 2 St &amp; 2 Ave</td>\n",
       "            <td>40.72502876</td>\n",
       "            <td>-73.99069656</td>\n",
       "            <td>401.0</td>\n",
       "            <td>Allen St &amp; Rivington St</td>\n",
       "            <td>40.72019576</td>\n",
       "            <td>-73.98997825</td>\n",
       "            <td>15690</td>\n",
       "            <td>Subscriber</td>\n",
       "            <td>1986</td>\n",
       "            <td>Male</td>\n",
       "            <td>classe_bike</td>\n",
       "        </tr>\n",
       "    </tbody>\n",
       "</table>"
      ],
      "text/plain": [
       "+---------------+---------------------+---------------------+------------------+--------------------------+------------------------+-------------------------+----------------+-----------------------------+----------------------+-----------------------+---------+------------+------------+---------+--------------+\n",
       "| TRIP_DURATION |            START_AT |             STOP_AT | START_STATION_ID |       START_STATION_NAME | START_STATION_LATITUDE | START_STATION_LONGITUDE | END_STATION_ID |            END_STATION_NAME | END_STATION_LATITUDE | END_STATION_LONGITUDE | BIKE_ID |  USER_TYPE | BIRTH_YEAR |  GENDER | RIDABLE_TYPE |\n",
       "+---------------+---------------------+---------------------+------------------+--------------------------+------------------------+-------------------------+----------------+-----------------------------+----------------------+-----------------------+---------+------------+------------+---------+--------------+\n",
       "|           326 | 2013-10-01 00:01:08 | 2013-10-01 00:06:34 |              239 | Willoughby St & Fleet St |            40.69196566 |             -73.9813018 |          366.0 |    Clinton Ave & Myrtle Ave |            40.693261 |            -73.968896 |   16052 | Subscriber |       1982 |    Male |  classe_bike |\n",
       "|           729 | 2013-10-01 00:01:21 | 2013-10-01 00:13:30 |              322 |  Clinton St & Tillary St |              40.696192 |              -73.991218 |          398.0 |    Atlantic Ave & Furman St |          40.69165183 |           -73.9999786 |   19412 |   Customer |         \\N | Unknown |  classe_bike |\n",
       "|           520 | 2013-10-01 00:01:24 | 2013-10-01 00:10:04 |              174 |          E 25 St & 1 Ave |             40.7381765 |            -73.97738662 |          403.0 |              E 2 St & 2 Ave |          40.72502876 |          -73.99069656 |   19645 | Subscriber |       1984 |    Male |  classe_bike |\n",
       "|           281 | 2013-10-01 00:01:25 | 2013-10-01 00:06:06 |              430 |         York St & Jay St |             40.7014851 |            -73.98656928 |          323.0 | Lawrence St & Willoughby St |          40.69236178 |          -73.98631746 |   16992 | Subscriber |       1985 |    Male |  classe_bike |\n",
       "|           196 | 2013-10-01 00:01:27 | 2013-10-01 00:04:43 |              403 |           E 2 St & 2 Ave |            40.72502876 |            -73.99069656 |          401.0 |     Allen St & Rivington St |          40.72019576 |          -73.98997825 |   15690 | Subscriber |       1986 |    Male |  classe_bike |\n",
       "+---------------+---------------------+---------------------+------------------+--------------------------+------------------------+-------------------------+----------------+-----------------------------+----------------------+-----------------------+---------+------------+------------+---------+--------------+"
      ]
     },
     "execution_count": 19,
     "metadata": {},
     "output_type": "execute_result"
    }
   ],
   "source": [
    "%%sql \n",
    "\n",
    "select * from STAGE_NEWYORKCITYBIKE.BigTable\n",
    "limit 5"
   ]
  },
  {
   "cell_type": "code",
   "execution_count": 15,
   "id": "ba3c6534-a570-4a42-8a4c-f3ae856ceb77",
   "metadata": {},
   "outputs": [
    {
     "data": {
      "text/html": [
       "<table>\n",
       "    <thead>\n",
       "        <tr>\n",
       "        </tr>\n",
       "    </thead>\n",
       "    <tbody>\n",
       "    </tbody>\n",
       "</table>"
      ],
      "text/plain": [
       "++\n",
       "||\n",
       "++\n",
       "++"
      ]
     },
     "execution_count": 15,
     "metadata": {},
     "output_type": "execute_result"
    }
   ],
   "source": [
    "%%sql \n",
    "drop table STAGE_NEWYORKCITYBIKE.BigTable"
   ]
  },
  {
   "cell_type": "code",
   "execution_count": 35,
   "id": "367c4a4c-e5fc-4eca-a20a-a31332657845",
   "metadata": {},
   "outputs": [
    {
     "name": "stdout",
     "output_type": "stream",
     "text": [
      "root\n",
      " |-- ride_id: string (nullable = true)\n",
      " |-- rideable_type: string (nullable = true)\n",
      " |-- started_at: timestamp (nullable = true)\n",
      " |-- ended_at: timestamp (nullable = true)\n",
      " |-- start_station_name: string (nullable = true)\n",
      " |-- start_station_id: string (nullable = true)\n",
      " |-- end_station_name: string (nullable = true)\n",
      " |-- end_station_id: string (nullable = true)\n",
      " |-- start_lat: double (nullable = true)\n",
      " |-- start_lng: double (nullable = true)\n",
      " |-- end_lat: double (nullable = true)\n",
      " |-- end_lng: double (nullable = true)\n",
      " |-- member_casual: string (nullable = true)\n",
      "\n"
     ]
    }
   ],
   "source": [
    "df2023.printSchema()"
   ]
  },
  {
   "cell_type": "code",
   "execution_count": 24,
   "id": "2be36664-6330-42e4-bc84-ee7111318c16",
   "metadata": {},
   "outputs": [
    {
     "name": "stdout",
     "output_type": "stream",
     "text": [
      "root\n",
      " |-- tripduration: integer (nullable = true)\n",
      " |-- starttime: timestamp (nullable = true)\n",
      " |-- stoptime: timestamp (nullable = true)\n",
      " |-- start station id: integer (nullable = true)\n",
      " |-- start station name: string (nullable = true)\n",
      " |-- start station latitude: double (nullable = true)\n",
      " |-- start station longitude: double (nullable = true)\n",
      " |-- end station id: string (nullable = true)\n",
      " |-- end station name: string (nullable = true)\n",
      " |-- end station latitude: string (nullable = true)\n",
      " |-- end station longitude: string (nullable = true)\n",
      " |-- bikeid: integer (nullable = true)\n",
      " |-- usertype: string (nullable = true)\n",
      " |-- birth year: string (nullable = true)\n",
      " |-- gender: integer (nullable = true)\n",
      "\n"
     ]
    }
   ],
   "source": [
    "df2013.printSchema()"
   ]
  },
  {
   "cell_type": "code",
   "execution_count": 25,
   "id": "cc5d0254-099b-4974-ab30-6c0732114671",
   "metadata": {},
   "outputs": [
    {
     "name": "stderr",
     "output_type": "stream",
     "text": [
      "                                                                                \r"
     ]
    },
    {
     "name": "stdout",
     "output_type": "stream",
     "text": [
      "+----------+--------+-----+\n",
      "|started_at|ended_at|count|\n",
      "+----------+--------+-----+\n",
      "+----------+--------+-----+\n",
      "\n"
     ]
    }
   ],
   "source": [
    "df2023.groupBy(\"started_at\",\"ended_at\").count().filter(\"count > 1\").show()"
   ]
  },
  {
   "cell_type": "code",
   "execution_count": 43,
   "id": "7ca58822-c154-41c2-9643-141e7a0bc2b3",
   "metadata": {},
   "outputs": [
    {
     "name": "stdout",
     "output_type": "stream",
     "text": [
      "-RECORD 0--------------------------------------\n",
      " tripduration            | 695                 \n",
      " starttime               | 2013-06-01 00:00:01 \n",
      " stoptime                | 2013-06-01 00:11:36 \n",
      " start station id        | 444                 \n",
      " start station name      | Broadway & W 24 St  \n",
      " start station latitude  | 40.7423543          \n",
      " start station longitude | -73.98915076        \n",
      " end station id          | 434                 \n",
      " end station name        | 9 Ave & W 18 St     \n",
      " end station latitude    | 40.74317449         \n",
      " end station longitude   | -74.00366443        \n",
      " bikeid                  | 19678               \n",
      " usertype                | Subscriber          \n",
      " birth year              | 1983                \n",
      " gender                  | 1                   \n",
      " genre                   | Male                \n",
      "-RECORD 1--------------------------------------\n",
      " tripduration            | 693                 \n",
      " starttime               | 2013-06-01 00:00:08 \n",
      " stoptime                | 2013-06-01 00:11:41 \n",
      " start station id        | 444                 \n",
      " start station name      | Broadway & W 24 St  \n",
      " start station latitude  | 40.7423543          \n",
      " start station longitude | -73.98915076        \n",
      " end station id          | 434                 \n",
      " end station name        | 9 Ave & W 18 St     \n",
      " end station latitude    | 40.74317449         \n",
      " end station longitude   | -74.00366443        \n",
      " bikeid                  | 16649               \n",
      " usertype                | Subscriber          \n",
      " birth year              | 1984                \n",
      " gender                  | 1                   \n",
      " genre                   | Male                \n",
      "only showing top 2 rows\n",
      "\n"
     ]
    }
   ],
   "source": [
    "# list of transformations\n",
    "from pyspark.sql.functions import col, when\n",
    "df2013.withColumn(\"genre\",when(col('gender') == 1,\"Male\").when(col('gender') == 2,'Female').otherwise('Unknown')).show(n=2,vertical=True)"
   ]
  },
  {
   "cell_type": "code",
   "execution_count": 52,
   "id": "ee305400-3a89-4226-9eea-23c365cfb31c",
   "metadata": {},
   "outputs": [],
   "source": [
    "from pyspark.sql.functions import datediff\n",
    "df2023 = df2023.withColumn('trip_duration', datediff (df2023.ended_at , df2023.started_at))"
   ]
  },
  {
   "cell_type": "code",
   "execution_count": 59,
   "id": "9608d0e8-7161-4cb5-9d8b-72c28427f3d0",
   "metadata": {},
   "outputs": [
    {
     "name": "stdout",
     "output_type": "stream",
     "text": [
      "-RECORD 0----------------------------------\n",
      " ride_id            | DC1CB984821DFFF7     \n",
      " rideable_type      | classic_bike         \n",
      " started_at         | 2023-01-07 15:36:... \n",
      " ended_at           | 2023-01-07 15:39:... \n",
      " start_station_name | Vesey St & Church St \n",
      " start_station_id   | 5216.06              \n",
      " end_station_name   | Albany St & Green... \n",
      " end_station_id     | 5145.02              \n",
      " start_lat          | 40.71221958009051    \n",
      " start_lng          | -74.01047229766846   \n",
      " end_lat            | 40.709267            \n",
      " end_lng            | -74.013247           \n",
      " member_casual      | member               \n",
      "-RECORD 1----------------------------------\n",
      " ride_id            | C00CA02971557F16     \n",
      " rideable_type      | classic_bike         \n",
      " started_at         | 2023-01-04 19:23:... \n",
      " ended_at           | 2023-01-04 19:34:... \n",
      " start_station_name | Lispenard St & Br... \n",
      " start_station_id   | 5391.06              \n",
      " end_station_name   | St Marks Pl & 1 Ave  \n",
      " end_station_id     | 5626.13              \n",
      " start_lat          | 40.71939226          \n",
      " start_lng          | -74.00247214         \n",
      " end_lat            | 40.72779126          \n",
      " end_lng            | -73.98564945         \n",
      " member_casual      | member               \n",
      "only showing top 2 rows\n",
      "\n"
     ]
    }
   ],
   "source": [
    "df2023.show(n=2, vertical=True)"
   ]
  },
  {
   "cell_type": "code",
   "execution_count": 62,
   "id": "596166b8-7bbf-4543-9701-258a85a8d4f3",
   "metadata": {},
   "outputs": [],
   "source": [
    "if 'TRIP_DURATION' in df2023.columns: print('yes')"
   ]
  },
  {
   "cell_type": "code",
   "execution_count": 62,
   "id": "424223af-64ca-429a-ac08-8851cfeacf0f",
   "metadata": {},
   "outputs": [],
   "source": [
    "from pyspark.sql import DataFrame\n",
    "def add_duration_column(df:DataFrame,start_date:str,ended_date:str):\n",
    "    df=df.withColumn('trip_duration', datediff (ended_date , start_date))\n",
    "    return df"
   ]
  },
  {
   "cell_type": "code",
   "execution_count": 2,
   "id": "69a1455e-4ecf-4000-ada5-2f5d267bb00d",
   "metadata": {},
   "outputs": [
    {
     "name": "stdout",
     "output_type": "stream",
     "text": [
      "Collecting geopy\n",
      "  Downloading geopy-2.4.1-py3-none-any.whl (125 kB)\n",
      "\u001b[2K     \u001b[90m━━━━━━━━━━━━━━━━━━━━━━━━━━━━━━━━━━━━━━━\u001b[0m \u001b[32m125.4/125.4 kB\u001b[0m \u001b[31m8.9 MB/s\u001b[0m eta \u001b[36m0:00:00\u001b[0m\n",
      "\u001b[?25hCollecting geographiclib<3,>=1.52\n",
      "  Downloading geographiclib-2.0-py3-none-any.whl (40 kB)\n",
      "\u001b[2K     \u001b[90m━━━━━━━━━━━━━━━━━━━━━━━━━━━━━━━━━━━━━━━━\u001b[0m \u001b[32m40.3/40.3 kB\u001b[0m \u001b[31m5.2 MB/s\u001b[0m eta \u001b[36m0:00:00\u001b[0m\n",
      "\u001b[?25hInstalling collected packages: geographiclib, geopy\n",
      "Successfully installed geographiclib-2.0 geopy-2.4.1\n",
      "\u001b[33mWARNING: Running pip as the 'root' user can result in broken permissions and conflicting behaviour with the system package manager. It is recommended to use a virtual environment instead: https://pip.pypa.io/warnings/venv\u001b[0m\u001b[33m\n",
      "\u001b[0m\n",
      "\u001b[1m[\u001b[0m\u001b[34;49mnotice\u001b[0m\u001b[1;39;49m]\u001b[0m\u001b[39;49m A new release of pip is available: \u001b[0m\u001b[31;49m23.0.1\u001b[0m\u001b[39;49m -> \u001b[0m\u001b[32;49m24.3.1\u001b[0m\n",
      "\u001b[1m[\u001b[0m\u001b[34;49mnotice\u001b[0m\u001b[1;39;49m]\u001b[0m\u001b[39;49m To update, run: \u001b[0m\u001b[32;49mpip install --upgrade pip\u001b[0m\n"
     ]
    }
   ],
   "source": [
    "!pip install geopy "
   ]
  },
  {
   "cell_type": "code",
   "execution_count": 3,
   "id": "48947e1b-32f6-4a78-beed-62a65f4a4ef3",
   "metadata": {},
   "outputs": [
    {
     "name": "stdout",
     "output_type": "stream",
     "text": [
      "The distance between Berlin and New York is approximately 1.70 kilometers.\n"
     ]
    }
   ],
   "source": [
    "from geopy.distance import geodesic\n",
    "\n",
    "# Define the two points\n",
    "coord1 = (40.71939226,-74.00247214)  # Berlin\n",
    "coord2 = (40.72779126,-73.98564945)  # New York\n",
    "\n",
    "# Calculate the distance\n",
    "distance = geodesic(coord1, coord2).km\n",
    "\n",
    "print(f\"The distance between Berlin and New York is approximately {distance:.2f} kilometers.\")"
   ]
  },
  {
   "cell_type": "code",
   "execution_count": 4,
   "id": "0803f23c-39d8-49e0-ac55-391134c8cf71",
   "metadata": {},
   "outputs": [
    {
     "data": {
      "text/plain": [
       "1.6999853938271692"
      ]
     },
     "execution_count": 4,
     "metadata": {},
     "output_type": "execute_result"
    }
   ],
   "source": [
    "distance"
   ]
  },
  {
   "cell_type": "code",
   "execution_count": 32,
   "id": "7a7d8c60-8608-42a0-8fa4-f890205ff4b8",
   "metadata": {},
   "outputs": [
    {
     "name": "stdout",
     "output_type": "stream",
     "text": [
      "{'place_id': 331190618, 'licence': 'Data © OpenStreetMap contributors, ODbL 1.0. http://osm.org/copyright', 'osm_type': 'node', 'osm_id': 3708656643, 'lat': '40.7193923', 'lon': '-74.0024721', 'class': 'amenity', 'type': 'bicycle_rental', 'place_rank': 30, 'importance': 9.175936522464359e-05, 'addresstype': 'amenity', 'name': 'Citi Bike - Lispenard St & Broadway', 'display_name': 'Citi Bike - Lispenard St & Broadway, Lispenard Street, Tribeca, Manhattan, New York County, City of New York, New York, 10013, United States', 'address': {'amenity': 'Citi Bike - Lispenard St & Broadway', 'road': 'Lispenard Street', 'neighbourhood': 'Tribeca', 'suburb': 'Manhattan', 'county': 'New York County', 'city': 'City of New York', 'state': 'New York', 'ISO3166-2-lvl4': 'US-NY', 'postcode': '10013', 'country': 'United States', 'country_code': 'us'}, 'boundingbox': ['40.7193423', '40.7194423', '-74.0025221', '-74.0024221']}\n"
     ]
    }
   ],
   "source": [
    "from geopy.geocoders import Nominatim\n",
    "geolocator = Nominatim(user_agent=\"benesh-app\")\n",
    "location = geolocator.reverse(coord1)\n",
    "# print(location.address)\n",
    "print(location.raw)\n"
   ]
  },
  {
   "cell_type": "code",
   "execution_count": null,
   "id": "b6e4a171-4891-48c7-af17-01bc7e5e8f6a",
   "metadata": {},
   "outputs": [],
   "source": []
  },
  {
   "cell_type": "code",
   "execution_count": 33,
   "id": "1151d47d-8500-4bce-94c9-364f71779dbc",
   "metadata": {},
   "outputs": [
    {
     "data": {
      "text/plain": [
       "Location(Citi Bike - Lispenard St & Broadway, Lispenard Street, Tribeca, Manhattan, New York County, City of New York, New York, 10013, United States, (40.7193923, -74.0024721, 0.0))"
      ]
     },
     "execution_count": 33,
     "metadata": {},
     "output_type": "execute_result"
    }
   ],
   "source": [
    "location"
   ]
  },
  {
   "cell_type": "code",
   "execution_count": 6,
   "id": "8ed3fa28-caf8-4e46-ad56-709f8f0d789a",
   "metadata": {},
   "outputs": [],
   "source": []
  },
  {
   "cell_type": "code",
   "execution_count": 7,
   "id": "82a2fb75-b624-4de0-802b-bc69796acbaa",
   "metadata": {},
   "outputs": [
    {
     "data": {
      "text/html": [
       "\n",
       "            <div>\n",
       "                <p><b>SparkSession - in-memory</b></p>\n",
       "                \n",
       "        <div>\n",
       "            <p><b>SparkContext</b></p>\n",
       "\n",
       "            <p><a href=\"http://70586c262c09:4041\">Spark UI</a></p>\n",
       "\n",
       "            <dl>\n",
       "              <dt>Version</dt>\n",
       "                <dd><code>v3.5.1</code></dd>\n",
       "              <dt>Master</dt>\n",
       "                <dd><code>local[*]</code></dd>\n",
       "              <dt>AppName</dt>\n",
       "                <dd><code>PySparkShell</code></dd>\n",
       "            </dl>\n",
       "        </div>\n",
       "        \n",
       "            </div>\n",
       "        "
      ],
      "text/plain": [
       "<pyspark.sql.session.SparkSession at 0x7fd6e44b3310>"
      ]
     },
     "execution_count": 7,
     "metadata": {},
     "output_type": "execute_result"
    }
   ],
   "source": [
    "from pyspark.sql import SparkSession\n",
    "from pyspark import SparkConf\n",
    "\n",
    "conf = SparkConf()\n",
    "\n",
    "conf.set('spark.jars.packages', 'org.apache.hadoop:hadoop-aws:3.2.3')\n",
    "conf.set('spark.hadoop.fs.s3a.access.key', ACCESS_KEY_1)\n",
    "conf.set('spark.hadoop.fs.s3a.secret.key',SECRET_KEY_1)\n",
    "conf.set('spark.hadoop.fs.s3a.path.style.access','true')\n",
    "conf.set('spark.hadoop.fs.s3a.ssl.enabled','false')\n",
    "conf.set('spark.hadoop.fs.s3a.aws.credentials.provider','org.apache.hadoop.fs.s3a.SimpleAWSCredentialsProvider')\n",
    "conf.set('spark.hadoop.fs.s3a.impl', 'org.apache.hadoop.fs.s3a.S3AFileSystem')\n",
    "conf.set(\"spark.hadoop.fs.s3a.endpoint\", \"s3.amazonaws.com\") \n",
    "conf.set('spark.hadoop.fs.s3a.committer.magic.enabled','true')\n",
    "conf.set('spark.hadoop.fs.s3a.committer.name','magic')\n",
    "\n",
    "\n",
    "spark = SparkSession.builder.config(conf=conf).getOrCreate()\n",
    "\n",
    "spark"
   ]
  },
  {
   "cell_type": "code",
   "execution_count": 8,
   "id": "7d4fe84c-b18b-4aec-8b74-fc2b9c8e972f",
   "metadata": {},
   "outputs": [],
   "source": [
    "BUCKET_NAME = 'my-bucket-testomar'\n",
    "CSV_INPUT_FILE_PATH = f's3a://{BUCKET_NAME}/202402-citibike-tripdata_1.csv'"
   ]
  },
  {
   "cell_type": "code",
   "execution_count": 9,
   "id": "f0b19a4e-4a10-4263-b45d-cc8993e70957",
   "metadata": {},
   "outputs": [
    {
     "ename": "Py4JJavaError",
     "evalue": "An error occurred while calling o151.load.\n: java.lang.NoSuchMethodError: 'java.util.EnumSet org.apache.hadoop.conf.Configuration.getEnumSet(java.lang.String, java.lang.Class, boolean)'\n\tat org.apache.hadoop.fs.impl.FlagSet.buildFlagSet(FlagSet.java:323)\n\tat org.apache.hadoop.fs.s3a.S3AFileSystem.initialize(S3AFileSystem.java:743)\n\tat org.apache.hadoop.fs.FileSystem.createFileSystem(FileSystem.java:3469)\n\tat org.apache.hadoop.fs.FileSystem.access$300(FileSystem.java:174)\n\tat org.apache.hadoop.fs.FileSystem$Cache.getInternal(FileSystem.java:3574)\n\tat org.apache.hadoop.fs.FileSystem$Cache.get(FileSystem.java:3521)\n\tat org.apache.hadoop.fs.FileSystem.get(FileSystem.java:540)\n\tat org.apache.hadoop.fs.Path.getFileSystem(Path.java:365)\n\tat org.apache.spark.sql.execution.streaming.FileStreamSink$.hasMetadata(FileStreamSink.scala:53)\n\tat org.apache.spark.sql.execution.datasources.DataSource.resolveRelation(DataSource.scala:366)\n\tat org.apache.spark.sql.DataFrameReader.loadV1Source(DataFrameReader.scala:229)\n\tat org.apache.spark.sql.DataFrameReader.$anonfun$load$2(DataFrameReader.scala:211)\n\tat scala.Option.getOrElse(Option.scala:189)\n\tat org.apache.spark.sql.DataFrameReader.load(DataFrameReader.scala:211)\n\tat org.apache.spark.sql.DataFrameReader.load(DataFrameReader.scala:186)\n\tat java.base/jdk.internal.reflect.NativeMethodAccessorImpl.invoke0(Native Method)\n\tat java.base/jdk.internal.reflect.NativeMethodAccessorImpl.invoke(NativeMethodAccessorImpl.java:62)\n\tat java.base/jdk.internal.reflect.DelegatingMethodAccessorImpl.invoke(DelegatingMethodAccessorImpl.java:43)\n\tat java.base/java.lang.reflect.Method.invoke(Method.java:566)\n\tat py4j.reflection.MethodInvoker.invoke(MethodInvoker.java:244)\n\tat py4j.reflection.ReflectionEngine.invoke(ReflectionEngine.java:374)\n\tat py4j.Gateway.invoke(Gateway.java:282)\n\tat py4j.commands.AbstractCommand.invokeMethod(AbstractCommand.java:132)\n\tat py4j.commands.CallCommand.execute(CallCommand.java:79)\n\tat py4j.ClientServerConnection.waitForCommands(ClientServerConnection.java:182)\n\tat py4j.ClientServerConnection.run(ClientServerConnection.java:106)\n\tat java.base/java.lang.Thread.run(Thread.java:829)\n",
     "output_type": "error",
     "traceback": [
      "\u001b[0;31m---------------------------------------------------------------------------\u001b[0m",
      "\u001b[0;31mPy4JJavaError\u001b[0m                             Traceback (most recent call last)",
      "Cell \u001b[0;32mIn[9], line 1\u001b[0m\n\u001b[0;32m----> 1\u001b[0m df2023 \u001b[38;5;241m=\u001b[39m\u001b[43mspark\u001b[49m\u001b[38;5;241;43m.\u001b[39;49m\u001b[43mread\u001b[49m\u001b[38;5;241;43m.\u001b[39;49m\u001b[43mformat\u001b[49m\u001b[43m(\u001b[49m\u001b[38;5;124;43m'\u001b[39;49m\u001b[38;5;124;43mcsv\u001b[39;49m\u001b[38;5;124;43m'\u001b[39;49m\u001b[43m)\u001b[49m\u001b[38;5;241;43m.\u001b[39;49m\u001b[43moptions\u001b[49m\u001b[43m(\u001b[49m\u001b[43minferSchema\u001b[49m\u001b[38;5;241;43m=\u001b[39;49m\u001b[38;5;124;43m'\u001b[39;49m\u001b[38;5;124;43mTrue\u001b[39;49m\u001b[38;5;124;43m'\u001b[39;49m\u001b[43m,\u001b[49m\u001b[43m \u001b[49m\u001b[43mheader\u001b[49m\u001b[38;5;241;43m=\u001b[39;49m\u001b[38;5;124;43m'\u001b[39;49m\u001b[38;5;124;43mTrue\u001b[39;49m\u001b[38;5;124;43m'\u001b[39;49m\u001b[43m,\u001b[49m\u001b[43mdelimiter\u001b[49m\u001b[38;5;241;43m=\u001b[39;49m\u001b[38;5;124;43m'\u001b[39;49m\u001b[38;5;124;43m,\u001b[39;49m\u001b[38;5;124;43m'\u001b[39;49m\u001b[43m)\u001b[49m\u001b[38;5;241;43m.\u001b[39;49m\u001b[43mload\u001b[49m\u001b[43m(\u001b[49m\u001b[43mCSV_INPUT_FILE_PATH\u001b[49m\u001b[43m)\u001b[49m\n",
      "File \u001b[0;32m/opt/spark/python/pyspark/sql/readwriter.py:307\u001b[0m, in \u001b[0;36mDataFrameReader.load\u001b[0;34m(self, path, format, schema, **options)\u001b[0m\n\u001b[1;32m    305\u001b[0m \u001b[38;5;28mself\u001b[39m\u001b[38;5;241m.\u001b[39moptions(\u001b[38;5;241m*\u001b[39m\u001b[38;5;241m*\u001b[39moptions)\n\u001b[1;32m    306\u001b[0m \u001b[38;5;28;01mif\u001b[39;00m \u001b[38;5;28misinstance\u001b[39m(path, \u001b[38;5;28mstr\u001b[39m):\n\u001b[0;32m--> 307\u001b[0m     \u001b[38;5;28;01mreturn\u001b[39;00m \u001b[38;5;28mself\u001b[39m\u001b[38;5;241m.\u001b[39m_df(\u001b[38;5;28;43mself\u001b[39;49m\u001b[38;5;241;43m.\u001b[39;49m\u001b[43m_jreader\u001b[49m\u001b[38;5;241;43m.\u001b[39;49m\u001b[43mload\u001b[49m\u001b[43m(\u001b[49m\u001b[43mpath\u001b[49m\u001b[43m)\u001b[49m)\n\u001b[1;32m    308\u001b[0m \u001b[38;5;28;01melif\u001b[39;00m path \u001b[38;5;129;01mis\u001b[39;00m \u001b[38;5;129;01mnot\u001b[39;00m \u001b[38;5;28;01mNone\u001b[39;00m:\n\u001b[1;32m    309\u001b[0m     \u001b[38;5;28;01mif\u001b[39;00m \u001b[38;5;28mtype\u001b[39m(path) \u001b[38;5;241m!=\u001b[39m \u001b[38;5;28mlist\u001b[39m:\n",
      "File \u001b[0;32m/opt/spark/python/lib/py4j-0.10.9.7-src.zip/py4j/java_gateway.py:1322\u001b[0m, in \u001b[0;36mJavaMember.__call__\u001b[0;34m(self, *args)\u001b[0m\n\u001b[1;32m   1316\u001b[0m command \u001b[38;5;241m=\u001b[39m proto\u001b[38;5;241m.\u001b[39mCALL_COMMAND_NAME \u001b[38;5;241m+\u001b[39m\\\n\u001b[1;32m   1317\u001b[0m     \u001b[38;5;28mself\u001b[39m\u001b[38;5;241m.\u001b[39mcommand_header \u001b[38;5;241m+\u001b[39m\\\n\u001b[1;32m   1318\u001b[0m     args_command \u001b[38;5;241m+\u001b[39m\\\n\u001b[1;32m   1319\u001b[0m     proto\u001b[38;5;241m.\u001b[39mEND_COMMAND_PART\n\u001b[1;32m   1321\u001b[0m answer \u001b[38;5;241m=\u001b[39m \u001b[38;5;28mself\u001b[39m\u001b[38;5;241m.\u001b[39mgateway_client\u001b[38;5;241m.\u001b[39msend_command(command)\n\u001b[0;32m-> 1322\u001b[0m return_value \u001b[38;5;241m=\u001b[39m \u001b[43mget_return_value\u001b[49m\u001b[43m(\u001b[49m\n\u001b[1;32m   1323\u001b[0m \u001b[43m    \u001b[49m\u001b[43manswer\u001b[49m\u001b[43m,\u001b[49m\u001b[43m \u001b[49m\u001b[38;5;28;43mself\u001b[39;49m\u001b[38;5;241;43m.\u001b[39;49m\u001b[43mgateway_client\u001b[49m\u001b[43m,\u001b[49m\u001b[43m \u001b[49m\u001b[38;5;28;43mself\u001b[39;49m\u001b[38;5;241;43m.\u001b[39;49m\u001b[43mtarget_id\u001b[49m\u001b[43m,\u001b[49m\u001b[43m \u001b[49m\u001b[38;5;28;43mself\u001b[39;49m\u001b[38;5;241;43m.\u001b[39;49m\u001b[43mname\u001b[49m\u001b[43m)\u001b[49m\n\u001b[1;32m   1325\u001b[0m \u001b[38;5;28;01mfor\u001b[39;00m temp_arg \u001b[38;5;129;01min\u001b[39;00m temp_args:\n\u001b[1;32m   1326\u001b[0m     \u001b[38;5;28;01mif\u001b[39;00m \u001b[38;5;28mhasattr\u001b[39m(temp_arg, \u001b[38;5;124m\"\u001b[39m\u001b[38;5;124m_detach\u001b[39m\u001b[38;5;124m\"\u001b[39m):\n",
      "File \u001b[0;32m/opt/spark/python/pyspark/errors/exceptions/captured.py:179\u001b[0m, in \u001b[0;36mcapture_sql_exception.<locals>.deco\u001b[0;34m(*a, **kw)\u001b[0m\n\u001b[1;32m    177\u001b[0m \u001b[38;5;28;01mdef\u001b[39;00m \u001b[38;5;21mdeco\u001b[39m(\u001b[38;5;241m*\u001b[39ma: Any, \u001b[38;5;241m*\u001b[39m\u001b[38;5;241m*\u001b[39mkw: Any) \u001b[38;5;241m-\u001b[39m\u001b[38;5;241m>\u001b[39m Any:\n\u001b[1;32m    178\u001b[0m     \u001b[38;5;28;01mtry\u001b[39;00m:\n\u001b[0;32m--> 179\u001b[0m         \u001b[38;5;28;01mreturn\u001b[39;00m \u001b[43mf\u001b[49m\u001b[43m(\u001b[49m\u001b[38;5;241;43m*\u001b[39;49m\u001b[43ma\u001b[49m\u001b[43m,\u001b[49m\u001b[43m \u001b[49m\u001b[38;5;241;43m*\u001b[39;49m\u001b[38;5;241;43m*\u001b[39;49m\u001b[43mkw\u001b[49m\u001b[43m)\u001b[49m\n\u001b[1;32m    180\u001b[0m     \u001b[38;5;28;01mexcept\u001b[39;00m Py4JJavaError \u001b[38;5;28;01mas\u001b[39;00m e:\n\u001b[1;32m    181\u001b[0m         converted \u001b[38;5;241m=\u001b[39m convert_exception(e\u001b[38;5;241m.\u001b[39mjava_exception)\n",
      "File \u001b[0;32m/opt/spark/python/lib/py4j-0.10.9.7-src.zip/py4j/protocol.py:326\u001b[0m, in \u001b[0;36mget_return_value\u001b[0;34m(answer, gateway_client, target_id, name)\u001b[0m\n\u001b[1;32m    324\u001b[0m value \u001b[38;5;241m=\u001b[39m OUTPUT_CONVERTER[\u001b[38;5;28mtype\u001b[39m](answer[\u001b[38;5;241m2\u001b[39m:], gateway_client)\n\u001b[1;32m    325\u001b[0m \u001b[38;5;28;01mif\u001b[39;00m answer[\u001b[38;5;241m1\u001b[39m] \u001b[38;5;241m==\u001b[39m REFERENCE_TYPE:\n\u001b[0;32m--> 326\u001b[0m     \u001b[38;5;28;01mraise\u001b[39;00m Py4JJavaError(\n\u001b[1;32m    327\u001b[0m         \u001b[38;5;124m\"\u001b[39m\u001b[38;5;124mAn error occurred while calling \u001b[39m\u001b[38;5;132;01m{0}\u001b[39;00m\u001b[38;5;132;01m{1}\u001b[39;00m\u001b[38;5;132;01m{2}\u001b[39;00m\u001b[38;5;124m.\u001b[39m\u001b[38;5;130;01m\\n\u001b[39;00m\u001b[38;5;124m\"\u001b[39m\u001b[38;5;241m.\u001b[39m\n\u001b[1;32m    328\u001b[0m         \u001b[38;5;28mformat\u001b[39m(target_id, \u001b[38;5;124m\"\u001b[39m\u001b[38;5;124m.\u001b[39m\u001b[38;5;124m\"\u001b[39m, name), value)\n\u001b[1;32m    329\u001b[0m \u001b[38;5;28;01melse\u001b[39;00m:\n\u001b[1;32m    330\u001b[0m     \u001b[38;5;28;01mraise\u001b[39;00m Py4JError(\n\u001b[1;32m    331\u001b[0m         \u001b[38;5;124m\"\u001b[39m\u001b[38;5;124mAn error occurred while calling \u001b[39m\u001b[38;5;132;01m{0}\u001b[39;00m\u001b[38;5;132;01m{1}\u001b[39;00m\u001b[38;5;132;01m{2}\u001b[39;00m\u001b[38;5;124m. Trace:\u001b[39m\u001b[38;5;130;01m\\n\u001b[39;00m\u001b[38;5;132;01m{3}\u001b[39;00m\u001b[38;5;130;01m\\n\u001b[39;00m\u001b[38;5;124m\"\u001b[39m\u001b[38;5;241m.\u001b[39m\n\u001b[1;32m    332\u001b[0m         \u001b[38;5;28mformat\u001b[39m(target_id, \u001b[38;5;124m\"\u001b[39m\u001b[38;5;124m.\u001b[39m\u001b[38;5;124m\"\u001b[39m, name, value))\n",
      "\u001b[0;31mPy4JJavaError\u001b[0m: An error occurred while calling o151.load.\n: java.lang.NoSuchMethodError: 'java.util.EnumSet org.apache.hadoop.conf.Configuration.getEnumSet(java.lang.String, java.lang.Class, boolean)'\n\tat org.apache.hadoop.fs.impl.FlagSet.buildFlagSet(FlagSet.java:323)\n\tat org.apache.hadoop.fs.s3a.S3AFileSystem.initialize(S3AFileSystem.java:743)\n\tat org.apache.hadoop.fs.FileSystem.createFileSystem(FileSystem.java:3469)\n\tat org.apache.hadoop.fs.FileSystem.access$300(FileSystem.java:174)\n\tat org.apache.hadoop.fs.FileSystem$Cache.getInternal(FileSystem.java:3574)\n\tat org.apache.hadoop.fs.FileSystem$Cache.get(FileSystem.java:3521)\n\tat org.apache.hadoop.fs.FileSystem.get(FileSystem.java:540)\n\tat org.apache.hadoop.fs.Path.getFileSystem(Path.java:365)\n\tat org.apache.spark.sql.execution.streaming.FileStreamSink$.hasMetadata(FileStreamSink.scala:53)\n\tat org.apache.spark.sql.execution.datasources.DataSource.resolveRelation(DataSource.scala:366)\n\tat org.apache.spark.sql.DataFrameReader.loadV1Source(DataFrameReader.scala:229)\n\tat org.apache.spark.sql.DataFrameReader.$anonfun$load$2(DataFrameReader.scala:211)\n\tat scala.Option.getOrElse(Option.scala:189)\n\tat org.apache.spark.sql.DataFrameReader.load(DataFrameReader.scala:211)\n\tat org.apache.spark.sql.DataFrameReader.load(DataFrameReader.scala:186)\n\tat java.base/jdk.internal.reflect.NativeMethodAccessorImpl.invoke0(Native Method)\n\tat java.base/jdk.internal.reflect.NativeMethodAccessorImpl.invoke(NativeMethodAccessorImpl.java:62)\n\tat java.base/jdk.internal.reflect.DelegatingMethodAccessorImpl.invoke(DelegatingMethodAccessorImpl.java:43)\n\tat java.base/java.lang.reflect.Method.invoke(Method.java:566)\n\tat py4j.reflection.MethodInvoker.invoke(MethodInvoker.java:244)\n\tat py4j.reflection.ReflectionEngine.invoke(ReflectionEngine.java:374)\n\tat py4j.Gateway.invoke(Gateway.java:282)\n\tat py4j.commands.AbstractCommand.invokeMethod(AbstractCommand.java:132)\n\tat py4j.commands.CallCommand.execute(CallCommand.java:79)\n\tat py4j.ClientServerConnection.waitForCommands(ClientServerConnection.java:182)\n\tat py4j.ClientServerConnection.run(ClientServerConnection.java:106)\n\tat java.base/java.lang.Thread.run(Thread.java:829)\n"
     ]
    }
   ],
   "source": [
    "df2023 =spark.read.format('csv').options(inferSchema='True', header='True',delimiter=',').load(CSV_INPUT_FILE_PATH)"
   ]
  },
  {
   "cell_type": "code",
   "execution_count": null,
   "id": "14fe0441-2e57-4055-841f-9898f824b711",
   "metadata": {},
   "outputs": [],
   "source": []
  },
  {
   "cell_type": "code",
   "execution_count": 10,
   "id": "39ae10f4-2956-4b20-894d-1ea820ccc25f",
   "metadata": {},
   "outputs": [],
   "source": [
    "import yaml\n",
    "import os\n",
    "from pyspark.sql import SparkSession\n",
    "\n"
   ]
  },
  {
   "cell_type": "code",
   "execution_count": 17,
   "id": "86c1d117-3066-462b-8dcd-af61f9827dd6",
   "metadata": {},
   "outputs": [],
   "source": [
    "\n",
    "# Load YAML config\n",
    "with open(\"config.yaml\", \"r\") as f:\n",
    "    config = yaml.safe_load(f)\n",
    "\n",
    "# Fetch secrets from environment variables\n",
    "source_config = config[\"source\"]\n",
    "# source_config[\"password\"] = os.environ[\"SOURCE_DB_PASSWORD\"]  # Inject password\n",
    "\n",
    "etl_conf= config[\"etl_conf\"]\n",
    "\n",
    "dest_config = config[\"destination\"]\n",
    "# dest_config[\"password\"] = os.environ[\"DEST_DB_PASSWORD\"]"
   ]
  },
  {
   "cell_type": "code",
   "execution_count": 14,
   "id": "e4c87daa-5681-4633-a0c9-31b0326be483",
   "metadata": {},
   "outputs": [
    {
     "data": {
      "text/plain": [
       "{'url': 'jdbc:postgresql://source-host:5432/db',\n",
       " 'user': 'user',\n",
       " 'driver': 'org.postgresql.Driver',\n",
       " 'table': 'source_table'}"
      ]
     },
     "execution_count": 14,
     "metadata": {},
     "output_type": "execute_result"
    }
   ],
   "source": [
    "source_config"
   ]
  },
  {
   "cell_type": "code",
   "execution_count": 18,
   "id": "ba4ac60b-258e-438d-8014-43f2fe388666",
   "metadata": {},
   "outputs": [
    {
     "data": {
      "text/plain": [
       "{'columnsto_rename': {'tripduration': 'TRIP_DURATION',\n",
       "  'starttime': 'START_AT',\n",
       "  'stoptime': 'STOP_AT',\n",
       "  'start station id': 'START_STATION_ID',\n",
       "  'start station name': 'START_STATION_NAME',\n",
       "  'start station latitude': 'START_STATION_LATITUDE',\n",
       "  'start station longitude': 'START_STATION_LONGITUDE',\n",
       "  'end station id': 'END_STATION_ID',\n",
       "  'end station name': 'END_STATION_NAME',\n",
       "  'end station latitude': 'END_STATION_LATITUDE',\n",
       "  'end station longitude': 'END_STATION_LONGITUDE',\n",
       "  'bikeid': 'BIKE_ID',\n",
       "  'usertype': 'USER_TYPE',\n",
       "  'birth year': 'CUSTOMER_YEAR_BIRTH',\n",
       "  'rideable_type': 'RIDEABLE_TYPE',\n",
       "  'started_at': 'START_AT',\n",
       "  'ended_at': 'STOP_AT',\n",
       "  'start_station_name': 'START_STATION_NAME',\n",
       "  'start_station_id': 'START_STATION_ID',\n",
       "  'end_station_name': 'END_STATION_NAME',\n",
       "  'end_station_id': 'END_STATION_ID',\n",
       "  'start_lat': 'START_STATION_LATITUDE',\n",
       "  'start_lng': 'START_STATION_LONGITUDE',\n",
       "  'end_lat': 'END_STATION_LATITUDE',\n",
       "  'end_lng': 'END_STATION_LONGITUDE',\n",
       "  'member_casual': 'CUSTOMER_TYPE',\n",
       "  'gender': 'GENDER'}}"
      ]
     },
     "execution_count": 18,
     "metadata": {},
     "output_type": "execute_result"
    }
   ],
   "source": [
    "etl_conf"
   ]
  },
  {
   "cell_type": "code",
   "execution_count": 23,
   "id": "8c436627-6b9c-4221-ae63-744d796480e9",
   "metadata": {},
   "outputs": [
    {
     "name": "stdout",
     "output_type": "stream",
     "text": [
      "Heroes Report:\n",
      "- Deadpond (Dive Wilson), Age: 22, Team: No Team\n",
      "- Rusty-Man (Tommy Sharp), Age: 48, Team: No Team\n",
      "- Spider-Boy (Pedro Parqueador), Age: 17, Team: No Team\n",
      "- Dr. Weird (Steve Weird), Age: 36, Team: No Team\n",
      "- Captain North America (Esteban Rogelios), Age: 93, Team: No Team\n",
      "\n",
      "All Heroes:\n",
      "name='Deadpond' team_id=None id=1 age=22 secret_name='Dive Wilson'\n",
      "name='Rusty-Man' team_id=None id=2 age=48 secret_name='Tommy Sharp'\n",
      "name='Spider-Boy' team_id=None id=3 age=17 secret_name='Pedro Parqueador'\n",
      "name='Dr. Weird' team_id=None id=4 age=36 secret_name='Steve Weird'\n",
      "name='Captain North America' team_id=None id=5 age=93 secret_name='Esteban Rogelios'\n",
      "\n",
      "Heroes Older Than 30:\n",
      "name='Rusty-Man' team_id=None id=2 age=48 secret_name='Tommy Sharp'\n",
      "name='Dr. Weird' team_id=None id=4 age=36 secret_name='Steve Weird'\n",
      "name='Captain North America' team_id=None id=5 age=93 secret_name='Esteban Rogelios'\n",
      "\n",
      "Preventers Heroes:\n",
      "\n",
      "Heroes without team:\n",
      "name='Deadpond' team_id=None id=1 age=22 secret_name='Dive Wilson'\n",
      "name='Rusty-Man' team_id=None id=2 age=48 secret_name='Tommy Sharp'\n",
      "name='Spider-Boy' team_id=None id=3 age=17 secret_name='Pedro Parqueador'\n",
      "name='Dr. Weird' team_id=None id=4 age=36 secret_name='Steve Weird'\n",
      "name='Captain North America' team_id=None id=5 age=93 secret_name='Esteban Rogelios'\n"
     ]
    }
   ],
   "source": [
    "from typing import List, Optional\n",
    "\n",
    "from sqlmodel import Field, Session, SQLModel, create_engine, select\n",
    "\n",
    "# PostgreSQL connection details (REPLACE THESE WITH YOUR CREDENTIALS)\n",
    "PG_USER = \"root\"\n",
    "PG_PASSWORD = \"your-password\"\n",
    "PG_HOST = \"db\"  # e.g., localhost, 127.0.0.1\n",
    "PG_PORT = \"5432\" # default port for postgresql\n",
    "PG_DATABASE = \"postgres\"\n",
    "\n",
    "PG_URL = f\"postgresql://{PG_USER}:{PG_PASSWORD}@{PG_HOST}:{PG_PORT}/{PG_DATABASE}\"\n",
    "\n",
    "\n",
    "class Hero(SQLModel, table=True):\n",
    "    id: Optional[int] = Field(default=None, primary_key=True)\n",
    "    name: str = Field(index=True)\n",
    "    secret_name: str\n",
    "    age: Optional[int] = Field(default=None, index=True)\n",
    "    team_id: Optional[int] = Field(default=None, foreign_key=\"team.id\")\n",
    "\n",
    "\n",
    "class Team(SQLModel, table=True):\n",
    "    id: Optional[int] = Field(default=None, primary_key=True)\n",
    "    name: str = Field(index=True)\n",
    "    headquarters: str\n",
    "\n",
    "\n",
    "engine = create_engine(PG_URL)  # Use PostgreSQL URL\n",
    "\n",
    "def create_db_and_tables():\n",
    "    SQLModel.metadata.create_all(engine)\n",
    "\n",
    "\n",
    "def create_heroes_and_teams():\n",
    "    team_preventers = Team(name=\"Preventers\", headquarters=\"Sharp Tower\")\n",
    "    team_z_force = Team(name=\"Z-Force\", headquarters=\"Sister Margaret’s Bar\")\n",
    "\n",
    "    hero_deadpond = Hero(name=\"Deadpond\", secret_name=\"Dive Wilson\", age=22, team_id=team_z_force.id)\n",
    "    hero_rusty_man = Hero(name=\"Rusty-Man\", secret_name=\"Tommy Sharp\", age=48, team_id=team_preventers.id)\n",
    "    hero_spider_boy = Hero(name=\"Spider-Boy\", secret_name=\"Pedro Parqueador\", age=17)\n",
    "    hero_dr_weird = Hero(name=\"Dr. Weird\", secret_name=\"Steve Weird\", age=36, team_id=team_preventers.id)\n",
    "    hero_captain_north_america = Hero(name=\"Captain North America\", secret_name=\"Esteban Rogelios\", age=93)\n",
    "\n",
    "    with Session(engine) as session:\n",
    "        session.add(team_preventers)\n",
    "        session.add(team_z_force)\n",
    "        session.add(hero_deadpond)\n",
    "        session.add(hero_rusty_man)\n",
    "        session.add(hero_spider_boy)\n",
    "        session.add(hero_dr_weird)\n",
    "        session.add(hero_captain_north_america)\n",
    "        session.commit()\n",
    "        session.refresh(team_preventers)\n",
    "        session.refresh(team_z_force)\n",
    "        session.refresh(hero_deadpond)\n",
    "        session.refresh(hero_rusty_man)\n",
    "        session.refresh(hero_spider_boy)\n",
    "        session.refresh(hero_dr_weird)\n",
    "        session.refresh(hero_captain_north_america)\n",
    "\n",
    "\n",
    "def generate_report():\n",
    "    with Session(engine) as session:\n",
    "        statement = select(Hero, Team).join(Team, isouter=True)\n",
    "        results = session.exec(statement)\n",
    "\n",
    "        print(\"Heroes Report:\")\n",
    "        for hero, team in results:\n",
    "            team_name = team.name if team else \"No Team\"\n",
    "            print(f\"- {hero.name} ({hero.secret_name}), Age: {hero.age or 'Unknown'}, Team: {team_name}\")\n",
    "\n",
    "\n",
    "def query_heroes():\n",
    "    with Session(engine) as session:\n",
    "        heroes = session.exec(select(Hero)).all()\n",
    "        print(\"\\nAll Heroes:\")\n",
    "        for hero in heroes:\n",
    "            print(hero)\n",
    "\n",
    "        old_heroes = session.exec(select(Hero).where(Hero.age > 30)).all()\n",
    "        print(\"\\nHeroes Older Than 30:\")\n",
    "        for hero in old_heroes:\n",
    "            print(hero)\n",
    "\n",
    "        preventers_heroes = session.exec(select(Hero).join(Team).where(Team.name == \"Preventers\")).all()\n",
    "        print(\"\\nPreventers Heroes:\")\n",
    "        for hero in preventers_heroes:\n",
    "            print(hero)\n",
    "\n",
    "        heroes_without_team = session.exec(select(Hero).where(Hero.team_id == None)).all()\n",
    "        print(\"\\nHeroes without team:\")\n",
    "        for hero in heroes_without_team:\n",
    "            print(hero)\n",
    "\n",
    "def main():\n",
    "    create_db_and_tables()\n",
    "    create_heroes_and_teams()\n",
    "    generate_report()\n",
    "    query_heroes()\n",
    "\n",
    "\n",
    "if __name__ == \"__main__\":\n",
    "    main()"
   ]
  },
  {
   "cell_type": "code",
   "execution_count": 35,
   "id": "c0ee2419-1a75-462c-b313-8569f78d657e",
   "metadata": {},
   "outputs": [
    {
     "ename": "InvalidRequestError",
     "evalue": "Table 'event' is already defined for this MetaData instance.  Specify 'extend_existing=True' to redefine options and columns on an existing Table object.",
     "output_type": "error",
     "traceback": [
      "\u001b[0;31m---------------------------------------------------------------------------\u001b[0m",
      "\u001b[0;31mInvalidRequestError\u001b[0m                       Traceback (most recent call last)",
      "Cell \u001b[0;32mIn[35], line 6\u001b[0m\n\u001b[1;32m      2\u001b[0m \u001b[38;5;28;01mfrom\u001b[39;00m \u001b[38;5;21;01mdatetime\u001b[39;00m \u001b[38;5;28;01mimport\u001b[39;00m datetime\n\u001b[1;32m      3\u001b[0m \u001b[38;5;28;01mfrom\u001b[39;00m \u001b[38;5;21;01msqlalchemy\u001b[39;00m\u001b[38;5;21;01m.\u001b[39;00m\u001b[38;5;21;01msql\u001b[39;00m \u001b[38;5;28;01mimport\u001b[39;00m func\n\u001b[0;32m----> 6\u001b[0m \u001b[38;5;28;01mclass\u001b[39;00m \u001b[38;5;21;01mEvent\u001b[39;00m(SQLModel, table\u001b[38;5;241m=\u001b[39m\u001b[38;5;28;01mTrue\u001b[39;00m):\n\u001b[1;32m      7\u001b[0m     \u001b[38;5;28mid\u001b[39m: \u001b[38;5;28mint\u001b[39m \u001b[38;5;241m=\u001b[39m Field(default\u001b[38;5;241m=\u001b[39m\u001b[38;5;28;01mNone\u001b[39;00m, primary_key\u001b[38;5;241m=\u001b[39m\u001b[38;5;28;01mTrue\u001b[39;00m)\n\u001b[1;32m      8\u001b[0m     name: \u001b[38;5;28mstr\u001b[39m\n",
      "File \u001b[0;32m/usr/local/lib/python3.9/site-packages/sqlmodel/main.py:638\u001b[0m, in \u001b[0;36mSQLModelMetaclass.__init__\u001b[0;34m(cls, classname, bases, dict_, **kw)\u001b[0m\n\u001b[1;32m    634\u001b[0m         \u001b[38;5;28msetattr\u001b[39m(\u001b[38;5;28mcls\u001b[39m, rel_name, rel_value)  \u001b[38;5;66;03m# Fix #315\u001b[39;00m\n\u001b[1;32m    635\u001b[0m     \u001b[38;5;66;03m# SQLAlchemy no longer uses dict_\u001b[39;00m\n\u001b[1;32m    636\u001b[0m     \u001b[38;5;66;03m# Ref: https://github.com/sqlalchemy/sqlalchemy/commit/428ea01f00a9cc7f85e435018565eb6da7af1b77\u001b[39;00m\n\u001b[1;32m    637\u001b[0m     \u001b[38;5;66;03m# Tag: 1.4.36\u001b[39;00m\n\u001b[0;32m--> 638\u001b[0m     \u001b[43mDeclarativeMeta\u001b[49m\u001b[38;5;241;43m.\u001b[39;49m\u001b[38;5;21;43m__init__\u001b[39;49m\u001b[43m(\u001b[49m\u001b[38;5;28;43mcls\u001b[39;49m\u001b[43m,\u001b[49m\u001b[43m \u001b[49m\u001b[43mclassname\u001b[49m\u001b[43m,\u001b[49m\u001b[43m \u001b[49m\u001b[43mbases\u001b[49m\u001b[43m,\u001b[49m\u001b[43m \u001b[49m\u001b[43mdict_\u001b[49m\u001b[43m,\u001b[49m\u001b[43m \u001b[49m\u001b[38;5;241;43m*\u001b[39;49m\u001b[38;5;241;43m*\u001b[39;49m\u001b[43mkw\u001b[49m\u001b[43m)\u001b[49m\n\u001b[1;32m    639\u001b[0m \u001b[38;5;28;01melse\u001b[39;00m:\n\u001b[1;32m    640\u001b[0m     ModelMetaclass\u001b[38;5;241m.\u001b[39m\u001b[38;5;21m__init__\u001b[39m(\u001b[38;5;28mcls\u001b[39m, classname, bases, dict_, \u001b[38;5;241m*\u001b[39m\u001b[38;5;241m*\u001b[39mkw)\n",
      "File \u001b[0;32m/usr/local/lib/python3.9/site-packages/sqlalchemy/orm/decl_api.py:196\u001b[0m, in \u001b[0;36mDeclarativeMeta.__init__\u001b[0;34m(cls, classname, bases, dict_, **kw)\u001b[0m\n\u001b[1;32m    193\u001b[0m         \u001b[38;5;28mcls\u001b[39m\u001b[38;5;241m.\u001b[39m_sa_registry \u001b[38;5;241m=\u001b[39m reg\n\u001b[1;32m    195\u001b[0m \u001b[38;5;28;01mif\u001b[39;00m \u001b[38;5;129;01mnot\u001b[39;00m \u001b[38;5;28mcls\u001b[39m\u001b[38;5;241m.\u001b[39m\u001b[38;5;18m__dict__\u001b[39m\u001b[38;5;241m.\u001b[39mget(\u001b[38;5;124m\"\u001b[39m\u001b[38;5;124m__abstract__\u001b[39m\u001b[38;5;124m\"\u001b[39m, \u001b[38;5;28;01mFalse\u001b[39;00m):\n\u001b[0;32m--> 196\u001b[0m     \u001b[43m_as_declarative\u001b[49m\u001b[43m(\u001b[49m\u001b[43mreg\u001b[49m\u001b[43m,\u001b[49m\u001b[43m \u001b[49m\u001b[38;5;28;43mcls\u001b[39;49m\u001b[43m,\u001b[49m\u001b[43m \u001b[49m\u001b[43mdict_\u001b[49m\u001b[43m)\u001b[49m\n\u001b[1;32m    197\u001b[0m \u001b[38;5;28mtype\u001b[39m\u001b[38;5;241m.\u001b[39m\u001b[38;5;21m__init__\u001b[39m(\u001b[38;5;28mcls\u001b[39m, classname, bases, dict_)\n",
      "File \u001b[0;32m/usr/local/lib/python3.9/site-packages/sqlalchemy/orm/decl_base.py:244\u001b[0m, in \u001b[0;36m_as_declarative\u001b[0;34m(registry, cls, dict_)\u001b[0m\n\u001b[1;32m    239\u001b[0m \u001b[38;5;28;01mdef\u001b[39;00m \u001b[38;5;21m_as_declarative\u001b[39m(\n\u001b[1;32m    240\u001b[0m     registry: _RegistryType, \u001b[38;5;28mcls\u001b[39m: Type[Any], dict_: _ClassDict\n\u001b[1;32m    241\u001b[0m ) \u001b[38;5;241m-\u001b[39m\u001b[38;5;241m>\u001b[39m Optional[_MapperConfig]:\n\u001b[1;32m    242\u001b[0m     \u001b[38;5;66;03m# declarative scans the class for attributes.  no table or mapper\u001b[39;00m\n\u001b[1;32m    243\u001b[0m     \u001b[38;5;66;03m# args passed separately.\u001b[39;00m\n\u001b[0;32m--> 244\u001b[0m     \u001b[38;5;28;01mreturn\u001b[39;00m \u001b[43m_MapperConfig\u001b[49m\u001b[38;5;241;43m.\u001b[39;49m\u001b[43msetup_mapping\u001b[49m\u001b[43m(\u001b[49m\u001b[43mregistry\u001b[49m\u001b[43m,\u001b[49m\u001b[43m \u001b[49m\u001b[38;5;28;43mcls\u001b[39;49m\u001b[43m,\u001b[49m\u001b[43m \u001b[49m\u001b[43mdict_\u001b[49m\u001b[43m,\u001b[49m\u001b[43m \u001b[49m\u001b[38;5;28;43;01mNone\u001b[39;49;00m\u001b[43m,\u001b[49m\u001b[43m \u001b[49m\u001b[43m{\u001b[49m\u001b[43m}\u001b[49m\u001b[43m)\u001b[49m\n",
      "File \u001b[0;32m/usr/local/lib/python3.9/site-packages/sqlalchemy/orm/decl_base.py:325\u001b[0m, in \u001b[0;36m_MapperConfig.setup_mapping\u001b[0;34m(cls, registry, cls_, dict_, table, mapper_kw)\u001b[0m\n\u001b[1;32m    321\u001b[0m     \u001b[38;5;28;01mreturn\u001b[39;00m _DeferredMapperConfig(\n\u001b[1;32m    322\u001b[0m         registry, cls_, dict_, table, mapper_kw\n\u001b[1;32m    323\u001b[0m     )\n\u001b[1;32m    324\u001b[0m \u001b[38;5;28;01melse\u001b[39;00m:\n\u001b[0;32m--> 325\u001b[0m     \u001b[38;5;28;01mreturn\u001b[39;00m \u001b[43m_ClassScanMapperConfig\u001b[49m\u001b[43m(\u001b[49m\n\u001b[1;32m    326\u001b[0m \u001b[43m        \u001b[49m\u001b[43mregistry\u001b[49m\u001b[43m,\u001b[49m\u001b[43m \u001b[49m\u001b[43mcls_\u001b[49m\u001b[43m,\u001b[49m\u001b[43m \u001b[49m\u001b[43mdict_\u001b[49m\u001b[43m,\u001b[49m\u001b[43m \u001b[49m\u001b[43mtable\u001b[49m\u001b[43m,\u001b[49m\u001b[43m \u001b[49m\u001b[43mmapper_kw\u001b[49m\n\u001b[1;32m    327\u001b[0m \u001b[43m    \u001b[49m\u001b[43m)\u001b[49m\n",
      "File \u001b[0;32m/usr/local/lib/python3.9/site-packages/sqlalchemy/orm/decl_base.py:575\u001b[0m, in \u001b[0;36m_ClassScanMapperConfig.__init__\u001b[0;34m(self, registry, cls_, dict_, table, mapper_kw)\u001b[0m\n\u001b[1;32m    571\u001b[0m \u001b[38;5;28mself\u001b[39m\u001b[38;5;241m.\u001b[39m_extract_mappable_attributes()\n\u001b[1;32m    573\u001b[0m \u001b[38;5;28mself\u001b[39m\u001b[38;5;241m.\u001b[39m_extract_declared_columns()\n\u001b[0;32m--> 575\u001b[0m \u001b[38;5;28;43mself\u001b[39;49m\u001b[38;5;241;43m.\u001b[39;49m\u001b[43m_setup_table\u001b[49m\u001b[43m(\u001b[49m\u001b[43mtable\u001b[49m\u001b[43m)\u001b[49m\n\u001b[1;32m    577\u001b[0m \u001b[38;5;28mself\u001b[39m\u001b[38;5;241m.\u001b[39m_setup_inheriting_columns(mapper_kw)\n\u001b[1;32m    579\u001b[0m \u001b[38;5;28mself\u001b[39m\u001b[38;5;241m.\u001b[39m_early_mapping(mapper_kw)\n",
      "File \u001b[0;32m/usr/local/lib/python3.9/site-packages/sqlalchemy/orm/decl_base.py:1726\u001b[0m, in \u001b[0;36m_ClassScanMapperConfig._setup_table\u001b[0;34m(self, table)\u001b[0m\n\u001b[1;32m   1718\u001b[0m             table_kw[\u001b[38;5;124m\"\u001b[39m\u001b[38;5;124mautoload\u001b[39m\u001b[38;5;124m\"\u001b[39m] \u001b[38;5;241m=\u001b[39m \u001b[38;5;28;01mTrue\u001b[39;00m\n\u001b[1;32m   1720\u001b[0m         sorted_columns \u001b[38;5;241m=\u001b[39m \u001b[38;5;28msorted\u001b[39m(\n\u001b[1;32m   1721\u001b[0m             declared_columns,\n\u001b[1;32m   1722\u001b[0m             key\u001b[38;5;241m=\u001b[39m\u001b[38;5;28;01mlambda\u001b[39;00m c: column_ordering\u001b[38;5;241m.\u001b[39mget(c, \u001b[38;5;241m0\u001b[39m),\n\u001b[1;32m   1723\u001b[0m         )\n\u001b[1;32m   1724\u001b[0m         table \u001b[38;5;241m=\u001b[39m \u001b[38;5;28mself\u001b[39m\u001b[38;5;241m.\u001b[39mset_cls_attribute(\n\u001b[1;32m   1725\u001b[0m             \u001b[38;5;124m\"\u001b[39m\u001b[38;5;124m__table__\u001b[39m\u001b[38;5;124m\"\u001b[39m,\n\u001b[0;32m-> 1726\u001b[0m             \u001b[43mtable_cls\u001b[49m\u001b[43m(\u001b[49m\n\u001b[1;32m   1727\u001b[0m \u001b[43m                \u001b[49m\u001b[43mtablename\u001b[49m\u001b[43m,\u001b[49m\n\u001b[1;32m   1728\u001b[0m \u001b[43m                \u001b[49m\u001b[38;5;28;43mself\u001b[39;49m\u001b[38;5;241;43m.\u001b[39;49m\u001b[43m_metadata_for_cls\u001b[49m\u001b[43m(\u001b[49m\u001b[43mmanager\u001b[49m\u001b[43m)\u001b[49m\u001b[43m,\u001b[49m\n\u001b[1;32m   1729\u001b[0m \u001b[43m                \u001b[49m\u001b[38;5;241;43m*\u001b[39;49m\u001b[43msorted_columns\u001b[49m\u001b[43m,\u001b[49m\n\u001b[1;32m   1730\u001b[0m \u001b[43m                \u001b[49m\u001b[38;5;241;43m*\u001b[39;49m\u001b[43margs\u001b[49m\u001b[43m,\u001b[49m\n\u001b[1;32m   1731\u001b[0m \u001b[43m                \u001b[49m\u001b[38;5;241;43m*\u001b[39;49m\u001b[38;5;241;43m*\u001b[39;49m\u001b[43mtable_kw\u001b[49m\u001b[43m,\u001b[49m\n\u001b[1;32m   1732\u001b[0m \u001b[43m            \u001b[49m\u001b[43m)\u001b[49m,\n\u001b[1;32m   1733\u001b[0m         )\n\u001b[1;32m   1734\u001b[0m \u001b[38;5;28;01melse\u001b[39;00m:\n\u001b[1;32m   1735\u001b[0m     \u001b[38;5;28;01mif\u001b[39;00m table \u001b[38;5;129;01mis\u001b[39;00m \u001b[38;5;28;01mNone\u001b[39;00m:\n",
      "File \u001b[0;32m<string>:2\u001b[0m, in \u001b[0;36m__new__\u001b[0;34m(cls, *args, **kw)\u001b[0m\n",
      "File \u001b[0;32m/usr/local/lib/python3.9/site-packages/sqlalchemy/util/deprecations.py:281\u001b[0m, in \u001b[0;36mdeprecated_params.<locals>.decorate.<locals>.warned\u001b[0;34m(fn, *args, **kwargs)\u001b[0m\n\u001b[1;32m    274\u001b[0m     \u001b[38;5;28;01mif\u001b[39;00m m \u001b[38;5;129;01min\u001b[39;00m kwargs:\n\u001b[1;32m    275\u001b[0m         _warn_with_version(\n\u001b[1;32m    276\u001b[0m             messages[m],\n\u001b[1;32m    277\u001b[0m             versions[m],\n\u001b[1;32m    278\u001b[0m             version_warnings[m],\n\u001b[1;32m    279\u001b[0m             stacklevel\u001b[38;5;241m=\u001b[39m\u001b[38;5;241m3\u001b[39m,\n\u001b[1;32m    280\u001b[0m         )\n\u001b[0;32m--> 281\u001b[0m \u001b[38;5;28;01mreturn\u001b[39;00m \u001b[43mfn\u001b[49m\u001b[43m(\u001b[49m\u001b[38;5;241;43m*\u001b[39;49m\u001b[43margs\u001b[49m\u001b[43m,\u001b[49m\u001b[43m \u001b[49m\u001b[38;5;241;43m*\u001b[39;49m\u001b[38;5;241;43m*\u001b[39;49m\u001b[43mkwargs\u001b[49m\u001b[43m)\u001b[49m\n",
      "File \u001b[0;32m/usr/local/lib/python3.9/site-packages/sqlalchemy/sql/schema.py:431\u001b[0m, in \u001b[0;36mTable.__new__\u001b[0;34m(cls, *args, **kw)\u001b[0m\n\u001b[1;32m    424\u001b[0m \u001b[38;5;129m@util\u001b[39m\u001b[38;5;241m.\u001b[39mdeprecated_params(\n\u001b[1;32m    425\u001b[0m     mustexist\u001b[38;5;241m=\u001b[39m(\n\u001b[1;32m    426\u001b[0m         \u001b[38;5;124m\"\u001b[39m\u001b[38;5;124m1.4\u001b[39m\u001b[38;5;124m\"\u001b[39m,\n\u001b[0;32m   (...)\u001b[0m\n\u001b[1;32m    429\u001b[0m )\n\u001b[1;32m    430\u001b[0m \u001b[38;5;28;01mdef\u001b[39;00m \u001b[38;5;21m__new__\u001b[39m(\u001b[38;5;28mcls\u001b[39m, \u001b[38;5;241m*\u001b[39margs: Any, \u001b[38;5;241m*\u001b[39m\u001b[38;5;241m*\u001b[39mkw: Any) \u001b[38;5;241m-\u001b[39m\u001b[38;5;241m>\u001b[39m Any:\n\u001b[0;32m--> 431\u001b[0m     \u001b[38;5;28;01mreturn\u001b[39;00m \u001b[38;5;28;43mcls\u001b[39;49m\u001b[38;5;241;43m.\u001b[39;49m\u001b[43m_new\u001b[49m\u001b[43m(\u001b[49m\u001b[38;5;241;43m*\u001b[39;49m\u001b[43margs\u001b[49m\u001b[43m,\u001b[49m\u001b[43m \u001b[49m\u001b[38;5;241;43m*\u001b[39;49m\u001b[38;5;241;43m*\u001b[39;49m\u001b[43mkw\u001b[49m\u001b[43m)\u001b[49m\n",
      "File \u001b[0;32m/usr/local/lib/python3.9/site-packages/sqlalchemy/sql/schema.py:463\u001b[0m, in \u001b[0;36mTable._new\u001b[0;34m(cls, *args, **kw)\u001b[0m\n\u001b[1;32m    461\u001b[0m \u001b[38;5;28;01mif\u001b[39;00m key \u001b[38;5;129;01min\u001b[39;00m metadata\u001b[38;5;241m.\u001b[39mtables:\n\u001b[1;32m    462\u001b[0m     \u001b[38;5;28;01mif\u001b[39;00m \u001b[38;5;129;01mnot\u001b[39;00m keep_existing \u001b[38;5;129;01mand\u001b[39;00m \u001b[38;5;129;01mnot\u001b[39;00m extend_existing \u001b[38;5;129;01mand\u001b[39;00m \u001b[38;5;28mbool\u001b[39m(args):\n\u001b[0;32m--> 463\u001b[0m         \u001b[38;5;28;01mraise\u001b[39;00m exc\u001b[38;5;241m.\u001b[39mInvalidRequestError(\n\u001b[1;32m    464\u001b[0m             \u001b[38;5;124mf\u001b[39m\u001b[38;5;124m\"\u001b[39m\u001b[38;5;124mTable \u001b[39m\u001b[38;5;124m'\u001b[39m\u001b[38;5;132;01m{\u001b[39;00mkey\u001b[38;5;132;01m}\u001b[39;00m\u001b[38;5;124m'\u001b[39m\u001b[38;5;124m is already defined for this MetaData \u001b[39m\u001b[38;5;124m\"\u001b[39m\n\u001b[1;32m    465\u001b[0m             \u001b[38;5;124m\"\u001b[39m\u001b[38;5;124minstance.  Specify \u001b[39m\u001b[38;5;124m'\u001b[39m\u001b[38;5;124mextend_existing=True\u001b[39m\u001b[38;5;124m'\u001b[39m\u001b[38;5;124m \u001b[39m\u001b[38;5;124m\"\u001b[39m\n\u001b[1;32m    466\u001b[0m             \u001b[38;5;124m\"\u001b[39m\u001b[38;5;124mto redefine \u001b[39m\u001b[38;5;124m\"\u001b[39m\n\u001b[1;32m    467\u001b[0m             \u001b[38;5;124m\"\u001b[39m\u001b[38;5;124moptions and columns on an \u001b[39m\u001b[38;5;124m\"\u001b[39m\n\u001b[1;32m    468\u001b[0m             \u001b[38;5;124m\"\u001b[39m\u001b[38;5;124mexisting Table object.\u001b[39m\u001b[38;5;124m\"\u001b[39m\n\u001b[1;32m    469\u001b[0m         )\n\u001b[1;32m    470\u001b[0m     table \u001b[38;5;241m=\u001b[39m metadata\u001b[38;5;241m.\u001b[39mtables[key]\n\u001b[1;32m    471\u001b[0m     \u001b[38;5;28;01mif\u001b[39;00m extend_existing:\n",
      "\u001b[0;31mInvalidRequestError\u001b[0m: Table 'event' is already defined for this MetaData instance.  Specify 'extend_existing=True' to redefine options and columns on an existing Table object."
     ]
    }
   ],
   "source": [
    "from sqlmodel import SQLModel, Field\n",
    "from datetime import datetime\n",
    "from sqlalchemy.sql import func\n",
    "\n",
    "\n",
    "class Event(SQLModel, table=True):\n",
    "    id: int = Field(default=None, primary_key=True)\n",
    "    name: str\n",
    "    description: str\n",
    "    event_time: datetime\n",
    "\n",
    "    # Automatically set the creation timestamp\n",
    "    created_at: datetime = Field(default_factory=datetime.utcnow, nullable=False)\n",
    "\n",
    "    # Automatically update the timestamp on each update\n",
    "    updated_at: datetime = Field(\n",
    "        sa_column_kwargs={\"server_default\": func.now(), \"onupdate\": func.now()},\n",
    "        default_factory=datetime.utcnow,\n",
    "        nullable=False\n",
    "    )    \n",
    "\n",
    "PG_USER = \"root\"\n",
    "PG_PASSWORD = \"your-password\"\n",
    "PG_HOST = \"db\"  # e.g., localhost, 127.0.0.1\n",
    "PG_PORT = \"5432\" # default port for postgresql\n",
    "PG_DATABASE = \"postgres\"\n",
    "\n",
    "PG_URL = f\"postgresql://{PG_USER}:{PG_PASSWORD}@{PG_HOST}:{PG_PORT}/{PG_DATABASE}\"\n",
    "\n",
    "\n",
    "engine = create_engine(PG_URL)\n",
    "SQLModel.metadata.create_all(engine)\n"
   ]
  },
  {
   "cell_type": "code",
   "execution_count": 32,
   "id": "f3d51bab-e6eb-441f-a1d8-04bb4ec491b1",
   "metadata": {},
   "outputs": [
    {
     "name": "stdout",
     "output_type": "stream",
     "text": [
      "Event created: description='Launch of new product' event_time=datetime.datetime(2025, 2, 3, 16, 0, 42, 734206) id=2 name='Product Launch'\n"
     ]
    }
   ],
   "source": [
    "from datetime import datetime\n",
    "\n",
    "# Create an instance of the Event model with a datetime value\n",
    "event = Event(\n",
    "    name=\"Product Launch\",\n",
    "    description=\"Launch of new product\",\n",
    "    event_time=datetime.now()  # Year, Month, Day, Hour, Minute\n",
    ")\n",
    "\n",
    "# Add the event to the database\n",
    "with Session(engine) as session:\n",
    "    session.add(event)\n",
    "    session.commit()\n",
    "    session.refresh(event)\n",
    "\n",
    "print(f\"Event created: {event}\")"
   ]
  },
  {
   "cell_type": "code",
   "execution_count": 1,
   "id": "b9f2ca20-3095-4a5f-93ed-d80ef0f42b3f",
   "metadata": {},
   "outputs": [
    {
     "name": "stdout",
     "output_type": "stream",
     "text": [
      "Tables created successfully.\n",
      "Event created: id=1 name='Test Event' event_time=datetime.datetime(2025, 2, 3, 20, 28, 25, 689162) updated_at=datetime.datetime(2025, 2, 3, 20, 28, 25, 690524) description='This is a test' created_at=datetime.datetime(2025, 2, 3, 20, 28, 25, 690522)\n"
     ]
    }
   ],
   "source": [
    "from sqlmodel import SQLModel, Field\n",
    "from datetime import datetime\n",
    "from sqlalchemy.sql import func\n",
    "from sqlalchemy.exc import OperationalError\n",
    "from sqlmodel import create_engine, Session\n",
    "\n",
    "# Define the Event model\n",
    "class Event(SQLModel, table=True):\n",
    "    id: int = Field(default=None, primary_key=True)\n",
    "    name: str\n",
    "    description: str\n",
    "    event_time: datetime\n",
    "\n",
    "    # Automatically set the creation timestamp\n",
    "    created_at: datetime = Field(default_factory=datetime.utcnow, nullable=False)\n",
    "\n",
    "    # Automatically update the timestamp on each update\n",
    "    updated_at: datetime = Field(\n",
    "        sa_column_kwargs={\"server_default\": func.now(), \"onupdate\": func.now()},\n",
    "        default_factory=datetime.utcnow,\n",
    "        nullable=False\n",
    "    )\n",
    "\n",
    "# Database configuration\n",
    "PG_USER = \"root\"\n",
    "PG_PASSWORD = \"your-password\"\n",
    "PG_HOST = \"db\"  # e.g., localhost, 127.0.0.1\n",
    "PG_PORT = \"5432\"  # Default port for PostgreSQL\n",
    "PG_DATABASE = \"postgres\"\n",
    "\n",
    "PG_URL = f\"postgresql://{PG_USER}:{PG_PASSWORD}@{PG_HOST}:{PG_PORT}/{PG_DATABASE}\"\n",
    "\n",
    "# Create the engine\n",
    "engine = create_engine(PG_URL)\n",
    "\n",
    "# Create tables\n",
    "try:\n",
    "    SQLModel.metadata.create_all(engine)\n",
    "    print(\"Tables created successfully.\")\n",
    "except OperationalError as e:\n",
    "    print(f\"Database connection error: {e}\")\n",
    "except Exception as e:\n",
    "    print(f\"An unexpected error occurred: {e}\")\n",
    "\n",
    "# Example: Insert a row into the Event table\n",
    "def create_event():\n",
    "    event = Event(name=\"Test Event\", description=\"This is a test\", event_time=datetime.utcnow())\n",
    "    with Session(engine) as session:\n",
    "        session.add(event)\n",
    "        try:\n",
    "            session.commit()\n",
    "            session.refresh(event)\n",
    "            print(f\"Event created: {event}\")\n",
    "        except Exception as e:\n",
    "            print(f\"Error inserting event: {e}\")\n",
    "\n",
    "if __name__ == \"__main__\":\n",
    "    create_event()"
   ]
  },
  {
   "cell_type": "code",
   "execution_count": 3,
   "id": "8fdbe23d-c40b-4b63-b496-e670e64c4d2a",
   "metadata": {},
   "outputs": [
    {
     "name": "stdout",
     "output_type": "stream",
     "text": [
      "Event created: id=2 name='Test Event 2' event_time=datetime.datetime(2025, 2, 3, 22, 22, 57, 710486) updated_at=datetime.datetime(2025, 2, 3, 22, 22, 57, 711891) description='This is a test 2' created_at=datetime.datetime(2025, 2, 3, 22, 22, 57, 711889)\n"
     ]
    }
   ],
   "source": [
    "event = Event(name=\"Test Event 2\", description=\"This is a test 2\", event_time=datetime.utcnow())\n",
    "with Session(engine) as session:\n",
    "    session.add(event)\n",
    "    try:\n",
    "        session.commit()\n",
    "        session.refresh(event)\n",
    "        print(f\"Event created: {event}\")\n",
    "    except Exception as e:\n",
    "        print(f\"Error inserting event: {e}\")"
   ]
  },
  {
   "cell_type": "code",
   "execution_count": 8,
   "id": "a8ed8df5-ba6e-4e39-b1c5-58394876ffb5",
   "metadata": {},
   "outputs": [],
   "source": [
    "def update_event(event_id: int, updated_event: Event):\n",
    "    with Session(engine) as session:\n",
    "        event = session.get(Event, event_id)\n",
    "        if event:\n",
    "            event.name = updated_event.name\n",
    "            event.description = updated_event.description\n",
    "            event.event_time = updated_event.event_time\n",
    "            session.add(event)\n",
    "            session.commit()\n",
    "            session.refresh(event)\n",
    "            print(f\"Event updated: {event}\")\n",
    "        else:\n",
    "            print(f\"Product with ID {event_id} not found.\")"
   ]
  },
  {
   "cell_type": "code",
   "execution_count": 10,
   "id": "a573d5ea-217f-4ee8-b354-7d5278221cd9",
   "metadata": {},
   "outputs": [
    {
     "name": "stdout",
     "output_type": "stream",
     "text": [
      "Event updated: id=1 name='Ben' event_time=datetime.datetime(2025, 2, 3, 22, 31, 42, 402387) updated_at=datetime.datetime(2025, 2, 3, 22, 31, 42, 407742) description='Bensh_2' created_at=datetime.datetime(2025, 2, 3, 20, 28, 25, 690522)\n"
     ]
    }
   ],
   "source": [
    "event = Event(name=\"Ben\", description=\"Bensh_2\", event_time=datetime.utcnow())\n",
    "update_event(event_id=1,updated_event=event)"
   ]
  }
 ],
 "metadata": {
  "kernelspec": {
   "display_name": "Python 3 (ipykernel)",
   "language": "python",
   "name": "python3"
  },
  "language_info": {
   "codemirror_mode": {
    "name": "ipython",
    "version": 3
   },
   "file_extension": ".py",
   "mimetype": "text/x-python",
   "name": "python",
   "nbconvert_exporter": "python",
   "pygments_lexer": "ipython3",
   "version": "3.10.12"
  }
 },
 "nbformat": 4,
 "nbformat_minor": 5
}
